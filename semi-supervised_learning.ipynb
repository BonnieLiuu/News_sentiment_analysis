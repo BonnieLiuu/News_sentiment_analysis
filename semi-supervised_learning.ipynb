{
 "cells": [
  {
   "cell_type": "code",
   "execution_count": 1,
   "metadata": {
    "collapsed": true
   },
   "outputs": [],
   "source": [
    "import pandas as pd \n",
    "import math\n",
    "import matplotlib.pyplot as plt\n",
    "%matplotlib inline\n",
    "import numpy as np\n",
    "import nltk\n",
    "from nltk.corpus import brown\n",
    "from nltk import word_tokenize\n",
    "import scipy.stats\n",
    "from sklearn.preprocessing import LabelEncoder\n",
    "from sklearn.model_selection import train_test_split"
   ]
  },
  {
   "cell_type": "code",
   "execution_count": 2,
   "metadata": {
    "collapsed": true
   },
   "outputs": [],
   "source": [
    "from xgboost import XGBRegressor\n",
    "import xgboost as xgb\n",
    "from sklearn.metrics import accuracy_score,recall_score,confusion_matrix\n",
    "from sklearn import svm\n",
    "from sklearn.linear_model import BayesianRidge, Ridge, ElasticNet\n",
    "from sklearn.neighbors import KNeighborsRegressor\n",
    "from sklearn.ensemble import RandomForestRegressor, ExtraTreesRegressor, GradientBoostingRegressor\n",
    "#from sklearn.neural_network import MLPRegressor\n",
    "from sklearn.metrics import mean_squared_error\n",
    "from sklearn.model_selection import cross_val_score"
   ]
  },
  {
   "cell_type": "code",
   "execution_count": 121,
   "metadata": {
    "collapsed": true
   },
   "outputs": [],
   "source": [
    "'''\n",
    "#df_nolabel = pd.read_csv(\"bof_training_db_withoutlabel.csv\", sep=',')\n",
    "df_train1000 = pd.read_csv(\"bof_training_db_1000label.csv\", sep=',')\n",
    "#df_withlabel = pd.read_csv(\"bof_training_db_withlabel.csv\", sep=',')\n",
    "df_test5561 = pd.read_csv(\"bof_training_testdb_1000label.csv\", sep=',')\n",
    "'''"
   ]
  },
  {
   "cell_type": "code",
   "execution_count": 104,
   "metadata": {
    "collapsed": true
   },
   "outputs": [],
   "source": [
    "'''\n",
    "#df_nolabel.drop(['Unnamed: 0'], axis=1)\n",
    "traindb = df_train1000.drop(['Unnamed: 0'], axis=1)\n",
    "testdb = df_test5561.drop(['Unnamed: 0'], axis=1)\n",
    "'''"
   ]
  },
  {
   "cell_type": "code",
   "execution_count": 791,
   "metadata": {},
   "outputs": [
    {
     "data": {
      "text/plain": [
       "3"
      ]
     },
     "execution_count": 791,
     "metadata": {},
     "output_type": "execute_result"
    }
   ],
   "source": [
    "df_18 = pd.read_csv(\"bof_training_db_manuallabel.csv\", sep=',')"
   ]
  },
  {
   "cell_type": "code",
   "execution_count": 3,
   "metadata": {
    "collapsed": true
   },
   "outputs": [],
   "source": [
    "df_train1000 = pd.read_csv(\"bof_training_db_manuallabel.csv\", sep=',')\n",
    "df_train1000 = df_train1000.drop(['Unnamed: 0'], axis=1)"
   ]
  },
  {
   "cell_type": "code",
   "execution_count": 4,
   "metadata": {
    "collapsed": true
   },
   "outputs": [],
   "source": [
    "#load unlabeled data\n",
    "df_unlabel = pd.read_csv(\"bof_training_db_withlabel.csv\", sep=',')\n",
    "df_unlabel = df_unlabel.drop(['Unnamed: 0'], axis=1)\n",
    "for row_numb in range(len(df_unlabel)):\n",
    "    if (df_unlabel.loc[row_numb,'label']) == 0:\n",
    "        df_unlabel.loc[row_numb,'label'] = -1"
   ]
  },
  {
   "cell_type": "code",
   "execution_count": 6,
   "metadata": {
    "collapsed": true
   },
   "outputs": [],
   "source": [
    "#delete manuallabel from test set\n",
    "test = df_unlabel.append(df_train1000)\n",
    "test = test.drop(['manual_label'], axis=1)\n",
    "test = test.drop_duplicates(keep=False)"
   ]
  },
  {
   "cell_type": "code",
   "execution_count": 7,
   "metadata": {},
   "outputs": [
    {
     "data": {
      "text/plain": [
       "' portland, united states -- alongside sneakers, gym shorts, and yoga pants, sportswear brands are adding one more must-have to their list of products: workout apps.unlike nike inc., which has been developing its own running and sports apps for years, rivals have taken to acquiring startups to stay relevant among gym rats who want to quantify their every step, jump, and calorie burned. Adidas, Asics, Under Armour Spend $1 Billion on Fitness Apps. \"the fitness brands have been aspiring to have a relationship with the consumers early and establish an ongoing relationship with consumers,\" he said. that strategy can build more loyalty with customers, and buying an established app offers clothing and footwear companies a quicker way onto the market than building from scratch. \"people want to be connected, track their stats, update their records,\" said roger entner, a technology analyst at recon analytics. \"runners will be more loyal to the shoe brand if it also has all your stats. imagine the hassle to switch the data from one app to the next.\" roger kay, an analyst at endpoint technologies associates, said the shopping spree for fitness likely isn\\'t over. '"
      ]
     },
     "execution_count": 7,
     "metadata": {},
     "output_type": "execute_result"
    }
   ],
   "source": [
    "df_train1000.iloc[16].sub_content"
   ]
  },
  {
   "cell_type": "code",
   "execution_count": 8,
   "metadata": {},
   "outputs": [
    {
     "data": {
      "text/plain": [
       " 1.0    5990\n",
       "-1.0    1263\n",
       "Name: label, dtype: int64"
      ]
     },
     "execution_count": 8,
     "metadata": {},
     "output_type": "execute_result"
    }
   ],
   "source": [
    "test['label'].value_counts()"
   ]
  },
  {
   "cell_type": "code",
   "execution_count": 9,
   "metadata": {
    "collapsed": true
   },
   "outputs": [],
   "source": [
    "#change 0 maunal_label to -1 \n",
    "for row_numb in range(len(df_train1000)):\n",
    "    if (df_train1000.loc[row_numb,'manual_label']) == 0:\n",
    "        df_train1000.loc[row_numb,'manual_label'] = -1"
   ]
  },
  {
   "cell_type": "code",
   "execution_count": null,
   "metadata": {
    "collapsed": true
   },
   "outputs": [],
   "source": []
  },
  {
   "cell_type": "code",
   "execution_count": 10,
   "metadata": {
    "collapsed": true
   },
   "outputs": [],
   "source": [
    "traindb = df_train1000"
   ]
  },
  {
   "cell_type": "code",
   "execution_count": 11,
   "metadata": {},
   "outputs": [
    {
     "data": {
      "text/html": [
       "<div>\n",
       "<style>\n",
       "    .dataframe thead tr:only-child th {\n",
       "        text-align: right;\n",
       "    }\n",
       "\n",
       "    .dataframe thead th {\n",
       "        text-align: left;\n",
       "    }\n",
       "\n",
       "    .dataframe tbody tr th {\n",
       "        vertical-align: top;\n",
       "    }\n",
       "</style>\n",
       "<table border=\"1\" class=\"dataframe\">\n",
       "  <thead>\n",
       "    <tr style=\"text-align: right;\">\n",
       "      <th></th>\n",
       "      <th>id</th>\n",
       "      <th>summary</th>\n",
       "      <th>title</th>\n",
       "      <th>tags</th>\n",
       "      <th>sub_content</th>\n",
       "      <th>content</th>\n",
       "      <th>content_score</th>\n",
       "      <th>summary_score</th>\n",
       "      <th>sum_score</th>\n",
       "      <th>label</th>\n",
       "      <th>manual_label</th>\n",
       "    </tr>\n",
       "  </thead>\n",
       "  <tbody>\n",
       "    <tr>\n",
       "      <th>0</th>\n",
       "      <td>64167</td>\n",
       "      <td>the savigny luxury index lost ground in octobe...</td>\n",
       "      <td>Market Pulse | Big Shoes to Fill</td>\n",
       "      <td>prada</td>\n",
       "      <td>will privately-held chanel become the leading ...</td>\n",
       "      <td>london, united kingdom -- exceptionally, the ...</td>\n",
       "      <td>0.750000</td>\n",
       "      <td>0.35</td>\n",
       "      <td>0.630000</td>\n",
       "      <td>1</td>\n",
       "      <td>1</td>\n",
       "    </tr>\n",
       "    <tr>\n",
       "      <th>1</th>\n",
       "      <td>342685</td>\n",
       "      <td>lvmh is considering a change of creative direc...</td>\n",
       "      <td>Update: Louis Vuitton Denies Report of Nicolas...</td>\n",
       "      <td>lvmh</td>\n",
       "      <td>update: speaking to bof, a spokesperson for l...</td>\n",
       "      <td>update: speaking to bof, a spokesperson for l...</td>\n",
       "      <td>0.666667</td>\n",
       "      <td>0.50</td>\n",
       "      <td>0.616667</td>\n",
       "      <td>1</td>\n",
       "      <td>1</td>\n",
       "    </tr>\n",
       "    <tr>\n",
       "      <th>2</th>\n",
       "      <td>205004</td>\n",
       "      <td>nike inc. reported a 4.1 percent rise in quart...</td>\n",
       "      <td>Nike Sales Rise 4.1 Percent as Demand Jumps in...</td>\n",
       "      <td>beaverton</td>\n",
       "      <td>beaverton, united states -- nike inc, the wor...</td>\n",
       "      <td>beaverton, united states -- nike inc, the wor...</td>\n",
       "      <td>0.566667</td>\n",
       "      <td>0.60</td>\n",
       "      <td>0.576667</td>\n",
       "      <td>1</td>\n",
       "      <td>1</td>\n",
       "    </tr>\n",
       "    <tr>\n",
       "      <th>3</th>\n",
       "      <td>98996</td>\n",
       "      <td>bof speaks to swiss fashion photographer hans ...</td>\n",
       "      <td>Hans Feurer: 'Behind Fashion There Is Always a...</td>\n",
       "      <td>france</td>\n",
       "      <td>paris, france -- \"i love women.i have a lot o...</td>\n",
       "      <td>paris, france -- \"i love women. i have a lot ...</td>\n",
       "      <td>0.500000</td>\n",
       "      <td>0.70</td>\n",
       "      <td>0.560000</td>\n",
       "      <td>1</td>\n",
       "      <td>-1</td>\n",
       "    </tr>\n",
       "    <tr>\n",
       "      <th>4</th>\n",
       "      <td>181181</td>\n",
       "      <td>inditex sa reported first-half profit that mat...</td>\n",
       "      <td>Inditex First-Half Profit Rises on Zara Owner’...</td>\n",
       "      <td>madrid</td>\n",
       "      <td>madrid, spain -- inditex sa, the world's larg...</td>\n",
       "      <td>madrid, spain -- inditex sa, the world's larg...</td>\n",
       "      <td>0.550000</td>\n",
       "      <td>0.50</td>\n",
       "      <td>0.535000</td>\n",
       "      <td>1</td>\n",
       "      <td>1</td>\n",
       "    </tr>\n",
       "  </tbody>\n",
       "</table>\n",
       "</div>"
      ],
      "text/plain": [
       "       id                                            summary  \\\n",
       "0   64167  the savigny luxury index lost ground in octobe...   \n",
       "1  342685  lvmh is considering a change of creative direc...   \n",
       "2  205004  nike inc. reported a 4.1 percent rise in quart...   \n",
       "3   98996  bof speaks to swiss fashion photographer hans ...   \n",
       "4  181181  inditex sa reported first-half profit that mat...   \n",
       "\n",
       "                                               title       tags  \\\n",
       "0                   Market Pulse | Big Shoes to Fill      prada   \n",
       "1  Update: Louis Vuitton Denies Report of Nicolas...       lvmh   \n",
       "2  Nike Sales Rise 4.1 Percent as Demand Jumps in...  beaverton   \n",
       "3  Hans Feurer: 'Behind Fashion There Is Always a...     france   \n",
       "4  Inditex First-Half Profit Rises on Zara Owner’...     madrid   \n",
       "\n",
       "                                         sub_content  \\\n",
       "0  will privately-held chanel become the leading ...   \n",
       "1   update: speaking to bof, a spokesperson for l...   \n",
       "2   beaverton, united states -- nike inc, the wor...   \n",
       "3   paris, france -- \"i love women.i have a lot o...   \n",
       "4   madrid, spain -- inditex sa, the world's larg...   \n",
       "\n",
       "                                             content  content_score  \\\n",
       "0   london, united kingdom -- exceptionally, the ...       0.750000   \n",
       "1   update: speaking to bof, a spokesperson for l...       0.666667   \n",
       "2   beaverton, united states -- nike inc, the wor...       0.566667   \n",
       "3   paris, france -- \"i love women. i have a lot ...       0.500000   \n",
       "4   madrid, spain -- inditex sa, the world's larg...       0.550000   \n",
       "\n",
       "   summary_score  sum_score  label  manual_label  \n",
       "0           0.35   0.630000      1             1  \n",
       "1           0.50   0.616667      1             1  \n",
       "2           0.60   0.576667      1             1  \n",
       "3           0.70   0.560000      1            -1  \n",
       "4           0.50   0.535000      1             1  "
      ]
     },
     "execution_count": 11,
     "metadata": {},
     "output_type": "execute_result"
    }
   ],
   "source": [
    "traindb.head()"
   ]
  },
  {
   "cell_type": "markdown",
   "metadata": {},
   "source": [
    "# preprocessing"
   ]
  },
  {
   "cell_type": "code",
   "execution_count": 12,
   "metadata": {
    "collapsed": true
   },
   "outputs": [],
   "source": [
    "traindb = traindb.drop(['id','content','title'], axis=1)\n",
    "#testdb = testdb.drop(['id','content','sub_content','summary','title'], axis=1)"
   ]
  },
  {
   "cell_type": "code",
   "execution_count": 13,
   "metadata": {
    "collapsed": true
   },
   "outputs": [],
   "source": [
    "test = test.drop(['id','content','title'], axis=1)\n",
    "#tag one-hot-code\n",
    "#df_temp = pd.get_dummies(traindb['tags'],prefix='tags', drop_first=True)\n",
    "#traindb = traindb.join(df_temp)\n",
    "#traindb = traindb.drop(['tags'], axis=1)"
   ]
  },
  {
   "cell_type": "code",
   "execution_count": null,
   "metadata": {
    "collapsed": true
   },
   "outputs": [],
   "source": []
  },
  {
   "cell_type": "code",
   "execution_count": 14,
   "metadata": {
    "collapsed": true
   },
   "outputs": [],
   "source": [
    "#split train and validation set\n",
    "y = traindb['manual_label']\n",
    "X = traindb.drop(['manual_label'], axis=1)\n",
    "X_train, X_validation, y_train, y_validation = train_test_split(\n",
    "X, y, test_size=0.17, random_state=42)"
   ]
  },
  {
   "cell_type": "code",
   "execution_count": 15,
   "metadata": {},
   "outputs": [
    {
     "data": {
      "text/plain": [
       " 1    96\n",
       "-1    73\n",
       "Name: manual_label, dtype: int64"
      ]
     },
     "execution_count": 15,
     "metadata": {},
     "output_type": "execute_result"
    }
   ],
   "source": [
    "y_validation.value_counts()"
   ]
  },
  {
   "cell_type": "code",
   "execution_count": 16,
   "metadata": {
    "collapsed": true
   },
   "outputs": [],
   "source": [
    "y_validation = pd.DataFrame(data=y_validation, columns=['manual_label'] )"
   ]
  },
  {
   "cell_type": "code",
   "execution_count": 17,
   "metadata": {
    "collapsed": true
   },
   "outputs": [],
   "source": [
    "y_train = pd.DataFrame(data=y_train, columns=['manual_label'] )"
   ]
  },
  {
   "cell_type": "code",
   "execution_count": 17,
   "metadata": {},
   "outputs": [
    {
     "data": {
      "text/plain": [
       "'\\ndef Sentencetoken(corpus):\\n    traindb.iloc[0].sub_content.split()\\n\\nfrom nltk.tokenize import sent_tokenize\\ntemp_sentence = sent_tokenize(traindb.loc[4,\\'sub_content\\'])\\nx = traindb.loc[16,\\'sub_content\\']\\ntext=\"this\\'s a sent tokenize test. this is sent two. is this sent three?\" \\ntemp_sentence = sent_tokenize(x)\\ntemp_sentence\\n'"
      ]
     },
     "execution_count": 17,
     "metadata": {},
     "output_type": "execute_result"
    }
   ],
   "source": [
    "'''\n",
    "def Sentencetoken(corpus):\n",
    "    traindb.iloc[0].sub_content.split()\n",
    "\n",
    "from nltk.tokenize import sent_tokenize\n",
    "temp_sentence = sent_tokenize(traindb.loc[4,'sub_content'])\n",
    "x = traindb.loc[16,'sub_content']\n",
    "text=\"this's a sent tokenize test. this is sent two. is this sent three?\" \n",
    "temp_sentence = sent_tokenize(x)\n",
    "temp_sentence\n",
    "'''"
   ]
  },
  {
   "cell_type": "code",
   "execution_count": 18,
   "metadata": {},
   "outputs": [
    {
     "data": {
      "text/plain": [
       "823"
      ]
     },
     "execution_count": 18,
     "metadata": {},
     "output_type": "execute_result"
    }
   ],
   "source": [
    "len(X_train)"
   ]
  },
  {
   "cell_type": "markdown",
   "metadata": {},
   "source": [
    "# word2vec"
   ]
  },
  {
   "cell_type": "code",
   "execution_count": 19,
   "metadata": {
    "collapsed": true
   },
   "outputs": [],
   "source": [
    "# Import various modules for string cleaning\n",
    "from bs4 import BeautifulSoup\n",
    "import re\n",
    "from nltk.corpus import stopwords\n",
    "\n",
    "def content_to_wordlist( content, remove_stopwords=False ):\n",
    "    # Function to convert a document to a sequence of words,\n",
    "    # optionally removing stop words.  Returns a list of words.\n",
    "    #\n",
    "    # 1. Remove HTML\n",
    "    content_text = BeautifulSoup(content, 'lxml').get_text()\n",
    "    #  \n",
    "    # 2. Remove non-letters\n",
    "    content_text = re.sub(\"[^a-zA-Z]\",\" \", content_text)\n",
    "    #\n",
    "    # 3. Convert words to lower case and split them\n",
    "    words = content_text.lower().split()\n",
    "    #\n",
    "    # 4. Optionally remove stop words (false by default)\n",
    "    if remove_stopwords:\n",
    "        stops = set(stopwords.words(\"english\"))\n",
    "        words = [w for w in words if not w in stops]\n",
    "    #\n",
    "    # 5. Return a list of words\n",
    "    return(words)"
   ]
  },
  {
   "cell_type": "code",
   "execution_count": 20,
   "metadata": {
    "collapsed": true
   },
   "outputs": [],
   "source": [
    "# Download the punkt tokenizer for sentence splitting\n",
    "import nltk.data\n",
    "#nltk.download()   \n",
    "\n",
    "# Load the punkt tokenizer\n",
    "tokenizer = nltk.data.load('tokenizers/punkt/english.pickle')\n",
    "\n",
    "# Define a function to split a content into parsed sentences\n",
    "def content_to_sentences( content, tokenizer, remove_stopwords=False ):\n",
    "    # Function to split a content into parsed sentences. Returns a \n",
    "    # list of sentences, where each sentence is a list of words\n",
    "    #\n",
    "    # 1. Use the NLTK tokenizer to split the paragraph into sentences\n",
    "    raw_sentences = tokenizer.tokenize(content.strip())\n",
    "    #\n",
    "    # 2. Loop over each sentence\n",
    "    sentences = []\n",
    "    for raw_sentence in raw_sentences:\n",
    "        # If a sentence is empty, skip it\n",
    "        if len(raw_sentence) > 0:\n",
    "            # Otherwise, call contentreview_to_wordlist to get a list of words\n",
    "            sentences.append( content_to_wordlist( raw_sentence, \n",
    "              remove_stopwords ))\n",
    "    #\n",
    "    # Return the list of sentences (each sentence is a list of words,\n",
    "    # so this returns a list of lists\n",
    "    return sentences"
   ]
  },
  {
   "cell_type": "code",
   "execution_count": 21,
   "metadata": {},
   "outputs": [
    {
     "name": "stdout",
     "output_type": "stream",
     "text": [
      "Parsing sentences from training set\n",
      "Parsing sentences from validation set\n",
      "Parsing sentences from unlabeled set\n"
     ]
    }
   ],
   "source": [
    "sentences = []  # Initialize an empty list of sentences\n",
    "\n",
    "print (\"Parsing sentences from training set\")\n",
    "for content in X_train[\"sub_content\"]:\n",
    "    sentences += content_to_sentences(content, tokenizer)\n",
    "\n",
    "print (\"Parsing sentences from validation set\")\n",
    "for content in X_validation[\"sub_content\"]:\n",
    "    sentences += content_to_sentences(content, tokenizer)\n",
    "    \n",
    "print (\"Parsing sentences from unlabeled set\")\n",
    "for content in test[\"sub_content\"]:\n",
    "    sentences += content_to_sentences(content, tokenizer)"
   ]
  },
  {
   "cell_type": "code",
   "execution_count": 22,
   "metadata": {},
   "outputs": [
    {
     "name": "stdout",
     "output_type": "stream",
     "text": [
      "7253\n"
     ]
    }
   ],
   "source": [
    "print(len(test))"
   ]
  },
  {
   "cell_type": "code",
   "execution_count": 100,
   "metadata": {
    "collapsed": true
   },
   "outputs": [
    {
     "name": "stderr",
     "output_type": "stream",
     "text": [
      "2018-07-30 00:52:14,775 : INFO : collecting all words and their counts\n",
      "2018-07-30 00:52:14,778 : INFO : PROGRESS: at sentence #0, processed 0 words, keeping 0 word types\n",
      "2018-07-30 00:52:14,868 : INFO : PROGRESS: at sentence #10000, processed 459859 words, keeping 18645 word types\n"
     ]
    },
    {
     "name": "stdout",
     "output_type": "stream",
     "text": [
      "Training model...\n"
     ]
    },
    {
     "name": "stderr",
     "output_type": "stream",
     "text": [
      "2018-07-30 00:52:15,010 : INFO : PROGRESS: at sentence #20000, processed 1292474 words, keeping 27310 word types\n",
      "2018-07-30 00:52:15,076 : INFO : collected 29431 word types from a corpus of 1632287 raw words and 25445 sentences\n",
      "2018-07-30 00:52:15,077 : INFO : Loading a fresh vocabulary\n",
      "2018-07-30 00:52:15,201 : INFO : effective_min_count=3 retains 18675 unique words (63% of original 29431, drops 10756)\n",
      "2018-07-30 00:52:15,203 : INFO : effective_min_count=3 leaves 1617754 word corpus (99% of original 1632287, drops 14533)\n",
      "2018-07-30 00:52:15,250 : INFO : deleting the raw counts dictionary of 29431 items\n",
      "2018-07-30 00:52:15,252 : INFO : sample=0.001 downsamples 39 most-common words\n",
      "2018-07-30 00:52:15,253 : INFO : downsampling leaves estimated 1277764 word corpus (79.0% of prior 1617754)\n",
      "2018-07-30 00:52:15,302 : INFO : estimated required memory for 18675 words and 100 dimensions: 24277500 bytes\n",
      "2018-07-30 00:52:15,303 : INFO : resetting layer weights\n",
      "2018-07-30 00:52:15,478 : INFO : training model with 3 workers on 18675 vocabulary and 100 features, using sg=0 hs=0 sample=0.001 negative=5 window=4\n",
      "2018-07-30 00:52:16,461 : INFO : worker thread finished; awaiting finish of 2 more threads\n",
      "2018-07-30 00:52:16,463 : INFO : worker thread finished; awaiting finish of 1 more threads\n",
      "2018-07-30 00:52:16,467 : INFO : worker thread finished; awaiting finish of 0 more threads\n",
      "2018-07-30 00:52:16,468 : INFO : EPOCH - 1 : training on 1632287 raw words (1277303 effective words) took 1.0s, 1305301 effective words/s\n",
      "2018-07-30 00:52:17,479 : INFO : EPOCH 2 - PROGRESS: at 85.90% examples, 1102647 words/s, in_qsize 5, out_qsize 0\n",
      "2018-07-30 00:52:17,610 : INFO : worker thread finished; awaiting finish of 2 more threads\n",
      "2018-07-30 00:52:17,613 : INFO : worker thread finished; awaiting finish of 1 more threads\n",
      "2018-07-30 00:52:17,616 : INFO : worker thread finished; awaiting finish of 0 more threads\n",
      "2018-07-30 00:52:17,617 : INFO : EPOCH - 2 : training on 1632287 raw words (1278034 effective words) took 1.1s, 1116060 effective words/s\n",
      "2018-07-30 00:52:18,625 : INFO : EPOCH 3 - PROGRESS: at 88.09% examples, 1130029 words/s, in_qsize 5, out_qsize 0\n",
      "2018-07-30 00:52:18,711 : INFO : worker thread finished; awaiting finish of 2 more threads\n",
      "2018-07-30 00:52:18,714 : INFO : worker thread finished; awaiting finish of 1 more threads\n",
      "2018-07-30 00:52:18,720 : INFO : worker thread finished; awaiting finish of 0 more threads\n",
      "2018-07-30 00:52:18,721 : INFO : EPOCH - 3 : training on 1632287 raw words (1277937 effective words) took 1.1s, 1162372 effective words/s\n",
      "2018-07-30 00:52:19,597 : INFO : worker thread finished; awaiting finish of 2 more threads\n",
      "2018-07-30 00:52:19,599 : INFO : worker thread finished; awaiting finish of 1 more threads\n",
      "2018-07-30 00:52:19,605 : INFO : worker thread finished; awaiting finish of 0 more threads\n",
      "2018-07-30 00:52:19,606 : INFO : EPOCH - 4 : training on 1632287 raw words (1277566 effective words) took 0.9s, 1450793 effective words/s\n",
      "2018-07-30 00:52:20,503 : INFO : worker thread finished; awaiting finish of 2 more threads\n",
      "2018-07-30 00:52:20,504 : INFO : worker thread finished; awaiting finish of 1 more threads\n",
      "2018-07-30 00:52:20,506 : INFO : worker thread finished; awaiting finish of 0 more threads\n",
      "2018-07-30 00:52:20,508 : INFO : EPOCH - 5 : training on 1632287 raw words (1277467 effective words) took 0.9s, 1422629 effective words/s\n",
      "2018-07-30 00:52:20,508 : INFO : training on a 8161435 raw words (6388307 effective words) took 5.0s, 1270309 effective words/s\n",
      "2018-07-30 00:52:20,510 : INFO : saving Word2Vec object under 100features_3minwords_4context_25445sentences, separately None\n",
      "2018-07-30 00:52:20,512 : INFO : not storing attribute vectors_norm\n",
      "2018-07-30 00:52:20,513 : INFO : not storing attribute cum_table\n",
      "2018-07-30 00:52:20,761 : INFO : saved 100features_3minwords_4context_25445sentences\n"
     ]
    }
   ],
   "source": [
    "# Import the built-in logging module and configure it so that Word2Vec \n",
    "# creates nice output messages\n",
    "import logging\n",
    "logging.basicConfig(format='%(asctime)s : %(levelname)s : %(message)s',\\\n",
    "    level=logging.INFO)\n",
    "\n",
    "# Set values for various parameters\n",
    "num_features = 100    # Word vector dimensionality                      \n",
    "min_word_count = 3   # Minimum word count                        \n",
    "#num_workers = 4       # Number of threads to run in parallel\n",
    "context = 4          # Context window size                                                                                    \n",
    "#downsampling = 1e-3   # Downsample setting for frequent words\n",
    "#model = word2vec.Word2Vec(sentences, workers=num_workers, \n",
    "            #size=num_features, min_count = min_word_count, \n",
    "            #window = context, sample = downsampling)\n",
    "\n",
    "# Initialize and train the model (this will take some time)\n",
    "from gensim.models import word2vec\n",
    "print (\"Training model...\")\n",
    "model = word2vec.Word2Vec(sentences,  \n",
    "            size=num_features, min_count = min_word_count, \n",
    "            window = context)\n",
    "\n",
    "# If you don't plan to train the model any further, calling \n",
    "# init_sims will make the model much more memory-efficient.\n",
    "#model.init_sims(replace=True)\n",
    "\n",
    "# It can be helpful to create a meaningful model name and \n",
    "# save the model for later use. You can load it later using Word2Vec.load()\n",
    "model_name = \"100features_3minwords_4context_25445sentences\"\n",
    "model.save(model_name)"
   ]
  },
  {
   "cell_type": "code",
   "execution_count": 102,
   "metadata": {},
   "outputs": [
    {
     "data": {
      "text/plain": [
       "'kitchen'"
      ]
     },
     "execution_count": 102,
     "metadata": {},
     "output_type": "execute_result"
    }
   ],
   "source": [
    "model.wv.doesnt_match(\"man woman child kitchen\".split())\n",
    "'kitchen'"
   ]
  },
  {
   "cell_type": "code",
   "execution_count": 103,
   "metadata": {},
   "outputs": [
    {
     "data": {
      "text/plain": [
       "[('kering', 0.810712993144989),\n",
       " ('hermes', 0.7154947519302368),\n",
       " ('richemont', 0.6441426277160645),\n",
       " ('ppr', 0.6430332064628601),\n",
       " ('louisvuitton', 0.6088076233863831),\n",
       " ('gucci', 0.5685011148452759),\n",
       " ('conglomerate', 0.5540012121200562),\n",
       " ('zenith', 0.538640558719635),\n",
       " ('bulgari', 0.537268877029419),\n",
       " ('majority', 0.5369027853012085)]"
      ]
     },
     "execution_count": 103,
     "metadata": {},
     "output_type": "execute_result"
    }
   ],
   "source": [
    "model.wv.most_similar(\"lvmh\")"
   ]
  },
  {
   "cell_type": "code",
   "execution_count": 23,
   "metadata": {
    "collapsed": true
   },
   "outputs": [],
   "source": [
    "#load model\n",
    "from gensim.models import Word2Vec\n",
    "model = Word2Vec.load(\"100features_3minwords_4context_25445sentences\")"
   ]
  },
  {
   "cell_type": "code",
   "execution_count": null,
   "metadata": {
    "collapsed": true
   },
   "outputs": [],
   "source": [
    "#Vector averaging"
   ]
  },
  {
   "cell_type": "code",
   "execution_count": 24,
   "metadata": {
    "collapsed": true
   },
   "outputs": [],
   "source": [
    "import numpy as np  \n",
    "\n",
    "def makeFeatureVec(words, model, num_features):\n",
    "    # Function to average all of the word vectors in a given paragraph\n",
    "    # Pre-initialize an empty numpy array (for speed)\n",
    "    featureVec = np.zeros((num_features,),dtype=\"float32\")\n",
    "    #\n",
    "    nwords = 0.\n",
    "    # \n",
    "    # Index2word is a list that contains the names of the words in \n",
    "    # the model's vocabulary. Convert it to a set, for speed \n",
    "    index2word_set = set(model.index2word)\n",
    "    #\n",
    "    # Loop over each word in the content and, if it is in the model's\n",
    "    # vocaublary, add its feature vector to the total\n",
    "    for word in words:\n",
    "        if word in index2word_set: \n",
    "            nwords = nwords + 1.\n",
    "            featureVec = np.add(featureVec,model[word])\n",
    "            \n",
    "    # Divide the result by the number of words to get the average\n",
    "    featureVec = np.divide(featureVec,nwords)\n",
    "    return featureVec\n",
    "\n",
    "\n",
    "def getAvgFeatureVecs(contents, model, num_features):\n",
    "    # Given a set of contents (each one a list of words), calculate \n",
    "    # the average feature vector for each one and return a 2D numpy array \n",
    "    # \n",
    "    # Initialize a counter\n",
    "    counter = 0.\n",
    "    # \n",
    "    # Preallocate a 2D numpy array, for speed\n",
    "    contentFeatureVecs = np.zeros((len(contents),num_features),dtype=\"float32\")\n",
    "    # \n",
    "    # Loop through the contents\n",
    "    for content in contents:\n",
    "       #\n",
    "       # Print a status message every 1000th content\n",
    "        if counter%1000. == 0.:\n",
    "            print (\"content %d of %d\" % (counter, len(contents)))\n",
    "        \n",
    "        counter = int(counter)\n",
    "       # Call the function (defined above) that makes average feature vectors\n",
    "        contentFeatureVecs[counter] = makeFeatureVec(content, model, \n",
    "            num_features)\n",
    "       #\n",
    "       # Increment the counter\n",
    "        counter = counter + 1\n",
    "    return contentFeatureVecs"
   ]
  },
  {
   "cell_type": "code",
   "execution_count": 22,
   "metadata": {
    "collapsed": true
   },
   "outputs": [],
   "source": [
    "num_features = 100"
   ]
  },
  {
   "cell_type": "code",
   "execution_count": 23,
   "metadata": {},
   "outputs": [
    {
     "name": "stdout",
     "output_type": "stream",
     "text": [
      "content 0 of 823\n",
      "Creating average feature vecs for test contents\n",
      "content 0 of 169\n"
     ]
    }
   ],
   "source": [
    "# Calculate average feature vectors for training and testing sets,\n",
    "# using the functions we defined above. Notice that we now use stop word\n",
    "# removal.\n",
    "\n",
    "clean_train_contents = []\n",
    "for content in X_train[\"sub_content\"]:\n",
    "    clean_train_contents.append( content_to_wordlist( content, \n",
    "        remove_stopwords=True ))\n",
    "\n",
    "trainDataVecs = getAvgFeatureVecs( clean_train_contents, model, num_features)\n",
    "\n",
    "print (\"Creating average feature vecs for test contents\")\n",
    "clean_test_contents = []\n",
    "for content in X_validation[\"sub_content\"]:\n",
    "    clean_test_contents.append( content_to_wordlist( content, \n",
    "        remove_stopwords=True ))\n",
    "\n",
    "testDataVecs = getAvgFeatureVecs( clean_test_contents, model, num_features )"
   ]
  },
  {
   "cell_type": "code",
   "execution_count": 83,
   "metadata": {},
   "outputs": [
    {
     "data": {
      "text/plain": [
       "100"
      ]
     },
     "execution_count": 83,
     "metadata": {},
     "output_type": "execute_result"
    }
   ],
   "source": [
    "len(trainDataVecs[0])"
   ]
  },
  {
   "cell_type": "code",
   "execution_count": 52,
   "metadata": {
    "collapsed": true
   },
   "outputs": [],
   "source": [
    "#X_train.dtypes"
   ]
  },
  {
   "cell_type": "code",
   "execution_count": 145,
   "metadata": {},
   "outputs": [
    {
     "data": {
      "text/plain": [
       "300"
      ]
     },
     "execution_count": 145,
     "metadata": {},
     "output_type": "execute_result"
    }
   ],
   "source": [
    "len(scaletrainVecs[0])"
   ]
  },
  {
   "cell_type": "code",
   "execution_count": 24,
   "metadata": {},
   "outputs": [
    {
     "name": "stderr",
     "output_type": "stream",
     "text": [
      "/Users/bonnieliu/anaconda3/lib/python3.6/site-packages/sklearn/preprocessing/data.py:164: UserWarning: Numerical issues were encountered when centering the data and might not be solved. Dataset may contain too large values. You may need to prescale your features.\n",
      "  warnings.warn(\"Numerical issues were encountered \"\n",
      "/Users/bonnieliu/anaconda3/lib/python3.6/site-packages/sklearn/preprocessing/data.py:181: UserWarning: Numerical issues were encountered when scaling the data and might not be solved. The standard deviation of the data is probably very close to 0. \n",
      "  warnings.warn(\"Numerical issues were encountered \"\n"
     ]
    }
   ],
   "source": [
    "#scale \n",
    "from sklearn.preprocessing import scale\n",
    "\n",
    "scaletrainVecs = trainDataVecs\n",
    "scaletrainVecs = scale(scaletrainVecs)\n",
    "scaletestVecs = testDataVecs\n",
    "scaletestVecs = scale(scaletestVecs)"
   ]
  },
  {
   "cell_type": "code",
   "execution_count": null,
   "metadata": {
    "collapsed": true
   },
   "outputs": [],
   "source": []
  },
  {
   "cell_type": "markdown",
   "metadata": {},
   "source": [
    "# model factory"
   ]
  },
  {
   "cell_type": "code",
   "execution_count": 73,
   "metadata": {
    "collapsed": true
   },
   "outputs": [],
   "source": [
    "from sklearn.metrics import accuracy_score,recall_score,confusion_matrix\n",
    "from sklearn.metrics import accuracy_score,recall_score,confusion_matrix\n",
    "from xgboost.sklearn import XGBClassifier\n",
    "import xgboost as xgb\n",
    "from sklearn import svm\n",
    "from sklearn.ensemble import RandomForestClassifier"
   ]
  },
  {
   "cell_type": "code",
   "execution_count": 47,
   "metadata": {},
   "outputs": [
    {
     "name": "stdout",
     "output_type": "stream",
     "text": [
      "Fitting a random forest to labeled training data...\n",
      "0.668639053254\n",
      "[[33  0 24]\n",
      " [ 2  2 12]\n",
      " [18  0 78]]\n"
     ]
    }
   ],
   "source": [
    "from sklearn.metrics import accuracy_score,recall_score,confusion_matrix\n",
    "\n",
    "forest = RandomForestClassifier( n_estimators = 100 )\n",
    "\n",
    "print (\"Fitting a random forest to labeled training data...\")\n",
    "forest = forest.fit( scaletrainVecs, y_train[\"manual_label\"] )\n",
    "\n",
    "train_pred = forest.predict(scaletrainVecs)\n",
    "print('train set accuracy:', accuracy_score(y_train,train_pred))\n",
    "# Test & extract results \n",
    "y_pred = forest.predict(scaletestVecs)\n",
    "print('test set accuracy:',accuracy_score(y_validation,y_pred))\n",
    "#print(recall_score(y_validation,y_pred))\n",
    "print(confusion_matrix(y_validation,y_pred))\n",
    "\n",
    "#create roc curve \n",
    "#from sklearn.metrics import roc_curve, auc\n",
    "#pred_probas = forest.predict_proba(scaletestVecs)\n",
    "#fpr,tpr,_ = roc_curve(y_validation, pred_probas)\n",
    "#roc_auc = auc(fpr, tpr)\n",
    "#plt.plot(fpr,tpr,label = 'area = %.2f' %roc_auc)\n",
    "#plt.plot([0,1], [0,1], 'k--')\n",
    "#plt.xlim([0.0, 1.0])\n",
    "#plt.ylim([0.0, 1.05])\n",
    "#plt.legend(loc= 'lower right')\n",
    "\n",
    "#plt.show()"
   ]
  },
  {
   "cell_type": "code",
   "execution_count": null,
   "metadata": {
    "collapsed": true
   },
   "outputs": [],
   "source": []
  },
  {
   "cell_type": "code",
   "execution_count": 82,
   "metadata": {},
   "outputs": [
    {
     "name": "stderr",
     "output_type": "stream",
     "text": [
      "/Users/bonnieliu/anaconda3/lib/python3.6/site-packages/ipykernel_launcher.py:9: SettingWithCopyWarning: \n",
      "A value is trying to be set on a copy of a slice from a DataFrame.\n",
      "Try using .loc[row_indexer,col_indexer] = value instead\n",
      "\n",
      "See the caveats in the documentation: http://pandas.pydata.org/pandas-docs/stable/indexing.html#indexing-view-versus-copy\n",
      "  if __name__ == '__main__':\n"
     ]
    }
   ],
   "source": [
    "# Write the test results \n",
    "# output = pd.DataFrame( data={\"id\":X_validation[\"id\"], \"sentiment\":result} )output\n",
    "'''\n",
    "temppdb = df_train1000\n",
    "y1 = temppdb['manual_label']\n",
    "X1 = temppdb.drop(['id','content','title','label'], axis=1)\n",
    "X1_train, X1_validation, y1_train, y1_validation = train_test_split(\n",
    "X1, y1, test_size=0.17, random_state=42)\n",
    "output = X1_validation\n",
    "output['prediction'] = result\n",
    "output.to_csv( \"Word2Vec_AverageVectors.csv\", index=False )\n",
    "'''"
   ]
  },
  {
   "cell_type": "code",
   "execution_count": null,
   "metadata": {
    "collapsed": true
   },
   "outputs": [],
   "source": [
    "output"
   ]
  },
  {
   "cell_type": "code",
   "execution_count": null,
   "metadata": {
    "collapsed": true
   },
   "outputs": [],
   "source": []
  },
  {
   "cell_type": "code",
   "execution_count": 57,
   "metadata": {
    "collapsed": true
   },
   "outputs": [],
   "source": [
    "#XGBoost\n",
    "\n",
    "#from sklearn import cross_validation, metrics   #Additional scklearn functions\n",
    "#from sklearn.grid_search import GridSearchCV   #Perforing grid search\n",
    "\n",
    "xgb1 = XGBClassifier(\n",
    " learning_rate =0.1,\n",
    " n_estimators=118,\n",
    " max_depth=5,\n",
    " min_child_weight=1,\n",
    " gamma=0,\n",
    " subsample=0.8,\n",
    " colsample_bytree=0.8,\n",
    " objective= 'binary:logistic',\n",
    " nthread=4,\n",
    " scale_pos_weight=1,\n",
    " seed=27,\n",
    " slient=True)"
   ]
  },
  {
   "cell_type": "code",
   "execution_count": 59,
   "metadata": {},
   "outputs": [
    {
     "name": "stdout",
     "output_type": "stream",
     "text": [
      "\n",
      " XGBoost Model Report\n",
      "Accuracy : 0.6331\n"
     ]
    }
   ],
   "source": [
    "xgb_param = xgb1.get_xgb_params()\n",
    "xgtrain = xgb.DMatrix(scaletrainVecs, label=y_train)\n",
    "\n",
    "        \n",
    "#Fit the algorithm on the data\n",
    "xgb1.fit(scaletrainVecs, y_train.values.ravel(),eval_metric='auc')\n",
    "        \n",
    "#Predict validation set:\n",
    "dval_predictions = xgb1.predict(scaletestVecs)\n",
    "#dval_predprob = xgb1.predict_proba(x_val)[:,1]\n",
    "\n",
    "\n",
    "#Save model\n",
    "#joblib.dump(xgb1, 'xgb1.model')\n",
    "#Print model report:\n",
    "print (\"\\n XGBoost Model Report\")\n",
    "print(\"Accuracy : %.4g\" % accuracy_score(y_validation, dval_predictions))\n"
   ]
  },
  {
   "cell_type": "code",
   "execution_count": null,
   "metadata": {
    "collapsed": true
   },
   "outputs": [],
   "source": []
  },
  {
   "cell_type": "markdown",
   "metadata": {},
   "source": [
    "# GOOGLE pre-trained vectors"
   ]
  },
  {
   "cell_type": "code",
   "execution_count": 25,
   "metadata": {
    "collapsed": true
   },
   "outputs": [],
   "source": [
    "import gensim\n",
    "from gensim.models import KeyedVectors"
   ]
  },
  {
   "cell_type": "code",
   "execution_count": 26,
   "metadata": {
    "collapsed": true,
    "scrolled": true
   },
   "outputs": [],
   "source": [
    "model_1 = KeyedVectors.load_word2vec_format('GoogleNews-vectors-negative300.bin', binary = True)"
   ]
  },
  {
   "cell_type": "code",
   "execution_count": 69,
   "metadata": {
    "collapsed": true
   },
   "outputs": [],
   "source": [
    "# save the model for later use. You can load it later using Word2Vec.load()\n",
    "model_1_name = \"google_100features_3minwords_4context_25445sentences\"\n",
    "model_1.save(model_1_name)"
   ]
  },
  {
   "cell_type": "code",
   "execution_count": 82,
   "metadata": {},
   "outputs": [
    {
     "data": {
      "text/plain": [
       "[('spoke', 0.6965223550796509),\n",
       " ('speaking', 0.626129150390625),\n",
       " ('conversed', 0.5754593014717102),\n",
       " ('spoken', 0.5704883337020874),\n",
       " ('speaks', 0.5630601644515991)]"
      ]
     },
     "execution_count": 82,
     "metadata": {},
     "output_type": "execute_result"
    }
   ],
   "source": [
    "model_1.most_similar(positive=['ate','speak'], negative=['eat'], topn = 5)"
   ]
  },
  {
   "cell_type": "code",
   "execution_count": 81,
   "metadata": {},
   "outputs": [
    {
     "data": {
      "text/plain": [
       "[('prada', 0.6911555528640747),\n",
       " ('louis_vuitton', 0.6712427139282227),\n",
       " ('burberry', 0.6528220772743225),\n",
       " ('versace', 0.6431334614753723),\n",
       " ('chanel', 0.6372589468955994),\n",
       " ('christian_louboutin', 0.6263206005096436),\n",
       " ('nike_shox', 0.6256839036941528),\n",
       " ('dior', 0.6157450079917908),\n",
       " ('lv', 0.6153838038444519),\n",
       " ('gucci_shoes', 0.6137488484382629)]"
      ]
     },
     "execution_count": 81,
     "metadata": {},
     "output_type": "execute_result"
    }
   ],
   "source": [
    "model_1.most_similar(\"gucci\")"
   ]
  },
  {
   "cell_type": "code",
   "execution_count": 27,
   "metadata": {},
   "outputs": [
    {
     "name": "stdout",
     "output_type": "stream",
     "text": [
      "content 0 of 823\n",
      "Creating average feature vecs for test contents\n",
      "content 0 of 169\n"
     ]
    }
   ],
   "source": [
    "# Calculate average feature vectors for training and testing sets,\n",
    "# using the functions we defined above. Notice that we now use stop word\n",
    "# removal.\n",
    "\n",
    "clean_train_contents = []\n",
    "for content in X_train[\"sub_content\"]:\n",
    "    clean_train_contents.append( content_to_wordlist( content, \n",
    "        remove_stopwords=True ))\n",
    "\n",
    "trainDataVecs = getAvgFeatureVecs( clean_train_contents, model_1, 300)\n",
    "\n",
    "print (\"Creating average feature vecs for test contents\")\n",
    "clean_test_contents = []\n",
    "for content in X_validation[\"sub_content\"]:\n",
    "    clean_test_contents.append( content_to_wordlist( content, \n",
    "        remove_stopwords=True ))\n",
    "\n",
    "testDataVecs = getAvgFeatureVecs( clean_test_contents, model_1, 300 )"
   ]
  },
  {
   "cell_type": "code",
   "execution_count": null,
   "metadata": {
    "collapsed": true
   },
   "outputs": [],
   "source": []
  },
  {
   "cell_type": "code",
   "execution_count": 55,
   "metadata": {},
   "outputs": [
    {
     "name": "stderr",
     "output_type": "stream",
     "text": [
      "/Users/bonnieliu/anaconda3/lib/python3.6/site-packages/sklearn/preprocessing/data.py:164: UserWarning: Numerical issues were encountered when centering the data and might not be solved. Dataset may contain too large values. You may need to prescale your features.\n",
      "  warnings.warn(\"Numerical issues were encountered \"\n",
      "/Users/bonnieliu/anaconda3/lib/python3.6/site-packages/sklearn/preprocessing/data.py:181: UserWarning: Numerical issues were encountered when scaling the data and might not be solved. The standard deviation of the data is probably very close to 0. \n",
      "  warnings.warn(\"Numerical issues were encountered \"\n"
     ]
    }
   ],
   "source": [
    "#scale \n",
    "from sklearn.preprocessing import scale\n",
    "scaletrainVecs = trainDataVecs\n",
    "scaletrainVecs = scale(scaletrainVecs)\n",
    "scaletestVecs = testDataVecs\n",
    "scaletestVecs = scale(scaletestVecs)"
   ]
  },
  {
   "cell_type": "code",
   "execution_count": 56,
   "metadata": {},
   "outputs": [
    {
     "data": {
      "text/plain": [
       "(823, 300)"
      ]
     },
     "execution_count": 56,
     "metadata": {},
     "output_type": "execute_result"
    }
   ],
   "source": [
    "scaletrainVecs.shape"
   ]
  },
  {
   "cell_type": "code",
   "execution_count": 71,
   "metadata": {
    "collapsed": true
   },
   "outputs": [],
   "source": [
    "#save ndarray\n",
    "np.save(\"scaletrainVecs.npy\",scaletrainVecs)\n",
    "b0 = np.load(\"scaletrainVecs.npy\")\n",
    "np.save(\"scaletestVecs.npy\",scaletestVecs)\n",
    "b1 = np.load(\"scaletestVecs.npy\")"
   ]
  },
  {
   "cell_type": "code",
   "execution_count": 139,
   "metadata": {},
   "outputs": [
    {
     "name": "stdout",
     "output_type": "stream",
     "text": [
      "Fitting a random forest to labeled training data...\n",
      "train set accuracy: 0.982989064399\n",
      "test set accuracy: 0.715976331361\n",
      "[[35  0 22]\n",
      " [ 2  2 12]\n",
      " [12  0 84]]\n"
     ]
    }
   ],
   "source": [
    "# Fit a random forest to the training data, using 100 trees\n",
    "from sklearn.metrics import accuracy_score,recall_score,confusion_matrix\n",
    "from sklearn.ensemble import RandomForestClassifier\n",
    "forest = RandomForestClassifier( n_estimators = 100 )\n",
    "\n",
    "print (\"Fitting a random forest to labeled training data...\")\n",
    "forest = forest.fit( scaletrainVecs, y_train[\"manual_label\"] )\n",
    "\n",
    "train_pred = forest.predict(scaletrainVecs)\n",
    "print('train set accuracy:', accuracy_score(y_train,train_pred))\n",
    "# Test & extract results \n",
    "y_pred = forest.predict(scaletestVecs)\n",
    "print('test set accuracy:',accuracy_score(y_validation,y_pred))\n",
    "#print(recall_score(y_validation,y_pred))\n",
    "print(confusion_matrix(y_validation,y_pred))\n",
    "\n",
    "#create roc curve \n",
    "#from sklearn.metrics import roc_curve, auc\n",
    "#pred_probas = forest.predict_proba(scaletestVecs)\n",
    "#fpr,tpr,_ = roc_curve(y_validation, pred_probas)\n",
    "#roc_auc = auc(fpr, tpr)\n",
    "#plt.plot(fpr,tpr,label = 'area = %.2f' %roc_auc)\n",
    "#plt.plot([0,1], [0,1], 'k--')\n",
    "#plt.xlim([0.0, 1.0])\n",
    "#plt.ylim([0.0, 1.05])\n",
    "#plt.legend(loc= 'lower right')\n",
    "\n",
    "#plt.show()"
   ]
  },
  {
   "cell_type": "code",
   "execution_count": 141,
   "metadata": {},
   "outputs": [
    {
     "name": "stdout",
     "output_type": "stream",
     "text": [
      "RBF train set accuracy\n",
      "0.896719319563\n",
      "RBF test set accuracy\n",
      "0.733727810651\n",
      "Linear train set accuracy\n",
      "0.969623329283\n",
      "Linear test set accuracy\n",
      "0.585798816568\n"
     ]
    }
   ],
   "source": [
    "#svm RBF\n",
    "\n",
    "clf = svm.SVC() #RBF core\n",
    "Y = y_train[\"manual_label\"]\n",
    "X = scaletrainVecs\n",
    "cl_res = clf.fit(X, Y)\n",
    "train_pred = cl_res.predict(scaletrainVecs)\n",
    "test_pred = cl_res.predict(scaletestVecs)\n",
    "print('RBF train set accuracy')\n",
    "print(accuracy_score(y_train,train_pred))\n",
    "#print(recall_score(y_validation,y_pred))\n",
    "print('RBF test set accuracy')\n",
    "print(accuracy_score(y_validation,test_pred))\n",
    "\n",
    "#svm LinearSVC\n",
    "from sklearn import svm\n",
    "clf = svm.LinearSVC() #linear core\n",
    "Y = y_train[\"manual_label\"]\n",
    "X = scaletrainVecs\n",
    "cl_res = clf.fit(X, Y)\n",
    "train_pred = cl_res.predict(scaletrainVecs)\n",
    "test_pred = cl_res.predict(scaletestVecs)\n",
    "print('Linear train set accuracy')\n",
    "print(accuracy_score(y_train,train_pred))\n",
    "#print(recall_score(y_validation,y_pred))\n",
    "print('Linear test set accuracy')\n",
    "print(accuracy_score(y_validation,test_pred))"
   ]
  },
  {
   "cell_type": "code",
   "execution_count": 143,
   "metadata": {},
   "outputs": [
    {
     "name": "stdout",
     "output_type": "stream",
     "text": [
      "\n",
      " XGBoost Model Report\n",
      "Accuracy : 0.7101\n"
     ]
    }
   ],
   "source": [
    "#XGBoost\n",
    "from xgboost.sklearn import XGBClassifier\n",
    "import xgboost as xgb\n",
    "#from sklearn import cross_validation, metrics   #Additional scklearn functions\n",
    "#from sklearn.grid_search import GridSearchCV   #Perforing grid search\n",
    "\n",
    "xgb1 = XGBClassifier(\n",
    " learning_rate =0.1,\n",
    " n_estimators=118,\n",
    " max_depth=5,\n",
    " min_child_weight=1,\n",
    " gamma=0,\n",
    " subsample=0.8,\n",
    " colsample_bytree=0.8,\n",
    " objective= 'binary:logistic',\n",
    " nthread=4,\n",
    " scale_pos_weight=1,\n",
    " seed=27,\n",
    " slient=True)\n",
    "xgb_param = xgb1.get_xgb_params()\n",
    "xgtrain = xgb.DMatrix(scaletrainVecs, label=y_train)\n",
    "\n",
    "        \n",
    "#Fit the algorithm on the data\n",
    "xgb1.fit(scaletrainVecs, y_train.values.ravel(),eval_metric='auc')\n",
    "        \n",
    "#Predict validation set:\n",
    "dval_predictions = xgb1.predict(scaletestVecs)\n",
    "#dval_predprob = xgb1.predict_proba(x_val)[:,1]\n",
    "\n",
    "\n",
    "#Save model\n",
    "#joblib.dump(xgb1, 'xgb1.model')\n",
    "#Print model report:\n",
    "print (\"\\n XGBoost Model Report\")\n",
    "print(\"Accuracy : %.4g\" % accuracy_score(y_validation, dval_predictions))\n"
   ]
  },
  {
   "cell_type": "markdown",
   "metadata": {},
   "source": [
    "# LSTM"
   ]
  },
  {
   "cell_type": "code",
   "execution_count": 248,
   "metadata": {
    "collapsed": true
   },
   "outputs": [],
   "source": [
    "from keras.layers import Dense, LSTM\n",
    "from keras.utils import to_categorical\n",
    "from keras.models import Sequential"
   ]
  },
  {
   "cell_type": "code",
   "execution_count": 422,
   "metadata": {
    "collapsed": true
   },
   "outputs": [],
   "source": [
    "#parameters for LSTM\n",
    "nb_lstm_outputs = 500  #神经元个数\n",
    "nb_time_steps = 1  #时间序列长度\n",
    "nb_input_vector = 300 #输入序列"
   ]
  },
  {
   "cell_type": "code",
   "execution_count": 250,
   "metadata": {
    "collapsed": true
   },
   "outputs": [],
   "source": [
    "scaletrainVecs_lstm = np.reshape(scaletrainVecs, (scaletrainVecs.shape[0], 1, scaletrainVecs.shape[1]))\n",
    "scaletestVecs_lstm = np.reshape(scaletestVecs, (scaletestVecs.shape[0], 1, scaletestVecs.shape[1]))"
   ]
  },
  {
   "cell_type": "code",
   "execution_count": 423,
   "metadata": {
    "collapsed": true
   },
   "outputs": [],
   "source": [
    "#build model\n",
    "model = Sequential()\n",
    "model.add(LSTM(units=nb_lstm_outputs, input_shape=(nb_time_steps, nb_input_vector)))\n",
    "model.add(Dense(1, activation='softsign')) #https://blog.csdn.net/chenzhi1992/article/details/77005876 对于LSTM，可使用softsign（而非softmax）激活函数替代tanh（更快且更不容易出现饱和（约0梯度）"
   ]
  },
  {
   "cell_type": "code",
   "execution_count": 424,
   "metadata": {},
   "outputs": [
    {
     "name": "stdout",
     "output_type": "stream",
     "text": [
      "_________________________________________________________________\n",
      "Layer (type)                 Output Shape              Param #   \n",
      "=================================================================\n",
      "lstm_49 (LSTM)               (None, 1)                 1208      \n",
      "_________________________________________________________________\n",
      "dense_136 (Dense)            (None, 1)                 2         \n",
      "=================================================================\n",
      "Total params: 1,210\n",
      "Trainable params: 1,210\n",
      "Non-trainable params: 0\n",
      "_________________________________________________________________\n"
     ]
    }
   ],
   "source": [
    "model.summary()"
   ]
  },
  {
   "cell_type": "code",
   "execution_count": null,
   "metadata": {
    "collapsed": true
   },
   "outputs": [],
   "source": []
  },
  {
   "cell_type": "code",
   "execution_count": null,
   "metadata": {
    "collapsed": true
   },
   "outputs": [],
   "source": []
  },
  {
   "cell_type": "code",
   "execution_count": null,
   "metadata": {
    "collapsed": true
   },
   "outputs": [],
   "source": []
  },
  {
   "cell_type": "code",
   "execution_count": 517,
   "metadata": {},
   "outputs": [
    {
     "name": "stdout",
     "output_type": "stream",
     "text": [
      "_________________________________________________________________\n",
      "Layer (type)                 Output Shape              Param #   \n",
      "=================================================================\n",
      "comments (InputLayer)        (None, 1, 300)            0         \n",
      "_________________________________________________________________\n",
      "activation_47 (Activation)   (None, 1, 300)            0         \n",
      "_________________________________________________________________\n",
      "lstm_62 (LSTM)               (None, 1024)              5427200   \n",
      "_________________________________________________________________\n",
      "dense_185 (Dense)            (None, 256)               262400    \n",
      "_________________________________________________________________\n",
      "dropout_125 (Dropout)        (None, 256)               0         \n",
      "_________________________________________________________________\n",
      "dense_186 (Dense)            (None, 128)               32896     \n",
      "_________________________________________________________________\n",
      "dropout_126 (Dropout)        (None, 128)               0         \n",
      "_________________________________________________________________\n",
      "dense_187 (Dense)            (None, 64)                8256      \n",
      "_________________________________________________________________\n",
      "dropout_127 (Dropout)        (None, 64)                0         \n",
      "_________________________________________________________________\n",
      "dense_188 (Dense)            (None, 1)                 65        \n",
      "=================================================================\n",
      "Total params: 5,730,817\n",
      "Trainable params: 5,730,817\n",
      "Non-trainable params: 0\n",
      "_________________________________________________________________\n"
     ]
    }
   ],
   "source": [
    "def get_model():\n",
    "    #params\n",
    "    dr_r = 0.5\n",
    "    \n",
    "    #Inputs\n",
    "    Comments= Input(shape=(nb_time_steps,nb_input_vector), name=\"comments\")\n",
    "    Activ = Activation('tanh')(Comments)\n",
    "    \n",
    "    #rnn layer\n",
    "    rnn_layer1 = LSTM(1024) (Activ)\n",
    "    \n",
    "    rnn_layer1 = Dropout(dr_r) (Dense(256) (rnn_layer1))\n",
    "    rnn_layer1 = Dropout(dr_r) (Dense(128) (rnn_layer1))\n",
    "    rnn_layer1 = Dropout(dr_r) (Dense(64) (rnn_layer1))\n",
    "    #output\n",
    "    output = Dense(1, activation=\"softsign\") (rnn_layer1)\n",
    "    \n",
    "    #model\n",
    "    model = Model(Comments, output)\n",
    "    model.compile(loss=\"binary_crossentropy\", optimizer=\"adam\", metrics=['accuracy'])\n",
    "    \n",
    "    return model\n",
    "\n",
    "    \n",
    "model = get_model()\n",
    "model.summary()"
   ]
  },
  {
   "cell_type": "code",
   "execution_count": 520,
   "metadata": {},
   "outputs": [
    {
     "name": "stdout",
     "output_type": "stream",
     "text": [
      "Train on 823 samples, validate on 169 samples\n",
      "Epoch 1/35\n",
      "823/823 [==============================] - 1s 1ms/step - loss: -1.3660 - acc: 0.5723 - val_loss: -0.5236 - val_acc: 0.5089\n",
      "Epoch 2/35\n",
      "823/823 [==============================] - 1s 1ms/step - loss: -1.9160 - acc: 0.6245 - val_loss: -0.5181 - val_acc: 0.5444\n",
      "Epoch 3/35\n",
      "823/823 [==============================] - 1s 1ms/step - loss: -1.5433 - acc: 0.5966 - val_loss: -0.8000 - val_acc: 0.5680\n",
      "Epoch 4/35\n",
      "823/823 [==============================] - 1s 1ms/step - loss: -2.2699 - acc: 0.6221 - val_loss: -1.0069 - val_acc: 0.5621\n",
      "Epoch 5/35\n",
      "823/823 [==============================] - 1s 1ms/step - loss: -2.1677 - acc: 0.6379 - val_loss: -0.9935 - val_acc: 0.5858\n",
      "Epoch 6/35\n",
      "823/823 [==============================] - 1s 1ms/step - loss: -2.2665 - acc: 0.6561 - val_loss: -0.3884 - val_acc: 0.5740\n",
      "Epoch 7/35\n",
      "823/823 [==============================] - 1s 1ms/step - loss: -1.9345 - acc: 0.6355 - val_loss: -0.8758 - val_acc: 0.6095\n",
      "Epoch 8/35\n",
      "823/823 [==============================] - 1s 1ms/step - loss: -1.6642 - acc: 0.6355 - val_loss: -0.8718 - val_acc: 0.5858\n",
      "Epoch 9/35\n",
      "823/823 [==============================] - 1s 1ms/step - loss: -1.8167 - acc: 0.6440 - val_loss: -0.9352 - val_acc: 0.5740\n",
      "Epoch 10/35\n",
      "823/823 [==============================] - 1s 1ms/step - loss: -1.7781 - acc: 0.6549 - val_loss: -0.5347 - val_acc: 0.5917\n",
      "Epoch 11/35\n",
      "823/823 [==============================] - 1s 1ms/step - loss: -1.9731 - acc: 0.6646 - val_loss: -0.6649 - val_acc: 0.5858\n",
      "Epoch 12/35\n",
      "823/823 [==============================] - 1s 1ms/step - loss: -1.8786 - acc: 0.6683 - val_loss: -0.4236 - val_acc: 0.5917\n",
      "Epoch 13/35\n",
      "823/823 [==============================] - 1s 1ms/step - loss: -2.2234 - acc: 0.6804 - val_loss: -0.5854 - val_acc: 0.5740\n",
      "Epoch 14/35\n",
      "823/823 [==============================] - 1s 1ms/step - loss: -2.3719 - acc: 0.6817 - val_loss: -0.7709 - val_acc: 0.5562\n",
      "Epoch 15/35\n",
      "823/823 [==============================] - 1s 1ms/step - loss: -2.2509 - acc: 0.6610 - val_loss: -1.1022 - val_acc: 0.6036\n",
      "Epoch 16/35\n",
      "823/823 [==============================] - 1s 1ms/step - loss: -1.8207 - acc: 0.6622 - val_loss: -0.7337 - val_acc: 0.5976\n",
      "Epoch 17/35\n",
      "823/823 [==============================] - 1s 1ms/step - loss: -1.9299 - acc: 0.6622 - val_loss: -0.7051 - val_acc: 0.5917\n",
      "Epoch 18/35\n",
      "823/823 [==============================] - 1s 1ms/step - loss: -1.9281 - acc: 0.6586 - val_loss: -0.7519 - val_acc: 0.6036\n",
      "Epoch 19/35\n",
      "823/823 [==============================] - 1s 1ms/step - loss: -1.7416 - acc: 0.6671 - val_loss: -0.9010 - val_acc: 0.6036\n",
      "Epoch 20/35\n",
      "823/823 [==============================] - 1s 1ms/step - loss: -1.9005 - acc: 0.6634 - val_loss: -0.6077 - val_acc: 0.6095\n",
      "Epoch 21/35\n",
      "823/823 [==============================] - 1s 1ms/step - loss: -1.7398 - acc: 0.6537 - val_loss: -0.4142 - val_acc: 0.5858\n",
      "Epoch 22/35\n",
      "823/823 [==============================] - 1s 1ms/step - loss: -1.9245 - acc: 0.6683 - val_loss: -0.8214 - val_acc: 0.6154\n",
      "Epoch 23/35\n",
      "823/823 [==============================] - 1s 1ms/step - loss: -2.1560 - acc: 0.6889 - val_loss: -1.4003 - val_acc: 0.6391\n",
      "Epoch 24/35\n",
      "823/823 [==============================] - 1s 1ms/step - loss: -2.1877 - acc: 0.6877 - val_loss: -1.5140 - val_acc: 0.6805\n",
      "Epoch 25/35\n",
      "823/823 [==============================] - 1s 1ms/step - loss: -2.2650 - acc: 0.6938 - val_loss: -1.3295 - val_acc: 0.6805\n",
      "Epoch 26/35\n",
      "823/823 [==============================] - 1s 1ms/step - loss: -2.1523 - acc: 0.6950 - val_loss: -1.2568 - val_acc: 0.6805\n",
      "Epoch 27/35\n",
      "823/823 [==============================] - 1s 1ms/step - loss: -2.3910 - acc: 0.7023 - val_loss: -1.3549 - val_acc: 0.6509\n",
      "Epoch 28/35\n",
      "823/823 [==============================] - 1s 1ms/step - loss: -2.5396 - acc: 0.7011 - val_loss: -1.3242 - val_acc: 0.6568\n",
      "Epoch 29/35\n",
      "823/823 [==============================] - 1s 1ms/step - loss: -2.3416 - acc: 0.6962 - val_loss: -1.1321 - val_acc: 0.6450\n",
      "Epoch 30/35\n",
      "823/823 [==============================] - 1s 1ms/step - loss: -2.6091 - acc: 0.7023 - val_loss: -1.1102 - val_acc: 0.6568\n",
      "Epoch 31/35\n",
      "823/823 [==============================] - 1s 1ms/step - loss: -2.0455 - acc: 0.6926 - val_loss: -1.2027 - val_acc: 0.6686\n",
      "Epoch 32/35\n",
      "823/823 [==============================] - 1s 1ms/step - loss: -2.4694 - acc: 0.7132 - val_loss: -1.4311 - val_acc: 0.6864\n",
      "Epoch 33/35\n",
      "823/823 [==============================] - 1s 1ms/step - loss: -2.7220 - acc: 0.7242 - val_loss: -1.3900 - val_acc: 0.6805\n",
      "Epoch 34/35\n",
      "823/823 [==============================] - 1s 1ms/step - loss: -2.6836 - acc: 0.7169 - val_loss: -1.6398 - val_acc: 0.6805\n",
      "Epoch 35/35\n",
      "823/823 [==============================] - 1s 1ms/step - loss: -2.4326 - acc: 0.7145 - val_loss: -1.4451 - val_acc: 0.6627\n",
      "169/169 [==============================] - 0s 663us/step\n",
      "Accuracy: 66.27%\n"
     ]
    }
   ],
   "source": [
    "BATCH_SIZE = 150\n",
    "epochs = 35\n",
    "model.fit(scaletrainVecs_lstm, y_train.values, epochs=epochs, batch_size=BATCH_SIZE\n",
    "          , validation_data=(scaletestVecs_lstm,y_validation.values),verbose=1)\n",
    "#http://www.sohu.com/a/162003640_465944 计算val_loss模型泛化能力\n",
    "scores = model.evaluate(scaletestVecs_lstm, y_validation.values, verbose=1)\n",
    "print(\"Accuracy: %.2f%%\" % (scores[1]*100))"
   ]
  },
  {
   "cell_type": "code",
   "execution_count": null,
   "metadata": {
    "collapsed": true
   },
   "outputs": [],
   "source": []
  },
  {
   "cell_type": "code",
   "execution_count": 382,
   "metadata": {
    "collapsed": true
   },
   "outputs": [],
   "source": [
    "#compile:loss, optimizer, metrics\n",
    "model.compile(loss='binary_crossentropy', optimizer='adam', metrics=['accuracy'])"
   ]
  },
  {
   "cell_type": "code",
   "execution_count": 404,
   "metadata": {},
   "outputs": [
    {
     "name": "stdout",
     "output_type": "stream",
     "text": [
      "Epoch 1/20\n",
      "823/823 [==============================] - 0s 449us/step - loss: -3.1699 - acc: 0.6926\n",
      "Epoch 2/20\n",
      "823/823 [==============================] - 0s 332us/step - loss: -3.1717 - acc: 0.6950\n",
      "Epoch 3/20\n",
      "823/823 [==============================] - 0s 403us/step - loss: -3.1755 - acc: 0.6950\n",
      "Epoch 4/20\n",
      "823/823 [==============================] - 0s 472us/step - loss: -3.1910 - acc: 0.6914\n",
      "Epoch 5/20\n",
      "823/823 [==============================] - 0s 419us/step - loss: -3.1918 - acc: 0.6877\n",
      "Epoch 6/20\n",
      "823/823 [==============================] - 0s 380us/step - loss: -3.1933 - acc: 0.6841\n",
      "Epoch 7/20\n",
      "823/823 [==============================] - 0s 390us/step - loss: -3.1803 - acc: 0.6841\n",
      "Epoch 8/20\n",
      "823/823 [==============================] - 0s 445us/step - loss: -3.1814 - acc: 0.6841\n",
      "Epoch 9/20\n",
      "823/823 [==============================] - 0s 393us/step - loss: -3.1986 - acc: 0.6853\n",
      "Epoch 10/20\n",
      "823/823 [==============================] - 0s 361us/step - loss: -3.2013 - acc: 0.68650s - loss: -3.4631 - acc: 0.\n",
      "Epoch 11/20\n",
      "823/823 [==============================] - 0s 364us/step - loss: -3.2044 - acc: 0.6889\n",
      "Epoch 12/20\n",
      "823/823 [==============================] - 0s 406us/step - loss: -3.2264 - acc: 0.6889\n",
      "Epoch 13/20\n",
      "823/823 [==============================] - 0s 407us/step - loss: -3.2742 - acc: 0.6914\n",
      "Epoch 14/20\n",
      "823/823 [==============================] - 0s 398us/step - loss: -3.2994 - acc: 0.6974\n",
      "Epoch 15/20\n",
      "823/823 [==============================] - 0s 348us/step - loss: -3.4302 - acc: 0.6950\n",
      "Epoch 16/20\n",
      "823/823 [==============================] - 0s 434us/step - loss: -3.5428 - acc: 0.6938\n",
      "Epoch 17/20\n",
      "823/823 [==============================] - 0s 377us/step - loss: -3.7274 - acc: 0.7035\n",
      "Epoch 18/20\n",
      "823/823 [==============================] - 0s 529us/step - loss: -3.7954 - acc: 0.7084\n",
      "Epoch 19/20\n",
      "823/823 [==============================] - 0s 413us/step - loss: -3.9525 - acc: 0.7205\n",
      "Epoch 20/20\n",
      "823/823 [==============================] - 0s 474us/step - loss: -3.9856 - acc: 0.7230\n"
     ]
    },
    {
     "data": {
      "text/plain": [
       "<keras.callbacks.History at 0x1b78d93198>"
      ]
     },
     "execution_count": 404,
     "metadata": {},
     "output_type": "execute_result"
    }
   ],
   "source": [
    "#train: epcoch, batch_size\n",
    "model.fit(scaletrainVecs_lstm, y_train.values, epochs=20, batch_size=150, verbose=1)"
   ]
  },
  {
   "cell_type": "code",
   "execution_count": 405,
   "metadata": {},
   "outputs": [
    {
     "name": "stdout",
     "output_type": "stream",
     "text": [
      "169/169 [==============================] - 0s 368us/step\n",
      "Accuracy: 58.58%\n"
     ]
    }
   ],
   "source": [
    "score = model.evaluate(scaletestVecs_lstm, y_validation.values,batch_size=150, verbose=1)\n",
    "print(\"Accuracy: %.2f%%\" % (score[1]*100))"
   ]
  },
  {
   "cell_type": "markdown",
   "metadata": {},
   "source": [
    "# Doc2vec"
   ]
  },
  {
   "cell_type": "code",
   "execution_count": 168,
   "metadata": {
    "collapsed": true
   },
   "outputs": [],
   "source": [
    "LabeledSentence = gensim.models.doc2vec.TaggedDocument"
   ]
  },
  {
   "cell_type": "code",
   "execution_count": 207,
   "metadata": {
    "collapsed": true
   },
   "outputs": [],
   "source": [
    "'''\n",
    "def content_to_list( content ):\n",
    "    sentences = []\n",
    "    for raw_sentence in content:\n",
    "        # If a sentence is empty, skip it\n",
    "        \n",
    "            # Otherwise, call contentreview_to_wordlist to get a list of words\n",
    "        sentences.append( content_to_wordlist( raw_sentence, \n",
    "              remove_stopwords = True ))\n",
    "    #\n",
    "    # Return the list of sentences (each sentence is a list of words,\n",
    "    # so this returns a list of lists\n",
    "    return sentences\n",
    "'''"
   ]
  },
  {
   "cell_type": "code",
   "execution_count": null,
   "metadata": {
    "collapsed": true
   },
   "outputs": [],
   "source": []
  },
  {
   "cell_type": "code",
   "execution_count": 257,
   "metadata": {},
   "outputs": [
    {
     "name": "stdout",
     "output_type": "stream",
     "text": [
      "Parsing sentences from training set\n",
      "Parsing sentences from validation set\n",
      "Parsing sentences from unlabeled set\n"
     ]
    }
   ],
   "source": [
    "#get contents\n",
    "sentences = []\n",
    "\n",
    "# Initialize an empty list of sentences\n",
    "print (\"Parsing sentences from training set\")\n",
    "for content in X_train[\"sub_content\"]:\n",
    "    sentences += content_to_sentences(content, tokenizer)\n",
    "\n",
    "print (\"Parsing sentences from validation set\")\n",
    "for content in X_validation[\"sub_content\"]:\n",
    "    sentences += content_to_sentences(content, tokenizer)\n",
    "    \n",
    "print (\"Parsing sentences from unlabeled set\")\n",
    "for content in test[\"sub_content\"]:\n",
    "    sentences += content_to_sentences(content, tokenizer)"
   ]
  },
  {
   "cell_type": "code",
   "execution_count": null,
   "metadata": {
    "collapsed": true
   },
   "outputs": [],
   "source": [
    "'''\n",
    "#gensim doc2Vec implenmentation requires each paragraph to have a label associated with it.\n",
    "def labelizeContents(contents, label_type):\n",
    "    labelized = []\n",
    "    for i,v in enumerate(contents):\n",
    "        label = label_type[i]\n",
    "        labelized.append(gensim.models.doc2vec.TaggedDocument(v,[label]))\n",
    "    return labelized\n",
    "\n",
    "x_train = labelizeContents(train_sentences, y_train['manual_label']  )\n",
    "#x_test = labelizeContents(test_sentences, 'TEST')\n",
    "#unsup_contents = labelizeContents(unlabel_sentences, 'UNSUP')\n",
    "'''"
   ]
  },
  {
   "cell_type": "code",
   "execution_count": null,
   "metadata": {
    "collapsed": true
   },
   "outputs": [],
   "source": [
    "def read_corpus(fname, tokens_only=False):\n",
    "    for i, line in enumerate(f):\n",
    "        if tokens_only:\n",
    "            yield gensim.utils.simple_preprocess(line)\n",
    "        else:\n",
    "            # For training data, add tags\n",
    "            yield gensim.models.doc2vec.TaggedDocument(gensim.utils.simple_preprocess(line), [i])"
   ]
  },
  {
   "cell_type": "code",
   "execution_count": 255,
   "metadata": {},
   "outputs": [
    {
     "ename": "SyntaxError",
     "evalue": "invalid syntax (<ipython-input-255-70dddee7b633>, line 13)",
     "output_type": "error",
     "traceback": [
      "\u001b[0;36m  File \u001b[0;32m\"<ipython-input-255-70dddee7b633>\"\u001b[0;36m, line \u001b[0;32m13\u001b[0m\n\u001b[0;31m    for epoch in range (len(a)):\u001b[0m\n\u001b[0m                               ^\u001b[0m\n\u001b[0;31mSyntaxError\u001b[0m\u001b[0;31m:\u001b[0m invalid syntax\n"
     ]
    }
   ],
   "source": [
    "import random\n",
    "size = 100\n",
    "#instantiate our DM and DBOW models\n",
    "model_dm = gensim.models.Doc2Vec(min_count=2, window=10, vector_size=size, sample=1e-3, negative=5, workers=3,epochs=30)\n",
    "model_dbow = gensim.models.Doc2Vec(min_count=2, window=10, vector_size=size, sample=1e-3, negative=5, dm=0, workers=3,epochs=30)\n",
    "\n",
    "#build vocab over all contents\n",
    "all_train_contents = x_train + unsup_contents + x_test\n",
    "model_dm.build_vocab(all_train_contents)\n",
    "model_dbow.build_vocab(np.concatenate(all_train_contents)\n",
    "\n",
    "\n",
    "    model_dm.train(all_train_contents[perm])\n",
    "    model_dbow.train(all_train_contentsreviews[perm])\n",
    "\n",
    "#Get training set vectors from our models\n",
    "def getVecs(model, corpus, size):\n",
    "    vecs = [np.array(model[z.labels[0]]).reshape((1, size)) for z in corpus]\n",
    "    return np.concatenate(vecs)\n",
    "\n",
    "train_vecs_dm = getVecs(model_dm, x_train, size)\n",
    "train_vecs_dbow = getVecs(model_dbow, x_train, size)\n",
    "\n",
    "train_vecs = np.hstack((train_vecs_dm, train_vecs_dbow))\n",
    "\n",
    "#train over test set\n",
    "x_test = np.array(x_test)\n",
    "\n",
    "for epoch in range(10):\n",
    "    perm = np.random.permutation(x_test.shape[0])\n",
    "    model_dm.train(x_test[perm])\n",
    "    model_dbow.train(x_test[perm])\n",
    "\n",
    "#Construct vectors for test contentsreviews\n",
    "test_vecs_dm = getVecs(model_dm, x_test, size)\n",
    "test_vecs_dbow = getVecs(model_dbow, x_test, size)\n",
    "test_vecs = np.hstack((test_vecs_dm, test_vecs_dbow))\n"
   ]
  },
  {
   "cell_type": "code",
   "execution_count": 243,
   "metadata": {},
   "outputs": [
    {
     "data": {
      "text/plain": [
       "list"
      ]
     },
     "execution_count": 243,
     "metadata": {},
     "output_type": "execute_result"
    }
   ],
   "source": [
    "type(x_train)"
   ]
  },
  {
   "cell_type": "code",
   "execution_count": null,
   "metadata": {
    "collapsed": true
   },
   "outputs": [],
   "source": []
  },
  {
   "cell_type": "code",
   "execution_count": null,
   "metadata": {
    "collapsed": true
   },
   "outputs": [],
   "source": []
  },
  {
   "cell_type": "markdown",
   "metadata": {},
   "source": [
    "# semi-supervised learning"
   ]
  },
  {
   "cell_type": "code",
   "execution_count": 51,
   "metadata": {
    "collapsed": true
   },
   "outputs": [],
   "source": [
    "from sklearn.utils import shuffle\n",
    "from sklearn.base import BaseEstimator, RegressorMixin\n",
    "\n",
    "class PseudoLabeler(BaseEstimator, RegressorMixin):\n",
    "    '''\n",
    "    Sci-kit learn wrapper for creating pseudo-lebeled estimators.\n",
    "    '''\n",
    "    \n",
    "    def __init__(self, model, unlabled_data, sample_rate, seed=42):\n",
    "        '''\n",
    "        @sample_rate - percent of samples used as pseudo-labelled data\n",
    "                       from the unlabled dataset\n",
    "        '''\n",
    "        #assert sample_rate <= 1.0, 'Sample_rate should be between 0.0 and 1.0.'\n",
    "        \n",
    "        self.sample_rate = sample_rate\n",
    "        self.seed = seed\n",
    "        self.model = model\n",
    "        self.model.seed = seed\n",
    "        \n",
    "        self.unlabled_data = unlabled_data\n",
    "        #self.features = features\n",
    "        #self.target = target\n",
    "        \n",
    "    def get_params(self, deep=True):\n",
    "        return {\n",
    "            \"sample_rate\": self.sample_rate,\n",
    "            \"seed\": self.seed,\n",
    "            \"model\": self.model,\n",
    "            \"unlabled_data\": self.unlabled_data,\n",
    "            #\"features\": self.features,\n",
    "            #\"\"target\": self.target\n",
    "        }\n",
    "\n",
    "    def set_params(self, **parameters):\n",
    "        for parameter, value in parameters.items():\n",
    "            setattr(self, parameter, value)\n",
    "        return self\n",
    "\n",
    "        \n",
    "    def fit(self, X, y):\n",
    "        '''\n",
    "        Fit the data using pseudo labeling.\n",
    "        '''\n",
    "\n",
    "        augemented_train = self.__create_augmented_train(X, y)\n",
    "        \n",
    "        self.model.fit(\n",
    "            augemented_train[0],\n",
    "            augemented_train[1]\n",
    "        )\n",
    "        \n",
    "        return self\n",
    "\n",
    "\n",
    "    def __create_augmented_train(self, X, y):\n",
    "        '''\n",
    "        Create and return the augmented_train set that consists\n",
    "        of pseudo-labeled and labeled data.\n",
    "        '''        \n",
    "        num_of_samples = int(len(self.unlabled_data) * self.sample_rate)\n",
    "        \n",
    "        # Train the model and creat the pseudo-labels\n",
    "        self.model.fit(X, y)\n",
    "        pseudo_labels = self.model.predict(self.unlabled_data)\n",
    "        \n",
    "        # Add the pseudo-labels to the test set\n",
    "        #pseudo_data = self.unlabled_data.copy()\n",
    "        #pseudo_data[self.target] = pseudo_labels\n",
    "        a = pseudo_labels.copy()\n",
    "        b = self.unlabled_data.copy()\n",
    "        #concat a & b\n",
    "        c = np.c_[a.reshape(len(a), -1), b.reshape(len(b), -1)]\n",
    "        \n",
    "        np.random.shuffle(c)\n",
    "        #original form of features and labels\n",
    "        a2 = c[:, :a.size//len(a)].reshape(a.shape)\n",
    "        b2 = c[:, a.size//len(a):].reshape(b.shape)\n",
    "        \n",
    "        #pseudo_data = c.copy()\n",
    "        # Take a subset of the test set with pseudo-labels and append in onto\n",
    "        # the training set\n",
    "        sampled_pseudo_data = b2[0: num_of_samples]\n",
    "        sampled_pseudo_label = a2[0: num_of_samples]\n",
    "        \n",
    "        #temp_train = pd.concat([X, y], axis=1)\n",
    "        #augemented_train = pd.concat([sampled_pseudo_data, temp_train])\n",
    "\n",
    "        return (sampled_pseudo_data,sampled_pseudo_label)\n",
    "        \n",
    "    def predict(self, X):\n",
    "        '''\n",
    "        Returns the predicted values.\n",
    "        '''\n",
    "        return self.model.predict(X)\n",
    "    \n",
    "    def get_model_name(self):\n",
    "        return self.model.__class__.__name__\n",
    "    \n",
    "    "
   ]
  },
  {
   "cell_type": "code",
   "execution_count": null,
   "metadata": {
    "collapsed": true
   },
   "outputs": [],
   "source": []
  },
  {
   "cell_type": "markdown",
   "metadata": {},
   "source": [
    "# Pseudo Labeler"
   ]
  },
  {
   "cell_type": "code",
   "execution_count": null,
   "metadata": {
    "collapsed": true
   },
   "outputs": [],
   "source": [
    "#!!!!!!!!Do not re-run the next code part!!!!!!!!!!"
   ]
  },
  {
   "cell_type": "code",
   "execution_count": 33,
   "metadata": {},
   "outputs": [
    {
     "name": "stdout",
     "output_type": "stream",
     "text": [
      "content 0 of 7253\n",
      "content 1000 of 7253\n",
      "content 2000 of 7253\n",
      "content 3000 of 7253\n",
      "content 4000 of 7253\n",
      "content 5000 of 7253\n",
      "content 6000 of 7253\n",
      "content 7000 of 7253\n"
     ]
    },
    {
     "name": "stderr",
     "output_type": "stream",
     "text": [
      "/Users/bonnieliu/anaconda3/lib/python3.6/site-packages/sklearn/preprocessing/data.py:164: UserWarning: Numerical issues were encountered when centering the data and might not be solved. Dataset may contain too large values. You may need to prescale your features.\n",
      "  warnings.warn(\"Numerical issues were encountered \"\n",
      "/Users/bonnieliu/anaconda3/lib/python3.6/site-packages/sklearn/preprocessing/data.py:181: UserWarning: Numerical issues were encountered when scaling the data and might not be solved. The standard deviation of the data is probably very close to 0. \n",
      "  warnings.warn(\"Numerical issues were encountered \"\n"
     ]
    }
   ],
   "source": [
    "#extract whole dataset feature vectors\n",
    "clean_unlabeled_contents = []\n",
    "\n",
    "for content in test[\"sub_content\"]:\n",
    "    clean_unlabeled_contents.append( content_to_wordlist( content, \n",
    "        remove_stopwords=True ))\n",
    "\n",
    "unlabeledDataVecs = getAvgFeatureVecs( clean_unlabeled_contents, model_1, 300)\n",
    "\n",
    "#scale \n",
    "scaleunlabeledVecs = unlabeledDataVecs\n",
    "scaleunlabeledVecs = scale(scaleunlabeledVecs)"
   ]
  },
  {
   "cell_type": "code",
   "execution_count": 65,
   "metadata": {
    "collapsed": true
   },
   "outputs": [],
   "source": [
    "#save ndarray\n",
    "np.save(\"scaleunlabeledVecs.npy\",scaleunlabeledVecs)\n",
    "b = np.load(\"scaleunlabeledVecs.npy\")"
   ]
  },
  {
   "cell_type": "code",
   "execution_count": 305,
   "metadata": {
    "collapsed": true
   },
   "outputs": [],
   "source": [
    "'''\n",
    "templist = scaletestVecs\n",
    "templist = templist.tolist()\n",
    "testData = pd.Series(templist)\n",
    "y_validation.reset_index(drop=True, inplace=True)\n",
    "temp_train = pd.concat([y_validation, testData], axis=1)\n",
    "y_train.reset_index(drop=True, inplace=True)\n",
    "'''"
   ]
  },
  {
   "cell_type": "code",
   "execution_count": 68,
   "metadata": {},
   "outputs": [
    {
     "data": {
      "text/plain": [
       "numpy.ndarray"
      ]
     },
     "execution_count": 68,
     "metadata": {},
     "output_type": "execute_result"
    }
   ],
   "source": [
    "type(b)"
   ]
  },
  {
   "cell_type": "code",
   "execution_count": 49,
   "metadata": {
    "collapsed": true
   },
   "outputs": [],
   "source": [
    "#set initial parameters for modelling\n",
    "y_train_ndarray= y_train['manual_label'].as_matrix()\n",
    "type(y_train_ndarray)\n",
    "#test = unlabeledData\n",
    "testdb = scaleunlabeledVecs\n",
    "#features = 'vectors'\n",
    "#target = y_train_ndarray\n",
    "sample_rate = 0.8"
   ]
  },
  {
   "cell_type": "code",
   "execution_count": 52,
   "metadata": {
    "collapsed": true
   },
   "outputs": [],
   "source": [
    "model_xgb = PseudoLabeler(\n",
    "    XGBRegressor(nthread=1),\n",
    "    testdb,\n",
    "    #features,\n",
    "    #target,\n",
    "    sample_rate \n",
    ")\n"
   ]
  },
  {
   "cell_type": "code",
   "execution_count": 57,
   "metadata": {
    "collapsed": true
   },
   "outputs": [],
   "source": [
    "model_xgboost = model_xgb.fit(scaletrainVecs,y_train_ndarray)"
   ]
  },
  {
   "cell_type": "code",
   "execution_count": 58,
   "metadata": {},
   "outputs": [
    {
     "data": {
      "text/plain": [
       "169"
      ]
     },
     "execution_count": 58,
     "metadata": {},
     "output_type": "execute_result"
    }
   ],
   "source": [
    "len(y_validation)"
   ]
  },
  {
   "cell_type": "code",
   "execution_count": 59,
   "metadata": {},
   "outputs": [
    {
     "data": {
      "text/plain": [
       "array([-0.93703642, -0.97157955, -1.02112194])"
      ]
     },
     "execution_count": 59,
     "metadata": {},
     "output_type": "execute_result"
    }
   ],
   "source": [
    "num_folds = 3\n",
    "pred = model_xgboost.predict(scaletestVecs)\n",
    "cross_val_score(model_xgboost, scaletestVecs, y_validation, cv=num_folds, scoring='neg_mean_squared_error', n_jobs=8)"
   ]
  },
  {
   "cell_type": "code",
   "execution_count": null,
   "metadata": {
    "collapsed": true
   },
   "outputs": [],
   "source": [
    "#compare to normal training set prediction results"
   ]
  },
  {
   "cell_type": "code",
   "execution_count": 60,
   "metadata": {},
   "outputs": [
    {
     "data": {
      "text/plain": [
       "array([-0.8061027 , -0.99665212, -1.13169988])"
      ]
     },
     "execution_count": 60,
     "metadata": {},
     "output_type": "execute_result"
    }
   ],
   "source": [
    "model_xgbr = XGBRegressor(nthread=1)\n",
    "model_xgb_compare = model_xgbr.fit(scaletrainVecs,y_train_ndarray)\n",
    "num_folds = 3\n",
    "pred = model_xgb_compare.predict(scaletestVecs)\n",
    "cross_val_score(model_xgb_compare, scaletestVecs, y_validation, cv=num_folds, scoring='neg_mean_squared_error', n_jobs=8)"
   ]
  },
  {
   "cell_type": "code",
   "execution_count": null,
   "metadata": {
    "collapsed": true
   },
   "outputs": [],
   "source": []
  },
  {
   "cell_type": "markdown",
   "metadata": {},
   "source": [
    "# model factory"
   ]
  },
  {
   "cell_type": "code",
   "execution_count": 61,
   "metadata": {
    "collapsed": true
   },
   "outputs": [],
   "source": [
    "from sklearn.svm import SVC\n",
    "model_svm = PseudoLabeler(\n",
    "    SVC(),\n",
    "    testdb,\n",
    "    #features,\n",
    "    #target,\n",
    "    sample_rate=0.8 \n",
    ")\n"
   ]
  },
  {
   "cell_type": "code",
   "execution_count": 64,
   "metadata": {},
   "outputs": [
    {
     "name": "stdout",
     "output_type": "stream",
     "text": [
      "RBF train set accuracy\n",
      "0.872417982989\n",
      "RBF test set accuracy\n",
      "0.733727810651\n"
     ]
    }
   ],
   "source": [
    "model_svc = model_svm.fit(scaletrainVecs,y_train_ndarray)\n",
    "train_pred = model_svc.predict(scaletrainVecs)\n",
    "print('RBF train set accuracy')\n",
    "print(accuracy_score(y_train_ndarray,train_pred))\n",
    "test_pred = model_svc.predict(scaletestVecs)\n",
    "print('RBF test set accuracy')\n",
    "print(accuracy_score(y_validation,test_pred))"
   ]
  },
  {
   "cell_type": "code",
   "execution_count": 532,
   "metadata": {
    "collapsed": true
   },
   "outputs": [],
   "source": [
    "#save prediction with label\n",
    "temppdb = df_train1000\n",
    "y1 = temppdb['manual_label']\n",
    "X1 = temppdb.drop(['content','title'], axis=1)\n",
    "X1_train, X1_validation, y1_train, y1_validation = train_test_split(\n",
    "X1, y1, test_size=0.17, random_state=42)\n",
    "output = X1_validation.copy()\n",
    "#output['prediction'] = test_pred\n",
    "#output.to_csv( \"semi_svc_prediction.csv\", index=False )"
   ]
  },
  {
   "cell_type": "code",
   "execution_count": null,
   "metadata": {
    "collapsed": true
   },
   "outputs": [],
   "source": []
  },
  {
   "cell_type": "code",
   "execution_count": 512,
   "metadata": {
    "collapsed": true
   },
   "outputs": [
    {
     "data": {
      "text/html": [
       "<div>\n",
       "<style>\n",
       "    .dataframe thead tr:only-child th {\n",
       "        text-align: right;\n",
       "    }\n",
       "\n",
       "    .dataframe thead th {\n",
       "        text-align: left;\n",
       "    }\n",
       "\n",
       "    .dataframe tbody tr th {\n",
       "        vertical-align: top;\n",
       "    }\n",
       "</style>\n",
       "<table border=\"1\" class=\"dataframe\">\n",
       "  <thead>\n",
       "    <tr style=\"text-align: right;\">\n",
       "      <th></th>\n",
       "      <th>summary</th>\n",
       "      <th>tags</th>\n",
       "      <th>sub_content</th>\n",
       "      <th>content_score</th>\n",
       "      <th>summary_score</th>\n",
       "      <th>sum_score</th>\n",
       "      <th>manual_label</th>\n",
       "      <th>prediction</th>\n",
       "    </tr>\n",
       "  </thead>\n",
       "  <tbody>\n",
       "    <tr>\n",
       "      <th>0</th>\n",
       "      <td>inditex sa, the world's largest clothing retai...</td>\n",
       "      <td>zara</td>\n",
       "      <td>madrid, spain -- inditex sa, the world's larg...</td>\n",
       "      <td>0.250000</td>\n",
       "      <td>0.500000</td>\n",
       "      <td>0.325000</td>\n",
       "      <td>1</td>\n",
       "      <td>1.0</td>\n",
       "    </tr>\n",
       "    <tr>\n",
       "      <th>1</th>\n",
       "      <td>the surprise return of one of fashion's most p...</td>\n",
       "      <td>celine</td>\n",
       "      <td>paris, france -- on sunday morning, after lux...</td>\n",
       "      <td>0.243589</td>\n",
       "      <td>0.416667</td>\n",
       "      <td>0.295512</td>\n",
       "      <td>-1</td>\n",
       "      <td>1.0</td>\n",
       "    </tr>\n",
       "    <tr>\n",
       "      <th>2</th>\n",
       "      <td>none</td>\n",
       "      <td>hermes</td>\n",
       "      <td>hermes shows resistance in luxury downturn ( ...</td>\n",
       "      <td>-0.400000</td>\n",
       "      <td>0.000000</td>\n",
       "      <td>-0.280000</td>\n",
       "      <td>-1</td>\n",
       "      <td>1.0</td>\n",
       "    </tr>\n",
       "    <tr>\n",
       "      <th>3</th>\n",
       "      <td>hublot will probably be the next lvmh watch b...</td>\n",
       "      <td>baselworld</td>\n",
       "      <td>hublot may add intelligent functions to watche...</td>\n",
       "      <td>0.400000</td>\n",
       "      <td>0.071429</td>\n",
       "      <td>0.301429</td>\n",
       "      <td>1</td>\n",
       "      <td>1.0</td>\n",
       "    </tr>\n",
       "    <tr>\n",
       "      <th>4</th>\n",
       "      <td>gucci is offering discounts of as much as 50 p...</td>\n",
       "      <td>pricing</td>\n",
       "      <td>the euro has fallen more than 9 percent agains...</td>\n",
       "      <td>0.500000</td>\n",
       "      <td>0.133333</td>\n",
       "      <td>0.390000</td>\n",
       "      <td>1</td>\n",
       "      <td>-1.0</td>\n",
       "    </tr>\n",
       "    <tr>\n",
       "      <th>5</th>\n",
       "      <td>the savigny luxury index (\"sli\") and the msci ...</td>\n",
       "      <td>luxottica</td>\n",
       "      <td>safilo's share price fell 9 percent driven by ...</td>\n",
       "      <td>-0.200000</td>\n",
       "      <td>0.000000</td>\n",
       "      <td>-0.140000</td>\n",
       "      <td>1</td>\n",
       "      <td>-1.0</td>\n",
       "    </tr>\n",
       "    <tr>\n",
       "      <th>6</th>\n",
       "      <td>travellers account for 40 percent of global sp...</td>\n",
       "      <td>dfs</td>\n",
       "      <td>diverse approaches to a complex channel lvmh i...</td>\n",
       "      <td>0.296667</td>\n",
       "      <td>0.333333</td>\n",
       "      <td>0.307667</td>\n",
       "      <td>1</td>\n",
       "      <td>1.0</td>\n",
       "    </tr>\n",
       "    <tr>\n",
       "      <th>7</th>\n",
       "      <td>lvmh shares gained the most in a year after re...</td>\n",
       "      <td>louisvuitton</td>\n",
       "      <td>paris, france -- lvmh shares gained the most ...</td>\n",
       "      <td>0.314167</td>\n",
       "      <td>0.500000</td>\n",
       "      <td>0.369917</td>\n",
       "      <td>1</td>\n",
       "      <td>1.0</td>\n",
       "    </tr>\n",
       "    <tr>\n",
       "      <th>8</th>\n",
       "      <td>the space jam shoe was a bright spot in nike's...</td>\n",
       "      <td>nike</td>\n",
       "      <td>portland, united kingdom -- nike just had its...</td>\n",
       "      <td>0.293797</td>\n",
       "      <td>0.700000</td>\n",
       "      <td>0.415658</td>\n",
       "      <td>1</td>\n",
       "      <td>1.0</td>\n",
       "    </tr>\n",
       "    <tr>\n",
       "      <th>9</th>\n",
       "      <td>this week, kanye west's slavery remarks spark ...</td>\n",
       "      <td>nike</td>\n",
       "      <td>adidas chief executive kasper rorsted said the...</td>\n",
       "      <td>-0.133333</td>\n",
       "      <td>-0.400000</td>\n",
       "      <td>-0.213333</td>\n",
       "      <td>-1</td>\n",
       "      <td>-1.0</td>\n",
       "    </tr>\n",
       "    <tr>\n",
       "      <th>10</th>\n",
       "      <td>of all the fall-winter fashion collections on ...</td>\n",
       "      <td>luxury</td>\n",
       "      <td>as models parade the luxury label's latest men...</td>\n",
       "      <td>0.309057</td>\n",
       "      <td>0.250000</td>\n",
       "      <td>0.291340</td>\n",
       "      <td>0</td>\n",
       "      <td>1.0</td>\n",
       "    </tr>\n",
       "    <tr>\n",
       "      <th>11</th>\n",
       "      <td>bof compiles the most important professional m...</td>\n",
       "      <td>london</td>\n",
       "      <td>london, united kingdom -- bof compiles the mo...</td>\n",
       "      <td>0.250000</td>\n",
       "      <td>0.333333</td>\n",
       "      <td>0.275000</td>\n",
       "      <td>1</td>\n",
       "      <td>1.0</td>\n",
       "    </tr>\n",
       "    <tr>\n",
       "      <th>12</th>\n",
       "      <td>young designers, from alexander wang to christ...</td>\n",
       "      <td>nicholaskirkwood</td>\n",
       "      <td>so, what lessons can be learned from designers...</td>\n",
       "      <td>0.437500</td>\n",
       "      <td>0.333333</td>\n",
       "      <td>0.406250</td>\n",
       "      <td>1</td>\n",
       "      <td>1.0</td>\n",
       "    </tr>\n",
       "    <tr>\n",
       "      <th>13</th>\n",
       "      <td>straight from milan, bof brings you the top sh...</td>\n",
       "      <td>milan</td>\n",
       "      <td>milan, italy -- bof brings you the top shows ...</td>\n",
       "      <td>0.400000</td>\n",
       "      <td>0.350000</td>\n",
       "      <td>0.385000</td>\n",
       "      <td>1</td>\n",
       "      <td>1.0</td>\n",
       "    </tr>\n",
       "    <tr>\n",
       "      <th>14</th>\n",
       "      <td>the company reported a drop in third-quarter m...</td>\n",
       "      <td>tapestry</td>\n",
       "      <td>new york, united states -- tapestry inc., the...</td>\n",
       "      <td>0.014687</td>\n",
       "      <td>-0.155556</td>\n",
       "      <td>-0.036386</td>\n",
       "      <td>1</td>\n",
       "      <td>-1.0</td>\n",
       "    </tr>\n",
       "    <tr>\n",
       "      <th>15</th>\n",
       "      <td>the company reported a drop in third-quarter m...</td>\n",
       "      <td>katespade</td>\n",
       "      <td>same-store sales at tapestry's katespade brand...</td>\n",
       "      <td>-0.009928</td>\n",
       "      <td>-0.155556</td>\n",
       "      <td>-0.053616</td>\n",
       "      <td>-1</td>\n",
       "      <td>-1.0</td>\n",
       "    </tr>\n",
       "    <tr>\n",
       "      <th>16</th>\n",
       "      <td>pinarello is considering options following a n...</td>\n",
       "      <td>lvmh</td>\n",
       "      <td>treviso, italy -- pinarello, an italian maker...</td>\n",
       "      <td>-0.051515</td>\n",
       "      <td>0.000000</td>\n",
       "      <td>-0.036061</td>\n",
       "      <td>1</td>\n",
       "      <td>1.0</td>\n",
       "    </tr>\n",
       "    <tr>\n",
       "      <th>17</th>\n",
       "      <td>none</td>\n",
       "      <td>cavalli</td>\n",
       "      <td>in italy, a british outpost (ny times) \"in ot...</td>\n",
       "      <td>-0.041667</td>\n",
       "      <td>0.000000</td>\n",
       "      <td>-0.029167</td>\n",
       "      <td>0</td>\n",
       "      <td>0.0</td>\n",
       "    </tr>\n",
       "    <tr>\n",
       "      <th>18</th>\n",
       "      <td>bof brings you our top 10 shows of the season.</td>\n",
       "      <td>alexandermcqueen</td>\n",
       "      <td>other notable moments included brightly colour...</td>\n",
       "      <td>0.352778</td>\n",
       "      <td>0.500000</td>\n",
       "      <td>0.396944</td>\n",
       "      <td>1</td>\n",
       "      <td>1.0</td>\n",
       "    </tr>\n",
       "    <tr>\n",
       "      <th>19</th>\n",
       "      <td>the appointment is the second executive change...</td>\n",
       "      <td>frankfurt</td>\n",
       "      <td>frankfurt, germany -- adidas said on tuesday ...</td>\n",
       "      <td>-0.060606</td>\n",
       "      <td>0.000000</td>\n",
       "      <td>-0.042424</td>\n",
       "      <td>-1</td>\n",
       "      <td>-1.0</td>\n",
       "    </tr>\n",
       "    <tr>\n",
       "      <th>20</th>\n",
       "      <td>tisci is departing the lvmh-owned fashion hous...</td>\n",
       "      <td>givenchy</td>\n",
       "      <td>london, united kingdom -- riccardo tisci is e...</td>\n",
       "      <td>0.261362</td>\n",
       "      <td>0.500000</td>\n",
       "      <td>0.332953</td>\n",
       "      <td>1</td>\n",
       "      <td>1.0</td>\n",
       "    </tr>\n",
       "    <tr>\n",
       "      <th>21</th>\n",
       "      <td>in the wake of rana plaza, it's clear that vol...</td>\n",
       "      <td>michaelkors</td>\n",
       "      <td>horror was widespread after the watershed of r...</td>\n",
       "      <td>-0.320000</td>\n",
       "      <td>-0.225000</td>\n",
       "      <td>-0.291500</td>\n",
       "      <td>-1</td>\n",
       "      <td>-1.0</td>\n",
       "    </tr>\n",
       "    <tr>\n",
       "      <th>22</th>\n",
       "      <td>prada spa reported full-year sales that traile...</td>\n",
       "      <td>luxury</td>\n",
       "      <td>milan, italy -- prada spa reported full-year ...</td>\n",
       "      <td>-0.062500</td>\n",
       "      <td>-0.062500</td>\n",
       "      <td>-0.062500</td>\n",
       "      <td>-1</td>\n",
       "      <td>1.0</td>\n",
       "    </tr>\n",
       "    <tr>\n",
       "      <th>23</th>\n",
       "      <td>in the wake of rana plaza, it's clear that vol...</td>\n",
       "      <td>ralphlauren</td>\n",
       "      <td>horror was widespread after the watershed of r...</td>\n",
       "      <td>-0.320000</td>\n",
       "      <td>-0.225000</td>\n",
       "      <td>-0.291500</td>\n",
       "      <td>-1</td>\n",
       "      <td>-1.0</td>\n",
       "    </tr>\n",
       "    <tr>\n",
       "      <th>24</th>\n",
       "      <td>for someone whose design work has been dubbed ...</td>\n",
       "      <td>balenciaga</td>\n",
       "      <td>whereas, just two years ago, only the rare bla...</td>\n",
       "      <td>0.019476</td>\n",
       "      <td>-0.500000</td>\n",
       "      <td>-0.136367</td>\n",
       "      <td>-1</td>\n",
       "      <td>1.0</td>\n",
       "    </tr>\n",
       "    <tr>\n",
       "      <th>25</th>\n",
       "      <td>in the wake of rana plaza, it's clear that vol...</td>\n",
       "      <td>bangladesh</td>\n",
       "      <td>london, united kingdom -- on the morning of a...</td>\n",
       "      <td>0.027023</td>\n",
       "      <td>-0.225000</td>\n",
       "      <td>-0.048584</td>\n",
       "      <td>-1</td>\n",
       "      <td>-1.0</td>\n",
       "    </tr>\n",
       "    <tr>\n",
       "      <th>26</th>\n",
       "      <td>swiss watchmakers are braced for another diffi...</td>\n",
       "      <td>switzerland</td>\n",
       "      <td>basel, switzerland -- swiss watchmakers are b...</td>\n",
       "      <td>-0.007500</td>\n",
       "      <td>-0.079167</td>\n",
       "      <td>-0.029000</td>\n",
       "      <td>-1</td>\n",
       "      <td>-1.0</td>\n",
       "    </tr>\n",
       "    <tr>\n",
       "      <th>27</th>\n",
       "      <td>nike expects sales growth to recover in north ...</td>\n",
       "      <td>sportswear</td>\n",
       "      <td>the world's biggest sportswear maker last mont...</td>\n",
       "      <td>-0.086458</td>\n",
       "      <td>-0.375000</td>\n",
       "      <td>-0.173021</td>\n",
       "      <td>-1</td>\n",
       "      <td>-1.0</td>\n",
       "    </tr>\n",
       "    <tr>\n",
       "      <th>28</th>\n",
       "      <td>the china edit is a weekly curation of the mos...</td>\n",
       "      <td>maje</td>\n",
       "      <td>e-commerce china dangdang inc., china's bigges...</td>\n",
       "      <td>0.196970</td>\n",
       "      <td>0.450000</td>\n",
       "      <td>0.272879</td>\n",
       "      <td>1</td>\n",
       "      <td>1.0</td>\n",
       "    </tr>\n",
       "    <tr>\n",
       "      <th>29</th>\n",
       "      <td>alexandermcqueen has appointed emmanuel gintzb...</td>\n",
       "      <td>alexandermcqueen</td>\n",
       "      <td>london, united kingdom -- emmanuel gintzburge...</td>\n",
       "      <td>-0.098333</td>\n",
       "      <td>0.136364</td>\n",
       "      <td>-0.027924</td>\n",
       "      <td>1</td>\n",
       "      <td>1.0</td>\n",
       "    </tr>\n",
       "    <tr>\n",
       "      <th>...</th>\n",
       "      <td>...</td>\n",
       "      <td>...</td>\n",
       "      <td>...</td>\n",
       "      <td>...</td>\n",
       "      <td>...</td>\n",
       "      <td>...</td>\n",
       "      <td>...</td>\n",
       "      <td>...</td>\n",
       "    </tr>\n",
       "    <tr>\n",
       "      <th>139</th>\n",
       "      <td>none</td>\n",
       "      <td>dsquared</td>\n",
       "      <td>in italy, a british outpost (ny times) \"in ot...</td>\n",
       "      <td>-0.041667</td>\n",
       "      <td>0.000000</td>\n",
       "      <td>-0.029167</td>\n",
       "      <td>0</td>\n",
       "      <td>0.0</td>\n",
       "    </tr>\n",
       "    <tr>\n",
       "      <th>140</th>\n",
       "      <td>new data from the video and photo sharing app ...</td>\n",
       "      <td>calvinklein</td>\n",
       "      <td>in new york, raf simons ' calvinklein was the ...</td>\n",
       "      <td>0.308081</td>\n",
       "      <td>0.318182</td>\n",
       "      <td>0.311111</td>\n",
       "      <td>1</td>\n",
       "      <td>1.0</td>\n",
       "    </tr>\n",
       "    <tr>\n",
       "      <th>141</th>\n",
       "      <td>hm, europe's second-largest clothing retailer,...</td>\n",
       "      <td>france</td>\n",
       "      <td>paris, france -- hennes &amp; mauritz ab, europe'...</td>\n",
       "      <td>0.330000</td>\n",
       "      <td>0.250000</td>\n",
       "      <td>0.306000</td>\n",
       "      <td>1</td>\n",
       "      <td>1.0</td>\n",
       "    </tr>\n",
       "    <tr>\n",
       "      <th>142</th>\n",
       "      <td>kering sa said gucci chief executive officer p...</td>\n",
       "      <td>paris</td>\n",
       "      <td>paris, france -- kering sa said gucci chief e...</td>\n",
       "      <td>0.378788</td>\n",
       "      <td>0.500000</td>\n",
       "      <td>0.415152</td>\n",
       "      <td>-1</td>\n",
       "      <td>1.0</td>\n",
       "    </tr>\n",
       "    <tr>\n",
       "      <th>143</th>\n",
       "      <td>none</td>\n",
       "      <td>swatch</td>\n",
       "      <td>in contrast, the listing of chinese jeweller c...</td>\n",
       "      <td>-0.034701</td>\n",
       "      <td>0.000000</td>\n",
       "      <td>-0.024291</td>\n",
       "      <td>-1</td>\n",
       "      <td>-1.0</td>\n",
       "    </tr>\n",
       "    <tr>\n",
       "      <th>144</th>\n",
       "      <td>as the market for handbags becomes more crowde...</td>\n",
       "      <td>gucci</td>\n",
       "      <td>and can sales of ready-to-wear really drive a ...</td>\n",
       "      <td>0.181693</td>\n",
       "      <td>0.500000</td>\n",
       "      <td>0.277185</td>\n",
       "      <td>1</td>\n",
       "      <td>1.0</td>\n",
       "    </tr>\n",
       "    <tr>\n",
       "      <th>145</th>\n",
       "      <td>a group of investors are planning to bid about...</td>\n",
       "      <td>germany</td>\n",
       "      <td>herzogenaurach, germany -- a group of investo...</td>\n",
       "      <td>-0.046759</td>\n",
       "      <td>0.000000</td>\n",
       "      <td>-0.032731</td>\n",
       "      <td>0</td>\n",
       "      <td>-1.0</td>\n",
       "    </tr>\n",
       "    <tr>\n",
       "      <th>146</th>\n",
       "      <td>hugoboss ag's shares plunged after saying its ...</td>\n",
       "      <td>germany</td>\n",
       "      <td>metzingen, germany -- german clothier hugobos...</td>\n",
       "      <td>-0.013571</td>\n",
       "      <td>-0.212500</td>\n",
       "      <td>-0.073250</td>\n",
       "      <td>-1</td>\n",
       "      <td>-1.0</td>\n",
       "    </tr>\n",
       "    <tr>\n",
       "      <th>147</th>\n",
       "      <td>NaN</td>\n",
       "      <td>herzogenaurach</td>\n",
       "      <td>herzogenaurach, germany -- puma se, europe's ...</td>\n",
       "      <td>-0.150000</td>\n",
       "      <td>0.000000</td>\n",
       "      <td>-0.105000</td>\n",
       "      <td>1</td>\n",
       "      <td>-1.0</td>\n",
       "    </tr>\n",
       "    <tr>\n",
       "      <th>148</th>\n",
       "      <td>more than just the trendy bag of the moment, f...</td>\n",
       "      <td>saintlaurent</td>\n",
       "      <td>\"but as fashion designers introduced the style...</td>\n",
       "      <td>0.287273</td>\n",
       "      <td>0.475000</td>\n",
       "      <td>0.343591</td>\n",
       "      <td>1</td>\n",
       "      <td>1.0</td>\n",
       "    </tr>\n",
       "    <tr>\n",
       "      <th>149</th>\n",
       "      <td>hm, europe's second-largest clothing retailer,...</td>\n",
       "      <td>paris</td>\n",
       "      <td>paris, france -- hennes &amp; mauritz ab, europe'...</td>\n",
       "      <td>0.330000</td>\n",
       "      <td>0.250000</td>\n",
       "      <td>0.306000</td>\n",
       "      <td>1</td>\n",
       "      <td>1.0</td>\n",
       "    </tr>\n",
       "    <tr>\n",
       "      <th>150</th>\n",
       "      <td>none</td>\n",
       "      <td>lvmh</td>\n",
       "      <td>europe's luxury rally founders as china, gree...</td>\n",
       "      <td>-0.050000</td>\n",
       "      <td>0.000000</td>\n",
       "      <td>-0.035000</td>\n",
       "      <td>-1</td>\n",
       "      <td>-1.0</td>\n",
       "    </tr>\n",
       "    <tr>\n",
       "      <th>151</th>\n",
       "      <td>in today's news bites, how peter dundas pulled...</td>\n",
       "      <td>beyonce</td>\n",
       "      <td>peter dundas tells bof about his decision to l...</td>\n",
       "      <td>0.356771</td>\n",
       "      <td>0.245455</td>\n",
       "      <td>0.323376</td>\n",
       "      <td>1</td>\n",
       "      <td>1.0</td>\n",
       "    </tr>\n",
       "    <tr>\n",
       "      <th>152</th>\n",
       "      <td>the savigny luxury index (\"sli\") recorded its ...</td>\n",
       "      <td>lvmh</td>\n",
       "      <td>very little positive newsflow came from the se...</td>\n",
       "      <td>0.037705</td>\n",
       "      <td>1.000000</td>\n",
       "      <td>0.326394</td>\n",
       "      <td>1</td>\n",
       "      <td>-1.0</td>\n",
       "    </tr>\n",
       "    <tr>\n",
       "      <th>153</th>\n",
       "      <td>bof brings you our top 10 shows of the season.</td>\n",
       "      <td>italy</td>\n",
       "      <td>interestingly, milan delivered significantly m...</td>\n",
       "      <td>0.212933</td>\n",
       "      <td>0.500000</td>\n",
       "      <td>0.299053</td>\n",
       "      <td>1</td>\n",
       "      <td>1.0</td>\n",
       "    </tr>\n",
       "    <tr>\n",
       "      <th>154</th>\n",
       "      <td>kering sa said gucci chief executive officer p...</td>\n",
       "      <td>kering</td>\n",
       "      <td>paris, france -- kering sa said gucci chief e...</td>\n",
       "      <td>0.260859</td>\n",
       "      <td>0.500000</td>\n",
       "      <td>0.332601</td>\n",
       "      <td>1</td>\n",
       "      <td>1.0</td>\n",
       "    </tr>\n",
       "    <tr>\n",
       "      <th>155</th>\n",
       "      <td>gucci plans to name a new creative director as...</td>\n",
       "      <td>kering</td>\n",
       "      <td>gucci-owner kering sa's chief executive office...</td>\n",
       "      <td>0.416667</td>\n",
       "      <td>0.245455</td>\n",
       "      <td>0.365303</td>\n",
       "      <td>1</td>\n",
       "      <td>1.0</td>\n",
       "    </tr>\n",
       "    <tr>\n",
       "      <th>156</th>\n",
       "      <td>a group of luxury goods makers sued alibaba gr...</td>\n",
       "      <td>luxury</td>\n",
       "      <td>hangzhou, china -- a group of luxury goods ma...</td>\n",
       "      <td>-0.045000</td>\n",
       "      <td>0.000000</td>\n",
       "      <td>-0.031500</td>\n",
       "      <td>-1</td>\n",
       "      <td>-1.0</td>\n",
       "    </tr>\n",
       "    <tr>\n",
       "      <th>157</th>\n",
       "      <td>nike awarded chief executive officer mark park...</td>\n",
       "      <td>beaverton</td>\n",
       "      <td>beaverton, united states -- nike inc. awarded...</td>\n",
       "      <td>-0.166667</td>\n",
       "      <td>-0.166667</td>\n",
       "      <td>-0.166667</td>\n",
       "      <td>1</td>\n",
       "      <td>-1.0</td>\n",
       "    </tr>\n",
       "    <tr>\n",
       "      <th>158</th>\n",
       "      <td>retailers' recent results illustrate the diffi...</td>\n",
       "      <td>fashion</td>\n",
       "      <td>madrid, spain -- fast fashion is getting toug...</td>\n",
       "      <td>0.316667</td>\n",
       "      <td>0.250000</td>\n",
       "      <td>0.296667</td>\n",
       "      <td>-1</td>\n",
       "      <td>-1.0</td>\n",
       "    </tr>\n",
       "    <tr>\n",
       "      <th>159</th>\n",
       "      <td>hennes &amp; mauritz ab's websites are experiencin...</td>\n",
       "      <td>sweden</td>\n",
       "      <td>stockholm, sweden -- hennes &amp; mauritz ab's we...</td>\n",
       "      <td>0.315238</td>\n",
       "      <td>0.330000</td>\n",
       "      <td>0.319667</td>\n",
       "      <td>1</td>\n",
       "      <td>1.0</td>\n",
       "    </tr>\n",
       "    <tr>\n",
       "      <th>160</th>\n",
       "      <td>see the final eight designers shortlisted for ...</td>\n",
       "      <td>vetements</td>\n",
       "      <td>the finalists are: arthur arbesser, coperni, c...</td>\n",
       "      <td>-0.066667</td>\n",
       "      <td>0.000000</td>\n",
       "      <td>-0.046667</td>\n",
       "      <td>1</td>\n",
       "      <td>1.0</td>\n",
       "    </tr>\n",
       "    <tr>\n",
       "      <th>161</th>\n",
       "      <td>in today's news bites, mario testino guest-edi...</td>\n",
       "      <td>balmain</td>\n",
       "      <td>the latest issue of vogue india will be on sal...</td>\n",
       "      <td>0.216026</td>\n",
       "      <td>0.500000</td>\n",
       "      <td>0.301218</td>\n",
       "      <td>1</td>\n",
       "      <td>1.0</td>\n",
       "    </tr>\n",
       "    <tr>\n",
       "      <th>162</th>\n",
       "      <td>NaN</td>\n",
       "      <td>coach</td>\n",
       "      <td>new york, united states -- coach inc., the la...</td>\n",
       "      <td>-0.049465</td>\n",
       "      <td>0.000000</td>\n",
       "      <td>-0.034626</td>\n",
       "      <td>-1</td>\n",
       "      <td>1.0</td>\n",
       "    </tr>\n",
       "    <tr>\n",
       "      <th>163</th>\n",
       "      <td>with the demise of style.com, the media giant ...</td>\n",
       "      <td>lvmh</td>\n",
       "      <td>imagine the power of conde nast's formidable b...</td>\n",
       "      <td>-0.040556</td>\n",
       "      <td>-0.125000</td>\n",
       "      <td>-0.065889</td>\n",
       "      <td>1</td>\n",
       "      <td>1.0</td>\n",
       "    </tr>\n",
       "    <tr>\n",
       "      <th>164</th>\n",
       "      <td>chief sustainability officer hannah jones talk...</td>\n",
       "      <td>sportswear</td>\n",
       "      <td>beaverton, united states -- \"the nike product...</td>\n",
       "      <td>-0.069865</td>\n",
       "      <td>0.000000</td>\n",
       "      <td>-0.048906</td>\n",
       "      <td>-1</td>\n",
       "      <td>-1.0</td>\n",
       "    </tr>\n",
       "    <tr>\n",
       "      <th>165</th>\n",
       "      <td>hermes appears to be moving away from the core...</td>\n",
       "      <td>luxury</td>\n",
       "      <td>london, united kingdom -- there is no doubt t...</td>\n",
       "      <td>0.167177</td>\n",
       "      <td>0.553571</td>\n",
       "      <td>0.283095</td>\n",
       "      <td>1</td>\n",
       "      <td>1.0</td>\n",
       "    </tr>\n",
       "    <tr>\n",
       "      <th>166</th>\n",
       "      <td>the savigny luxury index (\"sli\") continued to ...</td>\n",
       "      <td>stuartweitzman</td>\n",
       "      <td>* estee lauder's share price leapt more than 1...</td>\n",
       "      <td>0.391667</td>\n",
       "      <td>0.000000</td>\n",
       "      <td>0.274167</td>\n",
       "      <td>-1</td>\n",
       "      <td>1.0</td>\n",
       "    </tr>\n",
       "    <tr>\n",
       "      <th>167</th>\n",
       "      <td>bof speaks to swiss fashion photographer hans ...</td>\n",
       "      <td>kenzo</td>\n",
       "      <td>\"life is colour, i see everything in colour, s...</td>\n",
       "      <td>0.200000</td>\n",
       "      <td>0.700000</td>\n",
       "      <td>0.350000</td>\n",
       "      <td>0</td>\n",
       "      <td>1.0</td>\n",
       "    </tr>\n",
       "    <tr>\n",
       "      <th>168</th>\n",
       "      <td>the undisputed capital of fashion for more tha...</td>\n",
       "      <td>lvmh</td>\n",
       "      <td>today however, the city is also a home for big...</td>\n",
       "      <td>0.268750</td>\n",
       "      <td>0.350000</td>\n",
       "      <td>0.293125</td>\n",
       "      <td>1</td>\n",
       "      <td>1.0</td>\n",
       "    </tr>\n",
       "  </tbody>\n",
       "</table>\n",
       "<p>169 rows × 8 columns</p>\n",
       "</div>"
      ],
      "text/plain": [
       "                                               summary              tags  \\\n",
       "0    inditex sa, the world's largest clothing retai...              zara   \n",
       "1    the surprise return of one of fashion's most p...            celine   \n",
       "2                                                 none            hermes   \n",
       "3     hublot will probably be the next lvmh watch b...        baselworld   \n",
       "4    gucci is offering discounts of as much as 50 p...           pricing   \n",
       "5    the savigny luxury index (\"sli\") and the msci ...         luxottica   \n",
       "6    travellers account for 40 percent of global sp...               dfs   \n",
       "7    lvmh shares gained the most in a year after re...      louisvuitton   \n",
       "8    the space jam shoe was a bright spot in nike's...              nike   \n",
       "9    this week, kanye west's slavery remarks spark ...              nike   \n",
       "10   of all the fall-winter fashion collections on ...            luxury   \n",
       "11   bof compiles the most important professional m...            london   \n",
       "12   young designers, from alexander wang to christ...  nicholaskirkwood   \n",
       "13   straight from milan, bof brings you the top sh...             milan   \n",
       "14   the company reported a drop in third-quarter m...          tapestry   \n",
       "15   the company reported a drop in third-quarter m...         katespade   \n",
       "16   pinarello is considering options following a n...              lvmh   \n",
       "17                                                none           cavalli   \n",
       "18      bof brings you our top 10 shows of the season.  alexandermcqueen   \n",
       "19   the appointment is the second executive change...         frankfurt   \n",
       "20   tisci is departing the lvmh-owned fashion hous...          givenchy   \n",
       "21   in the wake of rana plaza, it's clear that vol...       michaelkors   \n",
       "22   prada spa reported full-year sales that traile...            luxury   \n",
       "23   in the wake of rana plaza, it's clear that vol...       ralphlauren   \n",
       "24   for someone whose design work has been dubbed ...        balenciaga   \n",
       "25   in the wake of rana plaza, it's clear that vol...        bangladesh   \n",
       "26   swiss watchmakers are braced for another diffi...       switzerland   \n",
       "27   nike expects sales growth to recover in north ...        sportswear   \n",
       "28   the china edit is a weekly curation of the mos...              maje   \n",
       "29   alexandermcqueen has appointed emmanuel gintzb...  alexandermcqueen   \n",
       "..                                                 ...               ...   \n",
       "139                                               none          dsquared   \n",
       "140  new data from the video and photo sharing app ...       calvinklein   \n",
       "141  hm, europe's second-largest clothing retailer,...            france   \n",
       "142  kering sa said gucci chief executive officer p...             paris   \n",
       "143                                               none            swatch   \n",
       "144  as the market for handbags becomes more crowde...             gucci   \n",
       "145  a group of investors are planning to bid about...           germany   \n",
       "146  hugoboss ag's shares plunged after saying its ...           germany   \n",
       "147                                                NaN    herzogenaurach   \n",
       "148  more than just the trendy bag of the moment, f...      saintlaurent   \n",
       "149  hm, europe's second-largest clothing retailer,...             paris   \n",
       "150                                               none              lvmh   \n",
       "151  in today's news bites, how peter dundas pulled...           beyonce   \n",
       "152  the savigny luxury index (\"sli\") recorded its ...              lvmh   \n",
       "153     bof brings you our top 10 shows of the season.             italy   \n",
       "154  kering sa said gucci chief executive officer p...            kering   \n",
       "155  gucci plans to name a new creative director as...            kering   \n",
       "156  a group of luxury goods makers sued alibaba gr...            luxury   \n",
       "157  nike awarded chief executive officer mark park...         beaverton   \n",
       "158  retailers' recent results illustrate the diffi...           fashion   \n",
       "159  hennes & mauritz ab's websites are experiencin...            sweden   \n",
       "160  see the final eight designers shortlisted for ...         vetements   \n",
       "161  in today's news bites, mario testino guest-edi...           balmain   \n",
       "162                                                NaN             coach   \n",
       "163  with the demise of style.com, the media giant ...              lvmh   \n",
       "164  chief sustainability officer hannah jones talk...        sportswear   \n",
       "165  hermes appears to be moving away from the core...            luxury   \n",
       "166  the savigny luxury index (\"sli\") continued to ...    stuartweitzman   \n",
       "167  bof speaks to swiss fashion photographer hans ...             kenzo   \n",
       "168  the undisputed capital of fashion for more tha...              lvmh   \n",
       "\n",
       "                                           sub_content  content_score  \\\n",
       "0     madrid, spain -- inditex sa, the world's larg...       0.250000   \n",
       "1     paris, france -- on sunday morning, after lux...       0.243589   \n",
       "2     hermes shows resistance in luxury downturn ( ...      -0.400000   \n",
       "3    hublot may add intelligent functions to watche...       0.400000   \n",
       "4    the euro has fallen more than 9 percent agains...       0.500000   \n",
       "5    safilo's share price fell 9 percent driven by ...      -0.200000   \n",
       "6    diverse approaches to a complex channel lvmh i...       0.296667   \n",
       "7     paris, france -- lvmh shares gained the most ...       0.314167   \n",
       "8     portland, united kingdom -- nike just had its...       0.293797   \n",
       "9    adidas chief executive kasper rorsted said the...      -0.133333   \n",
       "10   as models parade the luxury label's latest men...       0.309057   \n",
       "11    london, united kingdom -- bof compiles the mo...       0.250000   \n",
       "12   so, what lessons can be learned from designers...       0.437500   \n",
       "13    milan, italy -- bof brings you the top shows ...       0.400000   \n",
       "14    new york, united states -- tapestry inc., the...       0.014687   \n",
       "15   same-store sales at tapestry's katespade brand...      -0.009928   \n",
       "16    treviso, italy -- pinarello, an italian maker...      -0.051515   \n",
       "17    in italy, a british outpost (ny times) \"in ot...      -0.041667   \n",
       "18   other notable moments included brightly colour...       0.352778   \n",
       "19    frankfurt, germany -- adidas said on tuesday ...      -0.060606   \n",
       "20    london, united kingdom -- riccardo tisci is e...       0.261362   \n",
       "21   horror was widespread after the watershed of r...      -0.320000   \n",
       "22    milan, italy -- prada spa reported full-year ...      -0.062500   \n",
       "23   horror was widespread after the watershed of r...      -0.320000   \n",
       "24   whereas, just two years ago, only the rare bla...       0.019476   \n",
       "25    london, united kingdom -- on the morning of a...       0.027023   \n",
       "26    basel, switzerland -- swiss watchmakers are b...      -0.007500   \n",
       "27   the world's biggest sportswear maker last mont...      -0.086458   \n",
       "28   e-commerce china dangdang inc., china's bigges...       0.196970   \n",
       "29    london, united kingdom -- emmanuel gintzburge...      -0.098333   \n",
       "..                                                 ...            ...   \n",
       "139   in italy, a british outpost (ny times) \"in ot...      -0.041667   \n",
       "140  in new york, raf simons ' calvinklein was the ...       0.308081   \n",
       "141   paris, france -- hennes & mauritz ab, europe'...       0.330000   \n",
       "142   paris, france -- kering sa said gucci chief e...       0.378788   \n",
       "143  in contrast, the listing of chinese jeweller c...      -0.034701   \n",
       "144  and can sales of ready-to-wear really drive a ...       0.181693   \n",
       "145   herzogenaurach, germany -- a group of investo...      -0.046759   \n",
       "146   metzingen, germany -- german clothier hugobos...      -0.013571   \n",
       "147   herzogenaurach, germany -- puma se, europe's ...      -0.150000   \n",
       "148  \"but as fashion designers introduced the style...       0.287273   \n",
       "149   paris, france -- hennes & mauritz ab, europe'...       0.330000   \n",
       "150   europe's luxury rally founders as china, gree...      -0.050000   \n",
       "151  peter dundas tells bof about his decision to l...       0.356771   \n",
       "152  very little positive newsflow came from the se...       0.037705   \n",
       "153  interestingly, milan delivered significantly m...       0.212933   \n",
       "154   paris, france -- kering sa said gucci chief e...       0.260859   \n",
       "155  gucci-owner kering sa's chief executive office...       0.416667   \n",
       "156   hangzhou, china -- a group of luxury goods ma...      -0.045000   \n",
       "157   beaverton, united states -- nike inc. awarded...      -0.166667   \n",
       "158   madrid, spain -- fast fashion is getting toug...       0.316667   \n",
       "159   stockholm, sweden -- hennes & mauritz ab's we...       0.315238   \n",
       "160  the finalists are: arthur arbesser, coperni, c...      -0.066667   \n",
       "161  the latest issue of vogue india will be on sal...       0.216026   \n",
       "162   new york, united states -- coach inc., the la...      -0.049465   \n",
       "163  imagine the power of conde nast's formidable b...      -0.040556   \n",
       "164   beaverton, united states -- \"the nike product...      -0.069865   \n",
       "165   london, united kingdom -- there is no doubt t...       0.167177   \n",
       "166  * estee lauder's share price leapt more than 1...       0.391667   \n",
       "167  \"life is colour, i see everything in colour, s...       0.200000   \n",
       "168  today however, the city is also a home for big...       0.268750   \n",
       "\n",
       "     summary_score  sum_score  manual_label  prediction  \n",
       "0         0.500000   0.325000             1         1.0  \n",
       "1         0.416667   0.295512            -1         1.0  \n",
       "2         0.000000  -0.280000            -1         1.0  \n",
       "3         0.071429   0.301429             1         1.0  \n",
       "4         0.133333   0.390000             1        -1.0  \n",
       "5         0.000000  -0.140000             1        -1.0  \n",
       "6         0.333333   0.307667             1         1.0  \n",
       "7         0.500000   0.369917             1         1.0  \n",
       "8         0.700000   0.415658             1         1.0  \n",
       "9        -0.400000  -0.213333            -1        -1.0  \n",
       "10        0.250000   0.291340             0         1.0  \n",
       "11        0.333333   0.275000             1         1.0  \n",
       "12        0.333333   0.406250             1         1.0  \n",
       "13        0.350000   0.385000             1         1.0  \n",
       "14       -0.155556  -0.036386             1        -1.0  \n",
       "15       -0.155556  -0.053616            -1        -1.0  \n",
       "16        0.000000  -0.036061             1         1.0  \n",
       "17        0.000000  -0.029167             0         0.0  \n",
       "18        0.500000   0.396944             1         1.0  \n",
       "19        0.000000  -0.042424            -1        -1.0  \n",
       "20        0.500000   0.332953             1         1.0  \n",
       "21       -0.225000  -0.291500            -1        -1.0  \n",
       "22       -0.062500  -0.062500            -1         1.0  \n",
       "23       -0.225000  -0.291500            -1        -1.0  \n",
       "24       -0.500000  -0.136367            -1         1.0  \n",
       "25       -0.225000  -0.048584            -1        -1.0  \n",
       "26       -0.079167  -0.029000            -1        -1.0  \n",
       "27       -0.375000  -0.173021            -1        -1.0  \n",
       "28        0.450000   0.272879             1         1.0  \n",
       "29        0.136364  -0.027924             1         1.0  \n",
       "..             ...        ...           ...         ...  \n",
       "139       0.000000  -0.029167             0         0.0  \n",
       "140       0.318182   0.311111             1         1.0  \n",
       "141       0.250000   0.306000             1         1.0  \n",
       "142       0.500000   0.415152            -1         1.0  \n",
       "143       0.000000  -0.024291            -1        -1.0  \n",
       "144       0.500000   0.277185             1         1.0  \n",
       "145       0.000000  -0.032731             0        -1.0  \n",
       "146      -0.212500  -0.073250            -1        -1.0  \n",
       "147       0.000000  -0.105000             1        -1.0  \n",
       "148       0.475000   0.343591             1         1.0  \n",
       "149       0.250000   0.306000             1         1.0  \n",
       "150       0.000000  -0.035000            -1        -1.0  \n",
       "151       0.245455   0.323376             1         1.0  \n",
       "152       1.000000   0.326394             1        -1.0  \n",
       "153       0.500000   0.299053             1         1.0  \n",
       "154       0.500000   0.332601             1         1.0  \n",
       "155       0.245455   0.365303             1         1.0  \n",
       "156       0.000000  -0.031500            -1        -1.0  \n",
       "157      -0.166667  -0.166667             1        -1.0  \n",
       "158       0.250000   0.296667            -1        -1.0  \n",
       "159       0.330000   0.319667             1         1.0  \n",
       "160       0.000000  -0.046667             1         1.0  \n",
       "161       0.500000   0.301218             1         1.0  \n",
       "162       0.000000  -0.034626            -1         1.0  \n",
       "163      -0.125000  -0.065889             1         1.0  \n",
       "164       0.000000  -0.048906            -1        -1.0  \n",
       "165       0.553571   0.283095             1         1.0  \n",
       "166       0.000000   0.274167            -1         1.0  \n",
       "167       0.700000   0.350000             0         1.0  \n",
       "168       0.350000   0.293125             1         1.0  \n",
       "\n",
       "[169 rows x 8 columns]"
      ]
     },
     "execution_count": 512,
     "metadata": {},
     "output_type": "execute_result"
    }
   ],
   "source": [
    "output.reset_index(drop=True, inplace=True)\n",
    "output"
   ]
  },
  {
   "cell_type": "code",
   "execution_count": 514,
   "metadata": {
    "collapsed": true
   },
   "outputs": [
    {
     "name": "stdout",
     "output_type": "stream",
     "text": [
      "zara\n",
      "[\" madrid, spain -- inditex sa, the world's largest clothing retailer, reported annual profit that met estimates as the zara and massimodutti chains added more stores.net income climbed to 2.5 billion euros ($2.7 billion) in the 12 months through january from 2.38 billion euros a year earlier, the arteixo, spain-based owner of the zara and massimodutti chains said wednesday in a regulatory filing.analysts surveyed by bloomberg had estimated profit of 2.49 billion euros.\"]\n",
      "content score: 0.25\n",
      "summary: inditex sa, the world's largest clothing retailer, reported annual profit that met estimates as the zara and massimodutti chains added more stores.\n",
      "summary score: 0.5\n",
      "manual_label: 1\n",
      "prediction: 1.0\n",
      "\n",
      "\n",
      "celine\n",
      "[' paris, france -- on sunday morning, after luxury conglomerate lvmh announced that hedi slimane would take over at celine , the house posted a photo of its new designer on instagram with a simple and direct caption, complete with hashtags: \"hedi slimane named artistic, creative and image director of celine #hedislimane #celine #lvmh.', '\"for any other brand, such a gesture would seem normal.but this is celine, the women\\'s ready-to-wear house led for the past 10 years by phoebe philo , whose allergy to publicity and social media is widely known.the brand only began dabbling in social media in early 2017, when it launched its instagram account, and executing an e-commerce plan late last year.to \"ten years of work destroyed!!!\"', \"-- depending on whether the commenter's allegiance was to philo, the coco chanel of her generation who transformed celine from a once-middling label into a fashion authority, or slimane, the former dior homme and yves saintlaurent maestro whose ability to drive spectacular commercial results is polarising, yet unmatched.the rationale for slimane's appointment at celine is clear: lvmh has big commercial ambitions for the brand and the group's chairman and chief executive bernard arnault has reportedly sought to win back slimane since he exited dior homme, also owned by lvmh, in 2007. now, as celine approaches eur1 billion in annual sales, the arrival of slimane (who is set to launch new categories including menswear, couture and fragrance) alongside a more robust digital strategy and new stores (there are currently 150 globally) could help to double that figure.fragrance, if executed correctly, could be a billion-dollar business in itself.\", \"(in the first three quarters of the 2017 fiscal year , sales at the brand, whose current creative director anthony vaccarello has managed to evolve the label without abandoning slimane's vision, were more than eur1 billion, up 25 percent from 2016.\", ')but just how slimane will go about repeating this success at celine is complicated.celine\\'s history is not as rich or storied as that of yves saintlaurent (or dior).founded in 1945 as a made-to-measure children\\'s shoe business -- identifiable by its red elephant logo -- founder-designer celine vipiana pivoted the business in 1960 to focus on women\\'s sportswear, finding a following with the french bourgeoisie.philo\\'s success at the house, which she completely revamped, had virtually nothing to do with celine\\'s past.she carried on with few memorable signatures to rely upon, save for the abutting \"c\" logo and a horse-and-buggy motif, and re-imagined celine in her own, maximum-minimalist style, which has been seared into the hearts and minds of faithful celine followers (sometimes called \"philophiles\") around the world who quite literally bought into philo\\'s philosophy of a wardrobe for the modern woman.unlike saintlaurent, which was uneven both critically and commercially when slimane joined, leaving room for a sweeping reinvention, philo has loyal followers, many of whom could easily abandon the brand if slimane makes changes that are too extreme.', \"(the designer's weighty new title -- artistic, creative and image director -- indicates that he will have a significant amount of control over everything from product to stores to beauty.\", \")even though lvmh has already invested a great deal of money in building out the celine brand over the last 10 years, including its suite of about 150 retail stores, slimane will likely want to redo everything.still, it's also likely that he will find a way to reconnect with his own set of loyal customers, many of whom are still buying saintlaurent and dior homme.store buyers are generally enthusiastic, though the reactions of some have been more muted than others.\", '\"given the industry\\'s current appetite for designer shuffles, the news of hedi slimane to celine is one of the most welcome and logical new pairings,\" said linda fargo , fashion director at bergdorf goodman .', '\"losing phoebe was admittedly concerning at retail, but the news is a relief and gives us great confidence in the go forward.', '\"\"the move of hedi to celine is exciting and unexpected,\" said paolo de cesare, president of printemps.', '\"hedi has proven to be a \\'trendsetter\\' in the industry and it seems his creative mandate will cover all aspects of the brand, including the development of a men\\'s line and beauty.celine has done incredibly well with philo, and i\\'m convinced it will have a very exciting development in the coming seasons.', '\"\"this appointment was completely unexpected which makes it very interesting,\" said sebastian manes, director of buying and merchandising at selfridges .', '\"the addition of menswear is a very smart move specifically with the credibility of hedi in that category.', '\"\"whenever a fashion house makes a change in creative direction, we tend to see more interest and with slimane taking over celine\\'s helm, you can be certain that this will be the case,\" added tracy margolies, chief merchant at saks fifth avenue.slimane\\'s success at celine will depend, in part, on his ability to create an exacting core collection -- which at saintlaurent included the perfect chelsea boot, motorcycle jacket and pencil-thin jeans -- that appeals to the label\\'s current customers, while also layering on his own vision of celine.what\\'s sure is that slimane\\'s debut at celine will be the hottest ticket in town at paris fashion week come september.until then, the philophiles have one more season to fill their wardrobes.']\n",
      "content score: 0.243588985\n",
      "summary: the surprise return of one of fashion's most polarising yet commercially successful designers could double revenues at the lvmh-owned house. but will it alienate celine loyalists?\n",
      "summary score: 0.416666667\n",
      "manual_label: -1\n",
      "prediction: 1.0\n",
      "\n",
      "\n",
      "hermes\n",
      "[' hermes shows resistance in luxury downturn ( the globe and mail) \"we have seen a slowdown in sales growth since october but we are still growing,\" says hermes finance director mireille maury.bally to launch e-commerce ( wwd ) bally, the swiss luxury brand joins in on the e-commerce game.']\n",
      "content score: -0.4\n",
      "summary: none\n",
      "summary score: 0.0\n",
      "manual_label: -1\n",
      "prediction: 1.0\n",
      "\n",
      "\n",
      "baselworld\n",
      "['hublot may add intelligent functions to watches in 2017 or 2018, and zenith could also consider doing so sometime, jean-claude biver said in an interview at the baselworld watch fair.some of the functions could be sports-related, similar to its sister brand tag heuer, he added.']\n",
      "content score: 0.4\n",
      "summary:  hublot will probably be the next lvmh watch brand to add smart functions, following tag heuer's footsteps, according to lvmh's watch chief. \n",
      "summary score: 0.071428571\n",
      "manual_label: 1\n",
      "prediction: 1.0\n",
      "\n",
      "\n",
      "pricing\n",
      "['the euro has fallen more than 9 percent against the yuan and the dollar this year.', '\"currency fluctuations have led to unsustainable pricing gaps between europe and asia and intra-asia,\" according to analysts at nomura.kering said in april it would rebalance some prices, adding that any changes would be on a case-by-case basis.']\n",
      "content score: 0.5\n",
      "summary: gucci is offering discounts of as much as 50 percent in china as the italian fashion house seeks to clear out merchandise designed by its former creative director, prompting lines of chinese shoppers to form since sunrise.\n",
      "summary score: 0.133333333\n",
      "manual_label: 1\n",
      "prediction: -1.0\n",
      "\n",
      "\n",
      "luxottica\n",
      "[\"safilo's share price fell 9 percent driven by disappointing 2015 results, which saw a contraction of 14 percent in ebitda and almost 85 percent in net profit.luxottica fell 8 percent on the month as the company trimmed its profit guidance for the next three years.the company continued to be plagued by concerns over its governance as it appointed a long-time associate of the de vecchio family to its board.\"]\n",
      "content score: -0.2\n",
      "summary: the savigny luxury index (\"sli\") and the msci world index (\"msci\") moved in opposite directions this month, with the sli losing 2 percent and the msci gaining the same.\n",
      "summary score: 0.0\n",
      "manual_label: 1\n",
      "prediction: -1.0\n",
      "\n",
      "\n",
      "dfs\n",
      "['diverse approaches to a complex channel lvmh is the only luxury goods player with significant direct operations in travel retail, through its selective retail division.the division, comprising of duty free operator dfs and beauty products chain sephora, booked sales of eur9.5 billion (about $10.38 billion) and operating earnings of eur882 million (almost $964 million) in 2014. of this, dfs contributed an estimated 42 percent of sales and 38 percent of profits.salvatoreferragamo is by far the most exposed brand to travel retail, with 138 duty free locations, more than twice as many as the number two, hermes.among the mega-brands, louisvuitton has the lowest exposure to travel retail, with only two airport locations (gucci 31, burberry 22, prada nine).however, the brand operates 15 downtown locations, piggybacking on dfs galleria (gucci 15, prada 15).this could give louisvuitton better marginal headroom for space growth, should it decide to expand more meaningfully into accessible categories -- fashion jewellery, eyewear, fragrances and cosmetics, and silk scarves.']\n",
      "content score: 0.296666667\n",
      "summary: travellers account for 40 percent of global spending on personal luxury goods, with 12 to 13 percent captured through dedicated travel retail channels. who is best positioned to capitalise?\n",
      "summary score: 0.333333333\n",
      "manual_label: 1\n",
      "prediction: 1.0\n",
      "\n",
      "\n",
      "louisvuitton\n",
      "[' paris, france -- lvmh shares gained the most in a year after results beat estimates on demand for louisvuitton bags in japan and europe, providing some relief for a beleaguered luxury-goods industry.the stock rose as much as 7.4 percent to 155.9 euros in early paris trading, the biggest intraday advance since feb. 4, 2015. a better-than-expected fourth-quarter performance in fashion and leather-goods provided a highlight for lvmh, which is benefiting from a broad spread of goods covering celine dresses, moet and chandon champagne and christian dior perfumes.', '\\'strong progress\\' fourth-quarter revenue rose 5 percent on an organic basis, topping the 3.9 percent estimate, thanks to \"strong progress\" in europe, the u.s. and japan, it said.the company\\'s flagship label louisvuitton is growing again after a revamp and had a \"remarkable year,\" the company said.fashion and leather-goods is lvmh\\'s largest division, accounting for more than a third of sales and more than half of earnings before interest and tax.']\n",
      "content score: 0.314166667\n",
      "summary: lvmh shares gained the most in a year after results beat estimates on demand for louisvuitton bags in japan and europe, providing some relief for a beleaguered luxury-goods industry.\n",
      "summary score: 0.5\n",
      "manual_label: 1\n",
      "prediction: 1.0\n",
      "\n",
      "\n",
      "nike\n",
      "[\" portland, united kingdom -- nike just had its biggest sneaker release ever thanks to a cartoon bunny and michael jordan.in december, the shoemaker's jordan brand began selling the space jam xi, celebrating the 20th anniversary of the 1996 comedy featuring the basketball legend alongside looney tunes characters.shoppers went bonkers.\", '\"the space jam xi was the largest and most successful shoe launch in the history of nike,\" trevor edwards, president of nike inc., said on a conference call with analysts tuesday.he didn\\'t disclose sales numbers.it comes in a special edition box.the space jam shoe was a bright spot in nike\\'s otherwise gloomy quarter, as shares fell amid investor concerns that nike is losing market share to hard-charging competitors adidas ag and underarmour inc. retro styles like the space jam kicks are having a fashion moment and beaverton, oregon-based nike is riding that wave.throwback rollouts for shoes such as the nike air zoom generation and the adidas stan smith have hit the market.last year, heritage styles were the fastest-growing category in footwear.a video of the theme song has more than 26 million views on youtube and the original space jam website remains online, retaining its old school graphics from a bygone internet era.for nike, celebrities and athlete participation is seen as worth the lofty price tag.performance athletic-wear companies spend much more on marketing, as a percentage of sales, than regular apparel companies because endorsements can have a big impact on sales, said simeon siegel, an analyst at instinet.four-time nba mvp lebron james signed a lifetime deal with nike in 2015 reportedly worth more than $1 billion.nike\\'s ability and willingness to pay for famous names makes it possible to churn out top-selling hits, like kyrie irving\\'s kyrie 3 and kevin durant\\'s kd9.', '\"they\\'ve decided to spend this massive amount of money because endorsements create the value around these launches,\" said siegel.']\n",
      "content score: 0.293796992\n",
      "summary: the space jam shoe was a bright spot in nike's otherwise gloomy quarter, as shares fell amid investor concerns that nike is losing market share to hard-charging competitors adidas and underarmour.\n",
      "summary score: 0.7\n",
      "manual_label: 1\n",
      "prediction: 1.0\n",
      "\n",
      "\n",
      "nike\n",
      "['adidas chief executive kasper rorsted said there has been no discussion about ditching west, but that he planned to talk with the rapper about his public remarks.', '\"nike chief executive apologises to employees for workplace culture (cnbc) \"parker apologised to employees who felt excluded and like they didn\\'t have anyone to go to with their concerns.multiple executives have left nike because of reports of inappropriate behaviour and poor workplace conduct.', '\"gigi hadid apologises for vogue italia \\'blackface\\' cover (bbc) \"fans said she was \\'unrecognisable\\' and, that by darkening the model\\'s face and body, it was an example of \\'blackface.\\'']\n",
      "content score: -0.133333333\n",
      "summary: this week, kanye west's slavery remarks spark outrage, meanwhile nike chief executive issues apology after reports of poor workplace conduct. \n",
      "summary score: -0.4\n",
      "manual_label: -1\n",
      "prediction: -1.0\n",
      "\n",
      "\n",
      "luxury\n",
      "[\"as models parade the luxury label's latest men's designs, most of those watching will be more interested in the company's choice to replace creative director frida giannini .she left the 94-year-old brand last week after more than a year of little-to- no growth.who succeeds her may be the most important decision gucci's new chief executive officer marco bizzarri has to make.\", '\"he\\'s got to get the appointment right,\" said isabelle harvie-watt, who heads advertising company havas sa\\'s global luxury practice luxhub in milan.', '\"they have to go back to the product to make gucci the cool brand that people want again.', '\"sex appeal identity was something bizzarri never had to search for at bottegaveneta.the label, designed by tomasmaier since 2001, is synonymous with understated luxury and its signature woven leather goods.bizzarri more than doubled revenue in five years as ceo by opening more stores and investing in existing ones.']\n",
      "content score: 0.309056733\n",
      "summary: of all the fall-winter fashion collections on show in milan over the next four days, the label that will attract the most attention will probably be gucci, and not because of the clothes.\n",
      "summary score: 0.25\n",
      "manual_label: 0\n",
      "prediction: 1.0\n",
      "\n",
      "\n",
      "london\n",
      "[' london, united kingdom -- bof compiles the most important professional moves of the week.american apparel names chairman american apparel has named paul charron chairman of its revamped board.']\n",
      "content score: 0.25\n",
      "summary: bof compiles the most important professional moves of the week.\n",
      "summary score: 0.333333333\n",
      "manual_label: 1\n",
      "prediction: 1.0\n",
      "\n",
      "\n",
      "nicholaskirkwood\n",
      "['so, what lessons can be learned from designers who have successfully launched their own labels?christopherkane , phillip lim , alexander wang , erdem moralioglu, nicholaskirkwood , peter pilotto and thakoon panichgul share their top piece of advice to a designer starting his or her own business.christopherkane | source: courtesy be true to yourself -- christopherkane \"don\\'t be something that you\\'re not.understanding that controlled growth is a good thing.', '\"nicholaskirkwood | source: courtesy find a partner in crime -- nicholaskirkwood \"don\\'t start up alone.you need a partner in crime: someone who will invest the same blood, sweat and tears as you; a sounding board for ideas; someone you can implicitly trust.']\n",
      "content score: 0.4375\n",
      "summary: young designers, from alexander wang to christopherkane, share the most important lesson that they learned from launching a fashion business.\n",
      "summary score: 0.333333333\n",
      "manual_label: 1\n",
      "prediction: 1.0\n",
      "\n",
      "\n",
      "milan\n",
      "[' milan, italy -- bof brings you the top shows from wednesday, 19th february.gucci autumn/winter 2014 frida gianinni presented a refined, covetable and very wearable take on authentic sixties silhouettes.']\n",
      "content score: 0.4\n",
      "summary: straight from milan, bof brings you the top shows from wednesday, 19th february: gucci \n",
      "summary score: 0.35\n",
      "manual_label: 1\n",
      "prediction: 1.0\n",
      "\n",
      "\n",
      "tapestry\n",
      "[\" new york, united states -- tapestry inc., the company formerly known as coach , is hitting some bumps as it works to win back shoppers.same-store sales at tapestry's katespade brand missed analysts' estimates in the latest quarter, while production delays and other problems at the stuartweitzman brand were a drag as well.same-store sales for the coach brand, its biggest business, met projections, but the downbeat smaller brands and a full-year profit warning disappointed investors.the results sent tapestry shares down as much as 14 percent to $46 in new york tuesday, the biggest intraday decline since august.they had climbed 22 percent this year through monday's close.\", '\"revenue is bound to suffer\" as tapestry pulls back on wholesale distribution and reduces flash sales at katespade, said neil saunders, an analyst at globaldata retail.', '\"nevertheless, we support the strategic direction and believe that this corrective action is ultimately necessary to strengthen the brand.', '\"under chief executive officer victor luis , tapestry has re-engineered itself as a house of three luxury fashion brands: coach, katespade and stuartweitzman.coach has been pulling back from over-discounting and is benefiting from the sale of more full-price products.katespade has also sacrificed short-term results as it tries to wean customers off of markdowns.tapestry is recovering from an extended period of weakness after its leather goods became cheaper and ubiquitous.the swift rise of competition from rivals such as michaelkors holdings ltd. led to heavy discounting as the handbag brands battled each other over customers.tapestry forecast full-year adjusted per-share earnings of $2.57 to $2.60, moving up the lower end of the range from $2.52.analysts had expected $2.61 on average.the measure for katespade fell 9 percent, compared with estimates for a 6.9 percent decline.tapestry bought katespade for $2.4 billion in 2017 and has spent the past months folding its operations into the parent company.in november, tapestry said it expects about $100 million to $115 million in cost savings in fiscal 2019 from the integration of katespade.new senior executives run each of tapestry\\'s three brands now.last year, it hired neiman marcus group ltd. veteran joshua schulman to run coach.']\n",
      "content score: 0.014686869\n",
      "summary: the company reported a drop in third-quarter margins, sending its shares down 14 percent.\n",
      "summary score: -0.155555556\n",
      "manual_label: 1\n",
      "prediction: -1.0\n",
      "\n",
      "\n",
      "katespade\n",
      "[\"same-store sales at tapestry's katespade brand missed analysts' estimates in the latest quarter, while production delays and other problems at the stuartweitzman brand were a drag as well.same-store sales for the coach brand, its biggest business, met projections, but the downbeat smaller brands and a full-year profit warning disappointed investors.they had climbed 22 percent this year through monday's close.\", '\"revenue is bound to suffer\" as tapestry pulls back on wholesale distribution and reduces flash sales at katespade, said neil saunders, an analyst at globaldata retail.', '\"nevertheless, we support the strategic direction and believe that this corrective action is ultimately necessary to strengthen the brand.', '\"under chief executive officer victor luis , tapestry has re-engineered itself as a house of three luxury fashion brands: coach, katespade and stuartweitzman.coach has been pulling back from over-discounting and is benefiting from the sale of more full-price products.katespade has also sacrificed short-term results as it tries to wean customers off of markdowns.tapestry is recovering from an extended period of weakness after its leather goods became cheaper and ubiquitous.coach\\'s same-store sales, a key metric, gained 3 percent in the period that ended march 31, the company said in the statement.the measure for katespade fell 9 percent, compared with estimates for a 6.9 percent decline.tapestry bought katespade for $2.4 billion in 2017 and has spent the past months folding its operations into the parent company.in november, tapestry said it expects about $100 million to $115 million in cost savings in fiscal 2019 from the integration of katespade.new senior executives run each of tapestry\\'s three brands now.last year, it hired neiman marcus group ltd. veteran joshua schulman to run coach.in march, it brought on former michaelkors executive anna bakst to run katespade.three weeks later, stuartweitzman announced that its new ceo would be eraldo poletto, previously of italian fashion label salvatoreferragamo.']\n",
      "content score: -0.00992823\n",
      "summary: the company reported a drop in third-quarter margins, sending its shares down 14 percent.\n",
      "summary score: -0.155555556\n",
      "manual_label: -1\n",
      "prediction: -1.0\n",
      "\n",
      "\n",
      "lvmh\n",
      "[' treviso, italy -- pinarello, an italian maker of high-end sports bicycles, said it\\'s considering options to strengthen its brand but not planning to exit the business, following a newspaper report that luxury-goods maker lvmh approached the company.the pinarello family has been studying options to reinforce the business with a \"strong industrial base\" for several years, the company said in a statement tuesday.the family will \"continue to follow the company in its future growth, as it has always done and with the same passion.', '\"fausto pinarello, president of the company, has been leading preliminary talks with lvmh, which may offer the buy the bike brand or a controlling stake, la tribuna di treviso said saturday, without citing anyone.pinarello was founded in the early 1950s.lvmh has been on the acquisition hunt lately, and agreed earlier this month to take over german suitcase maker rimowa for eur640 million ($704 million).by thomas mulier; editor: matthew boyle.']\n",
      "content score: -0.051515152\n",
      "summary: pinarello is considering options following a newspaper report that a investment fund backed by luxury-goods maker lvmh approached the company.\n",
      "summary score: 0.0\n",
      "manual_label: 1\n",
      "prediction: 1.0\n",
      "\n",
      "\n",
      "cavalli\n",
      "[' in italy, a british outpost (ny times) \"in other words, burberry, dsquared, cavalli and gucci are not names you will often read in the same sentence.yet a pronounced englishness ran through the collections from each of those houses, making milan feel temporarily like an extension of the tuscan region called chiantishire.\"']\n",
      "content score: -0.041666667\n",
      "summary: none\n",
      "summary score: 0.0\n",
      "manual_label: 0\n",
      "prediction: 0.0\n",
      "\n",
      "\n",
      "alexandermcqueen\n",
      "['other notable moments included brightly coloured geometrically printed dresses and coats, some of which were slashed to reveal contrasting prints underneath.5.', 'alexandermcqueen - designed by sarah burton , pfw exploded petal printed organza for alexandermcqueen aw15 #pfw a post shared by alexandermcqueen (@alexandermcqueen) on mar 11, 2015 at 8:45am pdt /\" target=\"_top\">a photo posted by alexandermcqueen (@worldmcqueen) on mar 11, 2015 at 8:45am pdt sarah burton\\'s latest collection for alexandermcqueen tapped into a lesser-referenced facet of the late, great lee mcqueen\\'s legacy.in a show inspired by the lifecycle of a rose, it was the romantic softness, not the savage beauty, of mcqueen that took centrestage this season.']\n",
      "content score: 0.352777778\n",
      "summary: bof brings you our top 10 shows of the season.\n",
      "summary score: 0.5\n",
      "manual_label: 1\n",
      "prediction: 1.0\n",
      "\n",
      "\n",
      "frankfurt\n",
      "[\" frankfurt, germany -- adidas said on tuesday it has appointed harm ohlmeyer, head of the group's global ecommerce business, as new finance chief from may 12, replacing robin stalker, who served alongside former boss herbert hainer for 16 years.the appointment is the second executive change at adidas since activist shareholders bought stakes in the company in 2015 after its shares had tumbled following a series of profit warnings as it failed to keep pace with us rival nike .\"]\n",
      "content score: -0.060606061\n",
      "summary: the appointment is the second executive change at adidas since activist shareholders bought stakes in the company in 2015.\n",
      "summary score: 0.0\n",
      "manual_label: -1\n",
      "prediction: -1.0\n",
      "\n",
      "\n",
      "givenchy\n",
      "[' london, united kingdom -- riccardo tisci is exiting givenchy after 12 years in the role of creative director, as rumours intensify that the designer will join versace.tisci, who is credited with resurrecting givenchy with his dark, sensual and subversive collections, is reported to have left the lvmh-owned couture house on january 31 when his contract ended.his last collection for givenchy was shown in january at couture week in paris.as a result of his departure, the brand will not hold a runway show during paris fashion week.', '\"the chapter riccardo tisci has written with the house of givenchy over the last 12 years represents an incredible vision to sustain its continuous success, and i would like to warmly thank him for his core contribution to the house\\'s development,\" said bernard arnault , chairman and chief executive officer of lvmh in a statement.', '\"i have very special affection for the house of givenchy and its beautiful teams,\" tisci added.', '\"i want to thank the lvmh group and monsieur bernard arnault for giving me the platform to express my creativity over the years.i now wish to focus on my personal interests and passions.', '\"lvmh said in a statement that the new creative organisation of givenchy will be communicated at a later date.during his time at givenchy, tisci breathed much-needed life into the brand\\'s womenswear, menswear and accessories.tisci left his hometown of taranto, southern italy to study at central saint martins in london, graduating in 1999. he returned to italy to work for a number of brands including antonio berardi, coccapani, puma and ruffo research.in september 2004 he set up an eponymous ready-to-wear label, showing his first collection in milan for the autumn/winter 2005 season, which caught the attention of press and lvmh executives, who hired tisci to replace julien macdonald as creative director of givenchy in february 2005. throughout his tenure, tisci has pushed the boundaries of one of france\\'s most storied couture houses, which was largely associated with its founder\\'s close relationship with actress audrey hepburn, who was a lifelong client and enlisted hubert de givenchy to design many of her iconic hollywood costumes.as well as designing highly embellished collections of haute couture , the italian designer achieved notoriety for distinctive graphic sweatshirts, sneakers and sportswear-inspired garments.other notable highlights have included his enduring relationships with artists marina abramovic, madonna and beyonce, as well as the album artwork he designed for \"watch the throne\", kanye west and jay z\\'s grammy-winning 2011 collaboration.tisci was one of the first paris-based fashion designers to embrace kim kardashian west and her extended family, eventually designing her wedding dress in 2014. givenchy is credited with being one of lvmh\\'s most successful luxury brands though the company does not disclose separate figures for each house.however, in its annual results last week, lvmh reported that its fashion and leather division grew by 8 percent in the fourth quarter, beating analyst estimates.']\n",
      "content score: 0.261361669\n",
      "summary: tisci is departing the lvmh-owned fashion house after 12 years at the creative helm, as rumours intensify that the designer will join versace. \n",
      "summary score: 0.5\n",
      "manual_label: 1\n",
      "prediction: 1.0\n",
      "\n",
      "\n",
      "michaelkors\n",
      "['horror was widespread after the watershed of rana plaza, as consumers grasped the grim realities behind the \"made in bangladesh\" labels on their clothes.retailers who have admitted to using the rana plaza factory included benetton, bon marche, mango , matalan, primark and walmart, but hundreds more companies use low-cost bangladeshi factories, including upscale brands like armani, ralphlauren , michaelkors and hugoboss .sick of their warnings going unheeded, uni global union (which is comprised of 20 million members of 900 unions across 150 countries) and industriall (50 million members in 140 countries) capitalised on the outpouring of anger by serving retailers with an ultimatum.']\n",
      "content score: -0.32\n",
      "summary: in the wake of rana plaza, it's clear that voluntary self-inspection of garment factories by brands and retailers is not enough to avoid terrible human tragedy. workplace health and safety standards must be set and enforced by the workers themselves, argues tansy e hoskins.\n",
      "summary score: -0.225\n",
      "manual_label: -1\n",
      "prediction: -1.0\n",
      "\n",
      "\n",
      "luxury\n",
      "[' milan, italy -- prada spa reported full-year sales that trailed estimates as fewer chinese shoppers splurged on $2,950 leather handbags and other luxury products.revenue fell 1 percent to 3.55 billion euros ($4 billion) in the 12 months through january, the milan-based owner of brands including miumiu and carshoe said sunday.']\n",
      "content score: -0.0625\n",
      "summary: prada spa reported full-year sales that trailed estimates as fewer chinese shoppers splurged on $2,950 leather handbags and other luxury products.\n",
      "summary score: -0.0625\n",
      "manual_label: -1\n",
      "prediction: 1.0\n",
      "\n",
      "\n",
      "ralphlauren\n",
      "['horror was widespread after the watershed of rana plaza, as consumers grasped the grim realities behind the \"made in bangladesh\" labels on their clothes.retailers who have admitted to using the rana plaza factory included benetton, bon marche, mango , matalan, primark and walmart, but hundreds more companies use low-cost bangladeshi factories, including upscale brands like armani, ralphlauren , michaelkors and hugoboss .sick of their warnings going unheeded, uni global union (which is comprised of 20 million members of 900 unions across 150 countries) and industriall (50 million members in 140 countries) capitalised on the outpouring of anger by serving retailers with an ultimatum.']\n",
      "content score: -0.32\n",
      "summary: in the wake of rana plaza, it's clear that voluntary self-inspection of garment factories by brands and retailers is not enough to avoid terrible human tragedy. workplace health and safety standards must be set and enforced by the workers themselves, argues tansy e hoskins.\n",
      "summary score: -0.225\n",
      "manual_label: -1\n",
      "prediction: -1.0\n",
      "\n",
      "\n",
      "balenciaga\n",
      "[\"whereas, just two years ago, only the rare black model was spotted in a runway lineup, today, multiple models of colour are casted at most shows and are the subject of high profile editorials and campaigns.one defiant voice amidst the 'multi-culti' progress is the influential paris-based designer demna gvasalia and his design collective at vetements and balenciaga, which both showed their recent autumn/winter collections on white models only.how does one of fashion's brightest stars helming two closely tracked brands feel comfortable casting only white models in this racially charged age?vetements' americana-themed collection of reworked street wear, leather city coats and knee high boots worn exclusively by wan, eastern-bloc looking models does not reflect the racial diversity seen on new york city streets, or even in middle america or on the west coast where plenty of clued in hipsters of colour already wear or want to buy from the brand, as they do from london to lagos, to los feliz.on this topic, vetements and balenciaga need to be called out and corrected.we can't excuse gvasalia and his cronies for their early years spent in unified stalinist and leninist georgia.gvasalia and race is an uncomfortable subject in so many ways.it's uncomfortable that vetements and balenciaga's stylist-du-jour and casting director lotta volkova does not feature people of colour on her popular instagram page.it's uncomfortable that kanye west is a key champion of gvasalia, though west is a vocal voice on racial inequality.\"]\n",
      "content score: 0.019475524\n",
      "summary: for someone whose design work has been dubbed 'revolutionary' in fashion circles, demna gvasalia's all-white casting is shockingly out of touch with today's global reality, argues jason campbell.\n",
      "summary score: -0.5\n",
      "manual_label: -1\n",
      "prediction: 1.0\n",
      "\n",
      "\n",
      "bangladesh\n",
      "[' london, united kingdom -- on the morning of april 24, 2013, a group of garment workers argued with their managers outside rana plaza, a commercial building in dhaka, bangladesh, which contained a number of clothing factories.the garment workers said the structure was unsafe; that cracks in the building\\'s concrete had appeared and were growing in size; and that they feared for their lives.the managers replied that anyone refusing to enter the building would have their wages docked, not just for that day but for the entire month.in bangladesh, losing a month\\'s wages can mean starvation, so the garment workers were forced to climb the stairs to their work stations, gingerly stepping around cracks in the floor.an hour later, the eight storey building collapsed on itself, its illegally built top storeys shaken to bits by giant generators placed there to keep the factory running during frequent power cuts.unless the rights of garment workers and their unions are respected, it is only a matter of time until tragedy strikes again and mires the fashion industry in mud and blood.but in bangladesh, trade unions are all but outlawed and the country lacks even the most minimal workplace health and safety regulations, a sorry state of affairs that\\'s largely due to the fact that most of the country\\'s factory owners are also members of the bangladeshi government.amirul haque amir, president of the national garment workers federation in bangladesh (ngwf) explains: \"the owners of the factories are ministers, ex-ministers, parliament members, ex-parliament members, army generals, civil bureaucrats, even university vice chancellors -- this is the elite of society who have great influence over state mechanisms.', '\"this elite has been particularly terrified of trade unions since 2010, when the ngwf won an 80 percent increase in the country\\'s minimum wage.according to war on want, an independent anti-poverty group, however, bangladeshi garment workers are still only paid around ps25 (about $40) per month, whereas the costs of basic household necessities are estimated to be ps75 (about $120) per month.but before anti-unionism is written off as a uniquely \"bangladeshi problem,\" consider that in the aftermath of the rana plaza disaster, the british government held talks with 20 british retailers, whilst deliberately excluding unions, a vital part of the retail industry.lucky, then, that trade unions have taken things into their own hands.horror was widespread after the watershed of rana plaza, as consumers grasped the grim realities behind the \"made in bangladesh\" labels on their clothes.retailers who have admitted to using the rana plaza factory included benetton, bon marche, mango , matalan, primark and walmart, but hundreds more companies use low-cost bangladeshi factories, including upscale brands like armani, ralphlauren , michaelkors and hugoboss .sick of their warnings going unheeded, uni global union (which is comprised of 20 million members of 900 unions across 150 countries) and industriall (50 million members in 140 countries) capitalised on the outpouring of anger by serving retailers with an ultimatum.working with ngos and the ngwf, uni global union and industriall drafted the \"accord on fire and building safety in bangladesh\" and told retailers: this time, you sign our deal.it was a risky strategy.', '\"our members are the ones that sell these clothes,\" explains usdaw\\'s head of research and economics, fiona wilson.', '\"they are linked with workers in bangladesh; they care about what happens to these people and their families.', '\"the pressure campaign was a success.two days later, 35 retailers had joined the accord, which states: \"the undersigned parties are committed to the goal of a safe and sustainable bangladeshi ready-made garment (rmg) industry in which no worker needs to fear fires, building collapses, or other accidents that could be prevented with reasonable health and safety measures.', '\"today, the document contains the signatures of an impressive 87 retailers, including primark, new look, the n brown group and, as of september 12, sir philip green \\'s arcadia, owner of topshop.imagine what a difference this agreement would have made to the rana plaza workers who begged their managers for clemency on that fateful april morning.yet even with the implementation of the accord, there is an extremely long way to go until bangladeshi garment workers are fully protected and the country\\'s labour laws become consistent with international standards.bereaved families and disabled workers from rana plaza and tazreen fashions still await compensation.the workers rights consortium (wrc), an independent labour rights monitoring organisation, estimates that it would take $3 billion spent over five years to implement decent standards in bangladesh\\'s 4,500 factories.to those who worry about where the money should come from, consider that the five siblings of the walton family, which controls walmart, each have personal fortunes of $18 billion.we could start with them dedicating just 3.5 percent of their wealth to ensure that the people who slave for them do not die horribly in the process.unless the rights of garment workers and their unions are universally respected, not just in bangladesh, but across the world, it is only a matter of time until tragedy strikes again and once more mires the fashion industry in mud and blood.tansy e hoskins is a political activist, writer and the author of stitched up: the anti-capitalist book of fashion']\n",
      "content score: 0.027022584\n",
      "summary: in the wake of rana plaza, it's clear that voluntary self-inspection of garment factories by brands and retailers is not enough to avoid terrible human tragedy. workplace health and safety standards must be set and enforced by the workers themselves, argues tansy e hoskins.\n",
      "summary score: -0.225\n",
      "manual_label: -1\n",
      "prediction: -1.0\n",
      "\n",
      "\n",
      "switzerland\n",
      "[\" basel, switzerland -- swiss watchmakers are braced for another difficult year as economic woes in major markets curb consumers' appetite for pricey timepieces, industry executives said on thursday.sales in hong kong, the biggest market for swiss watches, have been depressed as china's economic slowdown and beijing's anti-corruption campaign have hurt spending by mainland chinese, which shows no signs of rebounding.\"]\n",
      "content score: -0.0075\n",
      "summary: swiss watchmakers are braced for another difficult year as economic woes in major markets curb consumers' appetite for pricey timepieces, industry executives said on thursday.\n",
      "summary score: -0.079166667\n",
      "manual_label: -1\n",
      "prediction: -1.0\n",
      "\n",
      "\n",
      "sportswear\n",
      "[\"the world's biggest sportswear maker last month reported flat sales in its home region for its fiscal fourth quarter, its worst performance for over six years amid strong competition from adidas and underarmour .however, edwards said he was hopeful for an improvement for the current fiscal year ending may 2017, after the company managed to shift excess stock, adding nike also expected a boost from next month's olympics in rio.\"]\n",
      "content score: -0.086458333\n",
      "summary: nike expects sales growth to recover in north america after a weak march-may quarter, helped by the upcoming olympics, an expansion of its basketball business and clearing excess stock.\n",
      "summary score: -0.375\n",
      "manual_label: -1\n",
      "prediction: -1.0\n",
      "\n",
      "\n",
      "maje\n",
      "['e-commerce china dangdang inc., china\\'s biggest online book retailer, started holding discount sales of fashion clothing in may.\"\"', 'maje captures asia\\'s diversity by going to extremes \" ( south china morning post ) \"the brand has been popular in asia for some time, [judith milgrom] says, despite only setting up stores here a few years ago.and while maje\\'s french customers may still favour a more effortless style, milgrom says her hong kong clients are often more fashion conscious and particular about specific pieces ... well-edited extremes seem to be a theme at maje.and with women\\'s styles diversifying fast in asia, they appear to be hitting a rather powerful note.\"']\n",
      "content score: 0.196969697\n",
      "summary: the china edit is a weekly curation of the most important fashion business news and analysis from and about the world's largest luxury market.\n",
      "summary score: 0.45\n",
      "manual_label: 1\n",
      "prediction: 1.0\n",
      "\n",
      "\n",
      "alexandermcqueen\n",
      "[' london, united kingdom -- emmanuel gintzburger will replace jonathan akeroyd as chief executive officer of alexandermcqueen, the brand and its parent company, kering , have announced.akeroyd, who spent 12 years as ceo of the brand, is departing to \"pursue other interests outside of the group,\" according to a statement.gintzburger, who previously served as retail and wholesale director at yves saintlaurent and has spent 17 years in the luxury and cosmetics industries, will take up the role from may 9 and report to grita loebsack, kering\\'s chief executive officer of its luxury couture and leather goods emerging brands, which include balenciaga, stellamccartney and alexandermcqueen.prior to joining yves saintlaurent, gintzburger, 42, held roles at louisvuitton , lanvin, sephora and danone.']\n",
      "content score: -0.098333333\n",
      "summary: alexandermcqueen has appointed emmanuel gintzburger its new chief executive officer, replacing jonathan akeroyd.\n",
      "summary score: 0.136363636\n",
      "manual_label: 1\n",
      "prediction: 1.0\n",
      "\n"
     ]
    },
    {
     "name": "stdout",
     "output_type": "stream",
     "text": [
      "\n",
      "gucci\n",
      "[\"* many luxury players posted disappointing results.lvmh's leather and fashion division's sales were weak, kering suffered a bigger than expected drop in sales at its flagship brand gucci , coach posted its worse decline in sales in north america in seven quarters and richemont announced a profit warning.this negative news flow took a toll on the sli.it will take a little longer than expected to restore growth and significantly improve margins.\", \"* kering's share price has lost more than 9 percent this month, after posting a bigger than expected sales drop for its flagship brand gucci, which it blamed on a transition period.what to watch online annual luxury goods sales have been growing at 15-25 percent while the industry average has slumped to about 5 percent.\"]\n",
      "content score: -0.066964286\n",
      "summary: the savigny luxury index (\"sli\") fell sharply this month, losing more than two percent, driven by disappointing first quarter results.\n",
      "summary score: 0.00625\n",
      "manual_label: -1\n",
      "prediction: -1.0\n",
      "\n",
      "\n",
      "bulgari\n",
      "['italian regulator examining bulgari bid complaint (reuters) \" italian market regulator consob is examining a complaint from a fund over the price french luxury group lvmh plans to pay for shares in italian jeweller bulgari... at the end of june, lvmh took control of bulgari when the bulgari family owners swapped their 55 percent stake into lvmh shares.', '\"leveraging mobile to market in the moment (fashions collective) \"mobile shoppers are moving targets, so stationary forms of traditional branded engagements need not apply.']\n",
      "content score: -0.085714286\n",
      "summary: none\n",
      "summary score: 0.0\n",
      "manual_label: -1\n",
      "prediction: 1.0\n",
      "\n",
      "\n",
      "london\n",
      "[' london, united kingdom -- on saturday in paris, the gavel came down on two weeks of fraught talks, resulting in a landmark agreement between representatives of 195 countries to cut emissions of greenhouse gases.the deal, which comes into effect in 2020, aims to ensure that global warming does not exceed 2 degrees c above pre-industrial levels, with an additional aim to cap this at 1.5 degrees c. a temperature rise of 2 degrees c could could result in catastrophic environmental changes, such as extreme weather, accelerated melting of the polar ice caps and dangerous rises in sea levels.']\n",
      "content score: -0.137698413\n",
      "summary: last weekend, 195 countries reached a landmark agreement on climate change. how will it impact the fashion industry, and how are businesses responding?\n",
      "summary score: 0.0\n",
      "manual_label: 1\n",
      "prediction: -1.0\n",
      "\n",
      "\n",
      "zara\n",
      "[' the real story behind those desperate notes that zara workers left in clothes (fast company) \"shoppers in istanbul were finding desperate notes in their clothing, that read \\'i made this item you are going to buy, but i didn\\'t get paid for it.', '\\'they were allegedly sewn on by workers who claimed that they had not been paid for their labor at the bravo tekstil factory in turkey.\"']\n",
      "content score: -0.185714286\n",
      "summary: this week, unpaid workers for zara left notes in clothes, and the met costume institute is opening a fashion exhibition on catholicism.\n",
      "summary score: 0.1\n",
      "manual_label: -1\n",
      "prediction: 1.0\n",
      "\n",
      "\n",
      "sportswear\n",
      "[\" frankfurt, germany -- puma se reported fourth-quarter earnings that topped estimates as singer rihanna helped sharpen the german sportswear brand's focus on performance wear and women's gear.earnings before interest and tax were 10.9 million euros ($12.1 million), puma said in a statement thursday, up 2.6 percent from a year ago and ahead of the average 5.6 million- euro average analyst estimate.\"]\n",
      "content score: -0.1\n",
      "summary: puma se reported fourth-quarter earnings that topped estimates as singer rihanna helped sharpen the german sportswear brand's focus on performance wear and women's gear.\n",
      "summary score: 0.0\n",
      "manual_label: 1\n",
      "prediction: -1.0\n",
      "\n",
      "\n",
      "prada\n",
      "[\"burberry, kering and luxottica have all recently talked about emphasising roic, but only burberry has introduced roic as one of the three criteria in its long-term incentive (lti) scheme.in contrast, at seven luxury companies, ceo bonuses are dependent on sales -- at hermes and prada, they are entirely dependent on sales.my findings should come as no surprise.investors have to accept a state of affairs where founding family members hold controlling voting rights and key senior management positions in the business.this is the case at prada, where chief executive officer patrizio bertelli received a fixed salary of eur7 million (about $7.58 million) and a bonus and lti payment amounting to eur6.3 million (about $6.82 million).in 2015, his total compensation was equivalent to 4 percent of the group's net profit (the average in the luxury sector is 1.2 percent), yet prada was the sector's worst performer based on roic and tsr.between 2012 and 2015, bertelli's total package increased by 20 percent, while prada's roic showed the sharpest deterioration in the sector and the company's share price fell roughly 30 percent.tods, swatch, richemont and brunellocucinelli seem to be in the same camp: at each company, ceo remuneration has increased, even as roic has deteriorated.\"]\n",
      "content score: -0.095833333\n",
      "summary: ceo remuneration policies within the luxury goods sector are out of sync with today's low-growth world, argues luca solca.\n",
      "summary score: 0.0\n",
      "manual_label: -1\n",
      "prediction: -1.0\n",
      "\n",
      "\n",
      "prada\n",
      "[\"this is especially significant as the industry finds itself in a period of significant flux.in recent months, we have seen the first moves in the wholesale reinvention of gucci, while the once mighty commercial powerhouse prada has experienced a dip in sales and profitability.at lvmh, marcjacobs and louisvuitton both continue to revamp their creative strategies to reenergise their brands and product offerings.a group shot of celebrants holding hands in a circle could be a still from the 1970's classic the wicker man, while the second image, a depiction of a model whose long hair completely covers his face, is cultish -- almost voodoo-like.6.\", \"prada -- starring avery blanchard, estella boersma, inga dezhina, lineisy montero , ine neefs, greta varlese, maartje verhoef by steven meisel prada autumn/winter 2015 | source: prada miuccia prada and steven meisel seem determined to maintain one of the longest standing creative partnerships in fashion -- certainly one of the longest standing in the fickle field of fashion advertising.this season, the brutalism of last year's stark, concrete-filled images was replaced by seemingly random compositions of models in pretty pastel hues.of particular note was arresting new face lineisy montero, following in the footsteps of malaika firth (who in 2013 was the brand's first black face since naomi campbell in the 1990s) by introducing more diversity to the prada casting.7.\", \"bottegaveneta -- starring anna cleveland , freddy drabble by juergen teller bottegaveneta autumn/winter 2015 | source: bottegaveneta this season, bottega venetta tapped anna cleveland and freddy drabble to star in its fashion campaign.by viewing the loewe brand through images that evoke a sense of personal experience, anderson's idiosyncratic taste becomes both more accessible and relatable.9.\", 'miumiu -- starring hailey gates, mia goth, stacy martin, maddison brown by steven meisel miumiu autumn/winter 2015 | source: miumiu miuccia prada also found inspiration in the streets this season, calling on regular collaborator steven meisel to shoot stacy martin and mia goth, the breakout stars of lars von triers\\' nymphomaniac.the campaign, entitled \"subjective reality\", reflects meisel at his most cinematic.']\n",
      "content score: 0.193910534\n",
      "summary:  the top campaigns of the autumn/winter 2015 season featured under-the-radar models, rather than high-wattage celebrities and supermodels. \n",
      "summary score: 0.5\n",
      "manual_label: 1\n",
      "prediction: 1.0\n",
      "\n",
      "\n",
      "ralphlauren\n",
      "[\"will fashion's biggest names kiss the runway goodbye?\", '(time) \"on dec. 11, rugby, ralphlauren \\'s collegiate brand, will show its holiday collection in an online fashion show... instead of the company\\'s spending $1.5 million on an audience of approximately 700 members of the fashion press and department-store buyers, the virtual show will cost less than $50,000 to produce and is expected to attract more than 40 million page views.', '\"inditex\\'s push into asia offsets domestic slump (ft) \"inditex, the spanish clothes retailer, yesterday unveiled a slight drop in profits for the nine months to the end of october, as aggressive expansion into asia helped offset weakness in the domestic market.\"']\n",
      "content score: -0.041666667\n",
      "summary: none\n",
      "summary score: 0.0\n",
      "manual_label: 1\n",
      "prediction: 1.0\n",
      "\n",
      "\n",
      "paris\n",
      "[\" paris, france -- gucci , yves saintlaurent and other luxury brands suing alibaba group holding ltd for promoting the sale of counterfeit goods have backed away from their threat to withdraw from mediation, despite alibaba founder jack ma's statement that he would rather lose the case than settle.brands owned by paris-based kering sa accepted u.s. district judge kevin castel's request that they try to resolve their differences through a mediator, their lawyer robert weigel said in a letter filed on wednesday night in manhattan federal court.the brands, also including balenciaga and bottegaveneta, had accused the world's largest online retailer of trademark infringement for letting 31 companies sell knockoff goods, damaging the brands' sales and reputation.\"]\n",
      "content score: -0.125\n",
      "summary: luxury brands suing alibaba promoting the sale of counterfeit goods have backed away from their threat to withdraw from mediation, despite alibaba founder jack ma's statement that he would rather lose the case than settle.\n",
      "summary score: 0.0\n",
      "manual_label: 1\n",
      "prediction: -1.0\n",
      "\n",
      "\n",
      "lvmh\n",
      "[\"the unusually cold weather, particularly in march, also contributed to weak demand for spring/summer ready-to-wear collections.big news * lvmh's first quarter results announcement mid-april caused a sell-off in the sector.its fashion and leather goods division, dominated by louisvuitton , posted one of its lowest quarterly sales growths since 2009. a drop in asian tourists has hit louisvuitton sales in europe, while china has been sluggish.\"]\n",
      "content score: -0.111666667\n",
      "summary: nan\n",
      "summary score: 0.0\n",
      "manual_label: -1\n",
      "prediction: -1.0\n",
      "\n",
      "\n",
      "luxury\n",
      "[' london, united kingdom -- the savigny luxury index (\"sli\") continues its rise, progressing by two and half percent in march in line with the msci world index (\"msci\"), driven by strong results announcements and an uptick in m&a activity.b ig news * the euro\\'s weakness is benefiting the luxury goods industry, but also creating important discrepancies to which luxury groups are responding with unprecedented price adjustments in a bid to counter a fast developing grey market.chanel led the charge by lowering prices by more than 20% in china whilst increasing european prices across the board by approximately the same percentage.traditional watchmakers such as breguet and patek philipe said that smartwatches were incompatible with their brand values and the timelessness of their products.', \"* m&a activity has picked up: italian private equity firm clessidra finally acquired roberto cavalli in a management buyout - the company was valued at eur400 million, a brutal discount to the eur1 billion plus price tag touted a few years back; interparfums acquired french fashion brand rochas from p&g for $108 million; and last but not least, the italy-based fashion online retailer yoox merged with online luxury retailer net-a-porter to create the world's largest online luxury ecommerce platform, valuing net-a-porter between eur1.3 and 1.5 billion, a multiple of up to 2x sales.richemont will retain a 50% stake in the merged entity.going up * moncler shares leapt up almost 16 percent after it posted a double-digit profit jump, driven by new shop openings.the company also said that it had already secured twenty locations for new shop openings in 2015, making it the only luxury outdoor/ lifestyle brand with a truly global footprint.\", '* hermes jumped by almost 14 percent after announcing strong full-year results, a dividend hike as well as a one-time additional payment to investors.', \"* tods fell more than seven percent as comparable sales in the first quarter continued to be hit by weak chinese consumer spending and cold weather in north america.what to watch the net-a-porter and yoox merger has created an industry leader in the booming online luxury market, with combined sales of eur1.3 billion.this deal highlights the strategic importance of the internet in driving future sales, particularly among the so-called millennials.there is still room for growth in sales and in profits amongst the players: the internet only accounts for five percent of global luxury sales and yoox net-a-porter's operating margin is only 5 percent, relative to 20 to 25 percent for most big luxury brands.however, the merger is expected to lead to a profitability increase for the newly-created online luxury champion, with sales and operating synergies such as warehouse costs, logistical, back-office and distribution costs.\"]\n",
      "content score: 0.034271284\n",
      "summary: the savigny luxury index (\"sli\") continues its rise, progressing by two and half percent in march.\n",
      "summary score: -0.166666667\n",
      "manual_label: 1\n",
      "prediction: 1.0\n",
      "\n",
      "\n",
      "london\n",
      "[' london, united kingdom -- the brilliant and the brash; the creative and the crass: over the years, london fashion designers have come in all shapes and sizes.new names flash to prominence.but at any given moment, this fashion capital is eclectic like no other.precious few designers in london can cut a perfectly made coat.however, this season, current wunderkind christopherkane gave us some beautiful examples in red and blue velvet.intricacies of cut and form are not his thing and he wisely keeps his shapes simple.but colour is a language he understands very well and this season, when sharp, bright colours, are bouncing down virtually every runway in london, his were refreshingly confident and jolly and very true to the dna of the brand.jonathan saunders autumn/winter 2015 | source: indigital matthew williamson is also an exceptional colourist.this outing, was all about soft berry colours, close, overall patterns in silks and satins and a lot of fun fur, which is everywhere this season.no danger of him going broke, which, it must be said, is the sword of damocles still hanging over too many london designers if the gossip at the shows is to be believed.another designer whose collection suggests she is not beating the wolf from the door with a bolt of chinese silk is alice temperley.fiercely independent, she sails ahead with little regard for what her fellow designers are producing and is entirely confident in her own aesthetic, which, i guess, can be summed up as expensive glamour, not something with which london is not normally associated.for my taste, it sometimes becomes a little too rich, but the strength of her vision has matured immensely in the last few collections and given her an international profile.this season\\'s offering was consummately confident and very beautiful.absolutely not aimed at the teenage fashionistas as so much in london seems to be, temperley\\'s clothes are now the province of those who are very rich and love real luxury, a growing market that could well leave some young designers behind.erdem autumn/winter 2015 | source: indigital so, next to erdem , who is fanatically loved by his supporters for very obvious reasons.if ever a designer knew how to make women look pretty and lady-like yet modern, he is the one.he is an intellectual designer of the sort rarely thrown up by london\\'s fashion system.a logical thinker and a good strategist, erdem seems to have evolved maybe three or four basic shapes which he can change by subtle (and erdem is nothing if not subtle) tweaks to volume and length whilst leaving himself plenty of scope for his great forte, which is colour and embroidery .i thought he hit a new high this season and would rate his show as second to only one.we do not often get a rush of exhilaration on the runways of london.that is what we expect from paris.we\\'ll begin with the disappointment.thomas tait is the most intellectual and probably the most creatively gifted designer working in london today.he has shown his strength by winning the lvmh prize against a strong line-up of contenders from across the globe.but it was enough to show us that pugh is a talent as strong as alexandermcqueen and i hope people do not insult him with labels like \"the new mcqueen.', '\"this designer is entirely his own man who can, with the right backing, stand at the head of london fashion.gareth pugh autumn/winter 2015 film | source: indigital']\n",
      "content score: 0.239747221\n",
      "summary: colin mcdowell reflects on the best of the london shows, including jw anderson, mary katrantzou, jonathan saunders, christopherkane, burberry, erdem, thomas tait and gareth pugh.\n",
      "summary score: 1.0\n",
      "manual_label: 1\n",
      "prediction: 1.0\n",
      "\n",
      "\n",
      "missoni\n",
      "[\"bright neon pops of colour appear throughout the label's infamous heritage check, as outgoing creative director christopher bailey , in his final act, chose to infuse the collection with the lgbtq+ rainbow.10.\", \"missoni -- starring kendall jenner and filip roseen; shot by harley weir .missoni spring/summer 2018 | photo: harley weir as missoni approaches its 65th anniversary, the italian brand tasked uk-born fashion photographer harley weir to shoot kendall jenner and filip roseen in the desert, producing a striking and fresh campaign.it is testament to angela missoni 's creative direction and ability constantly reinvent the brand's zigzagging knits, patchworks and twisted multicoloured yarns.related articles: top 10 campaigns of the season top 10 fashion films of the season\"]\n",
      "content score: 0.208333333\n",
      "summary: from gucci's surrealist illustrations to loewe's comment on consumption with the steven meisel lensed campaign titled \"fruits\", bof rounds up the best ads of the spring/summer 2018 season.\n",
      "summary score: 1.0\n",
      "manual_label: 1\n",
      "prediction: 1.0\n",
      "\n",
      "\n",
      "marcjacobs\n",
      "['robert polet, who has headed gucci since 2004, will be stepping down in a few weeks... mr. pinault also said paul deneve would replace valerie hermann as chief executive of yves saintlaurent .', '\"at marcjacobs, the show before the show (ny times) \"\\'sometimes, i don\\'t know how we got from there to here,\\' mr. duffy said, referring to the early days of his 27-year partnership with mr. jacobs, when the two of them constructed sets themselves and went around \\'with a tin cup\\' to friends.', '\\'nobody has any idea what it takes to do all this,\\' he added.\"']\n",
      "content score: -0.085185185\n",
      "summary: none\n",
      "summary score: 0.0\n",
      "manual_label: 0\n",
      "prediction: 1.0\n",
      "\n",
      "\n",
      "lvmh\n",
      "['the sli posted an impressive increase of 21.9 percent over the month of october, versus an increase of 7 percent in the msci.', \"* positive newsflow has boosted the sector, with lvmh, burberry, ppr and coach 's quarterly results beating market expectations.swatch announced that september was a record month for the group and that 2011 promised to be its best year ever.\"]\n",
      "content score: 0.742424242\n",
      "summary: none\n",
      "summary score: 0.0\n",
      "manual_label: 1\n",
      "prediction: 1.0\n",
      "\n",
      "\n",
      "chanel\n",
      "['while stano says runway and fitting work are \"two different worlds,\" luxury brands favour thinner fitting models with runway experience, so there is some overlap.chanel\\'s in-house fit model, amanda sanchez, has been walking in its shows since 2001.', '\"i know a lot of fit models.']\n",
      "content score: 0.36\n",
      "summary: bof speaks to fit models at celine, burberry and others about career longevity, body size and how much they make.\n",
      "summary score: 0.3\n",
      "manual_label: 1\n",
      "prediction: 1.0\n",
      "\n",
      "\n",
      "footwear\n",
      "[' paris, france -- jimmychoo , the luxury shoemaker owned by jab holdings, may begin its initial public offering in london as soon as this month amid rising demand for expensive footwear, according to people with knowledge of the situation.jab could announce plans to sell a 25 percent stake in the maker of $1,995 lust peep-toe sandals, said the people, who asked not to be identified because the matter is confidential.']\n",
      "content score: -0.166666667\n",
      "summary: jimmychoo, the luxury shoemaker owned by jab holdings, may begin its initial public offering in london as soon as this month amid rising demand for expensive footwear, according to people with knowledge of the situation.\n",
      "summary score: -0.166666667\n",
      "manual_label: -1\n",
      "prediction: 1.0\n",
      "\n",
      "\n",
      "lvmh\n",
      "[\"gehry also designed the louisvuitton foundation building, which stands 300 meters (yards) away on the edge of the bois de boulogne woods.the investment was due to be announced later on wednesday by arnault, owner of luxury group lvmh, in the presence of president francois hollande, paris mayor anne hidalgo and culture minister audrey azoulay, a source close to the matter said.gehry, whose louisvuitton foundation building opened in 2014, will create a cultural center with an arts and crafts focus, featuring a concert hall and workshops for a 50 year-concession granted to arnault by the city of paris.paris officials last year renewed lvmh's concession for the jardin d'acclimatation amusement park behind the disused museum site, opening the way for a renovation of the garden and its attractions.lvmh, which has managed the park since 1984, holds an 80 percent stake in a partnership with compagnie des alpes, a theme parks and ski resorts developer.the concession contract runs for 25 years.\"]\n",
      "content score: -0.0875\n",
      "summary: the investment was due to be announced later on wednesday by arnault, in the presence of president francois hollande, paris mayor anne hidalgo and culture minister audrey azoulay.\n",
      "summary score: -0.0625\n",
      "manual_label: -1\n",
      "prediction: 1.0\n",
      "\n",
      "\n",
      "counterfeiting\n",
      "['but despite the boom, little thought has been given to transportation of workers.\"\"', 'gucci quits us anti-counterfeiting group after alibaba joins \" (associated press) \" gucci america has quit the international anti-counterfeiting coalition, the second defection since the washington, d.c.-based group allowed chinese e-commerce giant alibaba to become a member in april.\"\"', 'the outrageous cost of being a model \" (cnn) \"models are often considered independent contractors.']\n",
      "content score: -0.169642857\n",
      "summary: social goods is a weekly roundup of the most important news at the intersection of fashion and ethics, sustainability and corporate social responsibility.\n",
      "summary score: 0.193333333\n",
      "manual_label: -1\n",
      "prediction: -1.0\n",
      "\n",
      "\n",
      "luxottica\n",
      "[' \" intel and the luxottica group\\'s new partnership: hope for the wearables market, or more empty promises?', '\"(pando daily) \"can anyone make wearable devices that don\\'t look like cheap props from a sci-fi film?intel hopes to find out through a new partnership with the luxottica group, an eyewear company responsible for several famous brands like ray-ban and armani.\"\"', 'cyber monday online sales rose 17% to $2 billion, comscore says \" (bloomberg) \"holiday shopping on the web rose 17 percent to a record $2.04 billion on cyber monday, researcher comscore inc. said, as consumers took advantage of online deals.\"']\n",
      "content score: 0.270247934\n",
      "summary: bits & bytes is a weekly roundup of the most important news in the fast evolving fashion-tech space.\n",
      "summary score: 0.366666667\n",
      "manual_label: 1\n",
      "prediction: 1.0\n",
      "\n",
      "\n",
      "milan\n",
      "[\" milan, italy -- bottegaveneta will show its men's and women's spring/summer 2017 collections together as part of an integrated runway show to take place during milan fashion week this september.the show will celebrate the brand's 50th anniversary, as well as 15 years under the creative direction of tomasmaier .we are not in a rush, we would rather pursue an organic evolution.\", '\"as for the coming season, bottegaveneta will not be showing its men\\'s collection on the runway during milan men\\'s fashion week.instead, the collection will be revealed to press and wholesale partners with a presentation.']\n",
      "content score: 0.5\n",
      "summary: the italian luxury brand's men's and women's collections will be shown together during milan fashion week in september.\n",
      "summary score: 0.0\n",
      "manual_label: 0\n",
      "prediction: 1.0\n",
      "\n",
      "\n",
      "asia\n",
      "['\"planning stores in more countries and also having great success in each country -- that\\'s the key to achieving our business goals by 2020.', '\"uniqlo has made considerable progress in asia.it has over 400 stores in greater china (mainland china, hong kong and taiwan), which, in fiscal year 2014, for the first time, delivered revenues of over 200 billion yen, reflecting a year-on-year sales increase of 66.5 percent.in the medium term, uniqlo plans to increase its retail footprint in greater china to over 1000 stores.south korea, where the company currently has almost 140 stores, also performed especially well in 2014, while southeast asia (where uniqlo has just under 100 stores across malaysia, singapore, thailand, the philippines and indonesia) reported solid growth.', '\"china and korea are doing very well.they\\'re growing,\" said katsuta.', '\"i have a good feeling about asia.we have just started to expand our business there.we have a list of places, which includes singapore, malaysia... and we haven\\'t gone to india yet.asia, where we are having great success, still has huge potential for us.', '\"but the real test remains.a great brand needs to have meaning in people\\'s lives.', '\"the us and europe are also huge potential markets for them, but the nature of these markets is different from asia.so, it will not be easy for them,\" said jp morgan\\'s murata.meanwhile, uniqlo\\'s subsidiary in the us -- the world\\'s largest consumer market, where the company\\'s large-scale ambitions will ultimately live or die -- is underperforming.', '\"as the world\\'s largest consumer nation, the united states offers the most exciting opportunity for uniqlo outside asia.but determining how to develop the brand and build a profitable business there is a huge challenge,\" wrote mr yanai in his annual letter to shareholders, published in january under the heading: \"to be a truly global company.\"']\n",
      "content score: 0.287323232\n",
      "summary: uniqlo aims to be the number one fashion giant in the world with revenues of $50 billion. but to achieve this, the company needs to be loved for its brand as well as its product.\n",
      "summary score: 0.35\n",
      "manual_label: 1\n",
      "prediction: 1.0\n",
      "\n",
      "\n",
      "lvmh\n",
      "['where returns-related metrics are used to calculate annual bonuses, their importance is diluted by other factors.for example, kering includes cash flow as one of two criteria when setting its annual bonus, while lvmh and richemont include it as one of four criteria.swatch includes working capital as one of four criteria.longer-term remuneration plans tell a similar story.tods uses tsr, cash from operations and net debt; lvmh uses four criteria, including cash from operations and operating investments; richemont uses cash from operations as one of three criteria.ferragamo includes tsr as one of three criteria.luca solca is the head of luxury goods at bnp exane paribas.related articles lvmh, kering, richemont?where to place your bets.']\n",
      "content score: -0.041666667\n",
      "summary: ceo remuneration policies within the luxury goods sector are out of sync with today's low-growth world, argues luca solca.\n",
      "summary score: 0.0\n",
      "manual_label: 0\n",
      "prediction: 1.0\n",
      "\n",
      "\n",
      "patmcgrath\n",
      "[\"we're able to translate a look, interpret it and customise it for them.\", '\"pat mcgrath\\'s pearlised look for givenchy | source: @patmcgrathreal instagram fashion week activations are increasingly important, not just for artist-driven brands like nars, mac and redken, but also for mass beauty brands like maybelline, which sell packaged products that consumers can\\'t try before they buy, making trust more important.the brand has sponsored several fashion weeks, from this season\\'s img-organised shows in new york to the city\\'s made at milk studios showcase before img acquired the brand earlier this year.']\n",
      "content score: 0.256060606\n",
      "summary: hair and makeup companies are turning fashion week partnerships into powerful brand marketing tools.\n",
      "summary score: 0.3\n",
      "manual_label: 1\n",
      "prediction: 1.0\n",
      "\n",
      "\n",
      "lottavolkova\n",
      "[\"i am speaking, of course, of the t-shirt shirt, a menswear product from the balenciaga fall 2018 collection that is exactly what it sounds like: a cotton t-shirt twinned to a cotton button-up shirt in complementary colours that can be worn with the long-sleeved shirt draped on the front, or the t-shirt draped off the back.balenciaga fall 18 photography by @ilya_lipkin, styling by @lottavolkova men collection available for online pre-order may 23rd and in stores from june 19th a post shared by balenciaga (@balenciaga) on may 9, 2018 at 12:32pm pdt it costs $1,290 and is currently available to order.it's not quite two-for-one, but close.\"]\n",
      "content score: 0.35\n",
      "summary: the french brand keeps making products that push all of social media's buttons, and that serves the company very, very well.\n",
      "summary score: 0.097777778\n",
      "manual_label: 1\n",
      "prediction: 1.0\n",
      "\n",
      "\n",
      "salvatoreferragamo\n",
      "['tods spa chairman and chief executive officer diego della valle has doubled his investment in saks inc. in the past month and now owns 5.9 percent.', '\"(subscription required) ferragamo net slides 17 percent (wwd) \"italy\\'s salvatoreferragamo spa reported a 17 percent drop in earnings in 2008 due to marginal revenue growth and a raft of new store openings.', '\"(subscription required)']\n",
      "content score: -0.059659091\n",
      "summary: none\n",
      "summary score: 0.0\n",
      "manual_label: -1\n",
      "prediction: 1.0\n",
      "\n",
      "\n",
      "paris\n",
      "[\" paris, france -- last week's deadly truck attack in nice, which killed at least 84 people celebrating bastille day in the french coastal city, became the third major terrorism-related event france has experienced in the past 18 months, raising questions over whether such shocking events are isolated or if the country is facing a new normal, with long-term implications for the country's $18 billion fashion and luxury sector.tragically, paris had already experienced an attack at the beginning of 2015 when two brothers forced their way into the offices of french satirical weekly newspaper charlie hebdo, killing 11 people.later in the same year, terrorists killed 130 people in a series of co-ordinated attacks in and around the city.in the past, these kinds of shock events have resulted in a short-term plunge in retail sales before trading resumes to a normal level.but friday's attack combined with last year's events in paris in november and january, have caused analysts to consider this in a new light.\", '\"the big question here is whether terrorist attacks in europe need to be seen as \\'one offs\\' like 9/11 -- or as a sign that europe will look more and more unstable,\" luca solca, the head of luxury goods at exane bnp paribas, told bof.so what are the long-term implications for france\\'s $18 billion luxury goods sector?in recent months, luxury sales have been hit hard, particularly in the destination capital of paris where the bulk of tourists visit the city to shop for europe\\'s leading brands like hermes, louisvuitton and prada.luxury goods giant lvmh reported weaker than expected revenue for the first quarter after the attacks in paris and brussels, posting a slowdown in like-for-like sales growth to 3 percent to eur8.62 billion, below the market expectations of 4.1 percent, and market reports suggest that sales are down up to 20 percent at some paris department stores.one of the most visited countries in the world, france saw around 84 million travellers in 2015, which help generate roughly 7 percent of its economic activity annually, a large bulk of whom typically comprise asian tourists buying luxury goods.']\n",
      "content score: 0.051307269\n",
      "summary: france has been rocked by three tragic terrorism-related events in the past 18 months, raising questions about the long-term impact on france's $18 billion fashion and luxury sector.\n",
      "summary score: -0.5\n",
      "manual_label: -1\n",
      "prediction: -1.0\n",
      "\n",
      "\n",
      "hm\n",
      "[' stockholm, sweden -- fashion group hm said on monday it would stop publishing monthly sales figures, but also announced it would break tradition and begin holding capital market days in a bid to assuage investors clamouring for more information.', \"sweden's hm, the world's second-biggest fashion retailer, has seen sales growth stall amid tougher competition, and some analysts had said it might prefer to drop the monthly data.\", '\"the reasoning is that a month is far too short a period over which to assess how sales are developing,\" hm said in a statement.', '\"instead sales development should be viewed over a longer period of time, such as over a season or a quarter.\"', 'the retailer, which does not publish guidance and whose chief executive until last month did not take part in public conference calls about its results, has been criticised by analysts and investors for being too tight-lipped on strategy and outlook.', 'hm shares have under performed the broader market with a 17 percent slide this year, further fuelling calls for greater transparency about its business.', 'the retailer, which has never held a capital market day for investors and analysts covering the company since its listing in 1974, said it would begin to do so in order to provide \"more in-depth information about the business.\"', 'hm also confirmed a preliminary june local-currency sales growth reading of 7 percent.', 'by anna ringstrom; editor: niklas pollard.']\n",
      "content score: 0.2\n",
      "summary: the swedish retailer will replace monthly sales figures reports with capital market days in a bid to assuage investors clamouring for more information.\n",
      "summary score: 0.5\n",
      "manual_label: 1\n",
      "prediction: -1.0\n",
      "\n",
      "\n",
      "louisvuitton\n",
      "[\"in today's world, we can solve this problem with technology.\", '\"bof exclusive | louisvuitton launches smartwatch ( the business of fashion ) \"leaning on its travel heritage, vuitton is targeting a customer that\\'s highly mobile.its smartwatch comes with the label\\'s famous city guides and a downloadable \\'my flight\\' app.']\n",
      "content score: 0.33\n",
      "summary: this week, why the adidas 'all day' app is more than just a fitness tracker, while amazon leads the pack in a new online shopping trend.\n",
      "summary score: 0.318181818\n",
      "manual_label: 1\n",
      "prediction: 1.0\n",
      "\n",
      "\n",
      "nike\n",
      "[\" portland, united states -- full-time us employees of nike inc. who are new parents or who are needed to care for sick family members are now eligible to receive eight weeks of paid leave, the world's biggest sportswear company said on wednesday.birth mothers are now eligible for a minimum of 14 paid weeks of leave, nike said, with more paid leave allowable if a doctor deems it medically necessary.previously, birth mothers were allowed a minimum of six weeks paid leave to care for their newborns, said a company spokeswoman.fathers, adoptive parents and employees with sick family members had not been allowed paid leave under beaverton, oregon-based nike's previous policy, but can now take up to eight weeks of paid leave.the benefit changes apply to nike employees who have a regular work schedule of 30 or more hours a week.employees are eligible for the benefit on their first day of work, the company said.\"]\n",
      "content score: -0.023208273\n",
      "summary: full-time us employees of nike inc. who are new parents or who are needed to care for sick family members are now eligible to receive eight weeks of paid leave.\n",
      "summary score: -0.288961039\n",
      "manual_label: 0\n",
      "prediction: 1.0\n",
      "\n",
      "\n",
      "celine\n",
      "[' los angeles, united states -- hedi slimane is moving full-speed ahead with his top-to-bottom overhaul of celine.the los angeles-based designer, who joined the lvmh-owned brand in february as its artistic, creative and image director, is set to show his first collection in september during paris fashion week.slimane is laying out plans to completely renovate the brand\\'s fleet of 140 stores, re-invent its brand image and expand into menswear, fragrance and couture.both lvmh and celine declined to comment on slimane\\'s plans.but according to sources, slimane is also rethinking the model for delivering product to the consumer.at saintlaurent , where slimane was creative director from 2012 to 2016, remodelling cost anywhere from $1 million to $3 million for a smaller, low-priority \"c\" store, to $6 million to $8 million for a flagship, according to a source who worked on his team at the time.as for the product itself, slimane\\'s first missive is to create a season-less core collection that will set the tone for the new celine.while it took slimane and his team some time to build up the saintlaurent core collection, this go-around it\\'s more accelerated.he\\'s reviewing hundreds of samples to create the perfect versions of classic pieces.so while slimane is said to be very respectful of philo\\'s celine, he is doing exactly what he was hired to do, bringing his own vision to the brand, just as philo brought hers.it\\'s a formula that has worked for slimane before.he wiped the slate clean both at dior homme and saintlaurent, spurring years of accelerated growth for both houses that continues today.at celine, he may lose some of the hardcore \\' philophiles \\' -- the ones who bought the clothes, jewellery and conceptual shoes that presumably made up a very small percentage of the business.but the customer for celine handbags likely overlaps with slimane\\'s saintlaurent customer, so regardless of whether he carries over any of those styles, he\\'s likely to retain a good percentage of them.what\\'s more, his apparel and shoe designs have a broader appeal.with the addition of men\\'s, couture and fragrance, there\\'s tremendous growth potential.slimane\\'s reign at celine may be an extremely expensive bet for lvmh, but it\\'s probably one of the safest bets in fashion.related articles: what hedi slimane means for celine']\n",
      "content score: 0.286880165\n",
      "summary: the designer is re-imagining the lvmh-owned brand's business model as a part of his ambitious revamp.\n",
      "summary score: 0.25\n",
      "manual_label: 1\n",
      "prediction: 1.0\n",
      "\n",
      "\n",
      "zalando\n",
      "['rewards and benefits today\\'s best employers offer more than just traditional salaries and benefits.from offering employee share option schemes, such as \" farfetch for all,\" or gap inc.\\'s evidence-based performance pay scheme, which is linked to measurable business zalando employees | source: courtesy performance metrics, the industry\\'s leading employers have recognised the potential of rewarding employees in ways that go beyond traditional pay ladders.some companies like berluti , the french heritage shoemaker owned by lvmh, and cotton on group, australia\\'s largest value retailer, have seen opportunity in a more holistic approach to rewards and benefits schemes.culture and working environment other top companies are focusing on creating opportunities for autonomy, job-fluidity and quick progression.to meet the demands of a young business with eur3.6 billion ($3.8 billion) in turnover, german e-tailer zalando assesses its employees on their overall potential, not their experience, creating team fluidity that can escalate talent to a variety of career paths.global mobility is also a key area of focus.']\n",
      "content score: 0.194607843\n",
      "summary: the business of fashion surveyed over 2,600 industry professionals, representing more than 190 leading fashion companies around the world for our first annual report on the best companies to work for in fashion.\n",
      "summary score: 0.583333333\n",
      "manual_label: 1\n",
      "prediction: 1.0\n",
      "\n",
      "\n",
      "richemont\n",
      "[\"* ports' share price has been sliding down this month, owing to fears over an increase in tax rate for the current fiscal year.\", \"* swiss watch groups richemont and swatch take a hit mid-month as the swiss franc continues to climb and threaten exports.both stocks recovered some of their lost ground with swatch ending flat on the month but richemont's share price still declining by 7.7 percent.what to watch * continued uncertainties over currencies, with the swiss franc going in opposite direction to the us dollar and the euro.\"]\n",
      "content score: -0.045138889\n",
      "summary: nan\n",
      "summary score: 0.0\n",
      "manual_label: -1\n",
      "prediction: -1.0\n",
      "\n",
      "\n",
      "target\n",
      "[\"expectations differ depending on the type of retailer.when buying clothes at discount stores like wal-mart or target, shoppers expect dingy and scuffed-up -- they don't really care since they don't plan to linger.there's a much higher bar at an upscale department store or luxury boutique.\"]\n",
      "content score: 0.225\n",
      "summary: virtual reality and ipads won't change what's in the mirror, but better lighting and more staff may help sales.\n",
      "summary score: 0.5\n",
      "manual_label: 0\n",
      "prediction: 1.0\n",
      "\n",
      "\n",
      "france\n",
      "[\"tisci left his hometown of taranto, southern italy to study at central saint martins in london, graduating in 1999. he returned to italy to work for a number of brands including antonio berardi, coccapani, puma and ruffo research.in september 2004 he set up an eponymous ready-to-wear label, showing his first collection in milan for the autumn/winter 2005 season, which caught the attention of press and lvmh executives, who hired tisci to replace julien macdonald as creative director of givenchy in february 2005. throughout his tenure, tisci has pushed the boundaries of one of france's most storied couture houses, which was largely associated with its founder's close relationship with actress audrey hepburn, who was a lifelong client and enlisted hubert de givenchy to design many of her iconic hollywood costumes.as well as designing highly embellished collections of haute couture , the italian designer achieved notoriety for distinctive graphic sweatshirts, sneakers and sportswear-inspired garments.\"]\n",
      "content score: 0.194175824\n",
      "summary: tisci is departing the lvmh-owned fashion house after 12 years at the creative helm, as rumours intensify that the designer will join versace. \n",
      "summary score: 0.5\n",
      "manual_label: 0\n",
      "prediction: 1.0\n",
      "\n",
      "\n",
      "salvatoreferragamo\n",
      "[\"richemont's iwc acquired the world timer patents and intellectual property of vogard for its unique world timer technology, which allows the wearer to adjust the time zone via the bezel as opposed to using a crown or pushers.going up * salvatoreferragamo's share price leaped over 16 percent this month after it published strong third-quarter results and announced that it would match its 2013 core profit margin this year.\", '* brunellocucinelli also rose by almost 16 percent as its nine-month profits were boosted by higher revenues and a better sales mix.']\n",
      "content score: 0.409722222\n",
      "summary: the luxury sector seems to have reached a turning point, having weathered the crises that beset it all year and buoyed by more benign currency trends.\n",
      "summary score: 0.5\n",
      "manual_label: 1\n",
      "prediction: 1.0\n",
      "\n",
      "\n",
      "nike\n",
      "['1,\" said plank.what about nike?', '\"those guys are old,\" he said.seven years later, nike still rules and plank has been humbled.sure, underarmour found some success breaking into the paint, and plank revelled in bidding wars over nba superstars such as kevin durant.', '\"do i take pleasure in that they paid $150 million more than they planned on paying?', '\"plank said of nike\\'s endorsement deal with durant.\"absolutely.', '\"these days, plank is content to tout underarmour inc. as the third-largest sports brand in the world, pointing out that nike and adidas are a \"long ways away.', '\"the 44-year-old, whose biggest claim to fame of late was triggering consumer blowback for supporting donald trump, admitted to various missteps and conceded that the company he built remains comparatively small.the best-selling sneaker in the us was the adidas superstar.the next nine were sold by nike.underarmour had none.even curry -- underarmour\\'s most prized pitchman in the battle to win over sneakerheads -- has been overshadowed this season by fellow superstars.shoppers haven\\'t helped either, as they continued to shift away from performance basketball shoes to casual and retro styles abundant at adidas ag and nike inc. sales of performance basketball shoes, which include the curry line, fell about 20 percent last year and have tumbled by the same amount through march, according to npd group inc. last year, the best-selling sneaker in the us was the adidas superstar.the next nine were sold by nike.underarmour had none.plank admits that underarmour hadn\\'t yet perfected its sneaker launches and is retooling methods for future releases.just last month, nike boasted it had its biggest-ever sneaker launch --a throwback version of the shoes michael jordan wore in the 1996 comedy film space jam, which featured the basketball legend alongside looney tunes characters.underarmour has struggled to build fashion credibility to push its lifestyle kicks.']\n",
      "content score: 0.114285714\n",
      "summary: growth has slowed for underarmour in the face of aggressive competition from nike and adidas, alongside weak demand for its shoes.\n",
      "summary score: -0.375\n",
      "manual_label: -1\n",
      "prediction: -1.0\n",
      "\n",
      "\n",
      "brazil\n",
      "[' rio de janeiro, brazil -- nike inc. is once again defending a 1996 sports marketing contract in brazil following new allegations by the u.s. department of justice that corrupt brazilian soccer officials were paid bribes.nike said in a statement late thursday that no company officials were aware of any kickbacks and that the sporting goods maker is cooperating with authorities.the statement was in response to an indictment unsealed thursday where u.s. justice, led by attorney general loretta lynch, has accused the ex-leader of the world cup\\'s most winning national soccer program of getting kickbacks from a company referred to as \"sportswear company a\" after signing a $160 million agreement.nike is the company that signed with brazil\\'s national squad at the time of the agreement.the indictment says sportswear company a paid an additional $40 million to an affiliate of the firm that helped broker the deal, and half of that was transferred in kickbacks and bribes to former brazil soccer president ricardo teixeira.teixeira was one of 16 new individuals charged by u.s. prosecutors in an indictment that supersedes one issued in may against 14 others.still, nike\\'s global battle with adidas ag for supremacy in the global soccer market is key to the fortunes of both companies.winning the brazilian sponsorship put nike on the global soccer map.in 1994, its sales from soccer totaled $40 million.more than two decades later, its closing on soccer sector leader adidas after earning $2.27 billion in fiscal year 2014. the fallout from the u.s. investigation has now implicated the last three brazilian soccer leaders.jose marin, who was president of soccer in the country during last year\\'s world cup, was among the seven soccer leaders arrested in dawn raids on a posh zurich hotel in may.teixeira and marin\\'s replacement marco polo del nero were named in thursday\\'s indictment.del nero, who hasn\\'t left brazil since hurriedly returning to the country a day after the zurich raid that nabbed marin, announced he was taking a leave of absence shortly after the indictment was unsealed.by tariq panja; editors: janet paskin, peter millard, walter brandimarte.']\n",
      "content score: -0.000279974\n",
      "summary: nike inc. is once again defending a 1996 sports marketing contract in brazil following new allegations by the us department of justice that corrupt brazilian soccer officials were paid bribes.\n",
      "summary score: -0.121212121\n",
      "manual_label: -1\n",
      "prediction: -1.0\n",
      "\n",
      "\n",
      "adidas\n",
      "[\" frankfurt, germany -- adidas ag chief executive officer herbert hainer said the sporting-goods maker's hiring of advisory firm perella weinberg partners is aimed at establishing investors' intentions amid interest from activist funds.the appointment, announced by hainer at last week's annual general meeting, will help defend against possible moves by activist investors.\"]\n",
      "content score: -0.0375\n",
      "summary: adidas' chief executive officer herbert hainer said the hiring of advisory firm perella weinberg partners is aimed at establishing investors' intentions amid interest from activist funds.\n",
      "summary score: -0.2\n",
      "manual_label: 1\n",
      "prediction: 1.0\n",
      "\n",
      "\n",
      "puma\n",
      "[\"gucci spring/summer 2018 | illustration by ignasi moreal continuing to push the envelope and expand michele's universe (which thus far has produced robots, aliens and a northern soul dance troupe) this season gucci went photography-free with a campaign that offers equal measures of art and advertising.2.\", 'fenty x puma -- starring rihanna , slick woods , selena forrest and yasmin wijnaldum; shot by glen luchford .fenty x puma spring/summer 2018 | photo: glen luchford following her high-octane new york fashion week show in september 2017, rihanna teamed up with glen luchford to shoot fenty x puma spring/summer 2018. the brightly coloured, logo-heavy collection pops out against the stark desert backdrop as motorbikes fly overhead.3.', 'calvinklein 205w39nyc -- shot by willy vanderperre.']\n",
      "content score: 0.154040404\n",
      "summary: from gucci's surrealist illustrations to loewe's comment on consumption with the steven meisel lensed campaign titled \"fruits\", bof rounds up the best ads of the spring/summer 2018 season.\n",
      "summary score: 1.0\n",
      "manual_label: 1\n",
      "prediction: 1.0\n",
      "\n",
      "\n",
      "lvmh\n",
      "[\"in fact, some of today's mega-brands are revived cinderellas: burberry, gucci, even louisvuitton.cinderellas continue to abound within the brand portfolios of major industry players such as lvmh, richemont and kering, which should be credited with having engineered the most successful growth relay in the industry.next we have the snow whites, forgotten or small heritage brands that boast a pristine image and which have a successful ceo or creative director at the helm.this category has been attracting more attention from luxury players recently.lvmh is attempting to emulate kering's success with bottegaveneta with snow whites of its own, such as loewe and berluti .independent snow whites, such as lanvin and goyard, could be interesting targets for groups looking to juice up their portfolios.one important character common to all of our distressed damsels is, of course, prince charming -- and, by that, i mean the ceos and creative directors required to animate a brand.our analysis reveals that celine and fendi, both controlled by lvmh, are among the most favourably positioned smaller brands in the industry.indeed, the evidence suggests that lvmh is building up growth relay momentum that could benefit its fashion and leather goods business in the medium term.luca solca is the head of luxury goods at bnp exane paribas.\"]\n",
      "content score: 0.285\n",
      "summary:  luxury groups need to tap their smaller labels as the growth of their megabrands slows. but are these smaller brands blossoming, shifting gear or still waiting for prince charming? \n",
      "summary score: 0.233333333\n",
      "manual_label: 1\n",
      "prediction: 1.0\n",
      "\n",
      "\n",
      "rihanna\n",
      "[\"gucci spring/summer 2018 | illustration by ignasi moreal continuing to push the envelope and expand michele's universe (which thus far has produced robots, aliens and a northern soul dance troupe) this season gucci went photography-free with a campaign that offers equal measures of art and advertising.2.\", 'fenty x puma -- starring rihanna , slick woods , selena forrest and yasmin wijnaldum; shot by glen luchford .fenty x puma spring/summer 2018 | photo: glen luchford following her high-octane new york fashion week show in september 2017, rihanna teamed up with glen luchford to shoot fenty x puma spring/summer 2018. the brightly coloured, logo-heavy collection pops out against the stark desert backdrop as motorbikes fly overhead.3.', 'calvinklein 205w39nyc -- shot by willy vanderperre.']\n",
      "content score: 0.154040404\n",
      "summary: from gucci's surrealist illustrations to loewe's comment on consumption with the steven meisel lensed campaign titled \"fruits\", bof rounds up the best ads of the spring/summer 2018 season.\n",
      "summary score: 1.0\n",
      "manual_label: 1\n",
      "prediction: 1.0\n",
      "\n",
      "\n",
      "lvmh\n",
      "[' lvmh `playing a waiting game\\' for hermes takeover (bloomberg) \"[lvmh said] it doesn\\'t intend to launch a tender offer, take control or seek board representation at the maker of birkin bags after announcing it owns 14.2 percent of paris-based hermes, with the option to increase the stake to 17.1 percent.', '\"conde nast digital loses style.com (wsj) \"conde nast executives say the move is a natural pairing of two properties whose audiences increasingly overlap.']\n",
      "content score: -0.15\n",
      "summary: none\n",
      "summary score: 0.0\n",
      "manual_label: -1\n",
      "prediction: 1.0\n",
      "\n",
      "\n",
      "saintlaurent\n",
      "['to \"ten years of work destroyed!!!\"', '-- depending on whether the commenter\\'s allegiance was to philo, the coco chanel of her generation who transformed celine from a once-middling label into a fashion authority, or slimane, the former dior homme and yves saintlaurent maestro whose ability to drive spectacular commercial results is polarising, yet unmatched.the rationale for slimane\\'s appointment at celine is clear: lvmh has big commercial ambitions for the brand and the group\\'s chairman and chief executive bernard arnault has reportedly sought to win back slimane since he exited dior homme, also owned by lvmh, in 2007. now, as celine approaches eur1 billion in annual sales, the arrival of slimane (who is set to launch new categories including menswear, couture and fragrance) alongside a more robust digital strategy and new stores (there are currently 150 globally) could help to double that figure.fragrance, if executed correctly, could be a billion-dollar business in itself.slimane certainly did wonders for saintlaurent.nearly two years after his departure, slimane\\'s successful revamp of the brand is still paying dividends for lvmh-rival kering .but just how slimane will go about repeating this success at celine is complicated.celine\\'s history is not as rich or storied as that of yves saintlaurent (or dior).founded in 1945 as a made-to-measure children\\'s shoe business -- identifiable by its red elephant logo -- founder-designer celine vipiana pivoted the business in 1960 to focus on women\\'s sportswear, finding a following with the french bourgeoisie.she carried on with few memorable signatures to rely upon, save for the abutting \"c\" logo and a horse-and-buggy motif, and re-imagined celine in her own, maximum-minimalist style, which has been seared into the hearts and minds of faithful celine followers (sometimes called \"philophiles\") around the world who quite literally bought into philo\\'s philosophy of a wardrobe for the modern woman.unlike saintlaurent, which was uneven both critically and commercially when slimane joined, leaving room for a sweeping reinvention, philo has loyal followers, many of whom could easily abandon the brand if slimane makes changes that are too extreme.while lvmh traditionally prefers hiring star designers over promoting from within, some industry insiders believed it would have been more prudent to elevate one of philo\\'s deputies, or bring in a younger designer to continue in philo\\'s stead.even though lvmh has already invested a great deal of money in building out the celine brand over the last 10 years, including its suite of about 150 retail stores, slimane will likely want to redo everything.still, it\\'s also likely that he will find a way to reconnect with his own set of loyal customers, many of whom are still buying saintlaurent and dior homme.while his runway shows for saintlaurent received mixed critical reactions, his designs were a clear commercial success, feeding a customer base hungry for \"gypset\" dresses and sequined tuxedo jackets.store buyers are generally enthusiastic, though the reactions of some have been more muted than others.', '\"whenever a fashion house makes a change in creative direction, we tend to see more interest and with slimane taking over celine\\'s helm, you can be certain that this will be the case,\" added tracy margolies, chief merchant at saks fifth avenue.slimane\\'s success at celine will depend, in part, on his ability to create an exacting core collection -- which at saintlaurent included the perfect chelsea boot, motorcycle jacket and pencil-thin jeans -- that appeals to the label\\'s current customers, while also layering on his own vision of celine.what\\'s sure is that slimane\\'s debut at celine will be the hottest ticket in town at paris fashion week come september.']\n",
      "content score: 0.220438312\n",
      "summary: the surprise return of one of fashion's most polarising yet commercially successful designers could double revenues at the lvmh-owned house. but will it alienate celine loyalists?\n",
      "summary score: 0.416666667\n",
      "manual_label: 1\n",
      "prediction: 1.0\n",
      "\n",
      "\n",
      "balenciaga\n",
      "[\"caillaudaud hailed from givenchy, where he worked on shoes and accessories.balenciaga names ceo balenciaga has appointed cedric charbit as chief executive officer.he succeeds isabelle guichot, who held the role for nine years and will take on new responsibilities at the brand's parent company kering .\"]\n",
      "content score: 0.418181818\n",
      "summary: this week, co-artistic directors alexis martial and adrien caillaudaud have parted ways with carven, and balenciaga has appointed cedric charbit as chief executive officer.\n",
      "summary score: 0.0\n",
      "manual_label: 1\n",
      "prediction: 1.0\n",
      "\n",
      "\n",
      "germany\n",
      "[\" berlin, germany -- europe's biggest online fashion retailer, zalando , facing a growing threat from rival amazon moving into its territory, is teaming up with adidas to offer same-day, free deliveries from one of its sports stores.berlin-based zalando, which sells 1,500 fashion brands from warehouse stock, says the project will improve the speed of delivery and product availability and hopefully boost profits, just as amazon is investing in its clothing labels and ever more convenient delivery options.british start-up farfetch is delivering high-end fashion from luxury brands and independent stores globally, but zalando's same-day free delivery is going a step further.zalando said, for example, soccer fans ordering a jersey before 3pm, for germany's european championship match against poland next thursday, could have it delivered from the adidas store in time for kick-off at 9pm.bigger network, better economics?zalando says it is not unduly worried about amazon as it has more expertise in fashion, but has nevertheless been investing in its technology, which has dented its profits and shares.germany is amazon's second-biggest market outside the united states.the benefits for adidas of the partnership with zalando, ohlmeyer said, are that it will be able to deal better with peaks in demand.\"]\n",
      "content score: 0.275\n",
      "summary: europe's biggest online fashion retailer, zalando, facing a growing threat from rival amazon moving into its territory, is teaming up with adidas to offer same-day, free deliveries from one of its sports stores.\n",
      "summary score: 0.4\n",
      "manual_label: 1\n",
      "prediction: 1.0\n",
      "\n",
      "\n",
      "paris\n",
      "[\" paris, france -- french luxury goods tycoon bernard arnault is expanding his art museum empire with plans to renovate a disused public building near his landmark louisvuitton foundation on the outskirts of paris.the musee national des arts et traditions populaires, built in 1972 but sitting vacant since 2005, is to be turned into a multi-cultural arts and crafts centre in a 158 million euros ($167 million) revamp by architect frank gehry.gehry also designed the louisvuitton foundation building, which stands 300 meters (yards) away on the edge of the bois de boulogne woods.the investment was due to be announced later on wednesday by arnault, owner of luxury group lvmh, in the presence of president francois hollande, paris mayor anne hidalgo and culture minister audrey azoulay, a source close to the matter said.gehry, whose louisvuitton foundation building opened in 2014, will create a cultural center with an arts and crafts focus, featuring a concert hall and workshops for a 50 year-concession granted to arnault by the city of paris.paris officials last year renewed lvmh's concession for the jardin d'acclimatation amusement park behind the disused museum site, opening the way for a renovation of the garden and its attractions.lvmh, which has managed the park since 1984, holds an 80 percent stake in a partnership with compagnie des alpes, a theme parks and ski resorts developer.\"]\n",
      "content score: -0.047222222\n",
      "summary: the investment was due to be announced later on wednesday by arnault, in the presence of president francois hollande, paris mayor anne hidalgo and culture minister audrey azoulay.\n",
      "summary score: -0.0625\n",
      "manual_label: 1\n",
      "prediction: 1.0\n",
      "\n",
      "\n",
      "marcjacobs\n",
      "['fashion\\'s better halves (wsj) \"two days and a handshake later, a fashion empire was born.today, the duo presides over two of the industry\\'s biggest luxury labels: marcjacobs and louisvuitton , where the designer has been artistic director since 1997. under jacobs\\' often iconoclastic stewardship, vuitton now does $5 billion in annual sales.at last count, marcjacobs has 239 retail stores in 60 countries.', '\"hundreds sick in mass fainting at cambodian factory (reuters) \" nearly 300 cambodian workers fell sick this week at a garment factory producing goods for swedish fashion brand hennes & mauritz ( hm ), police said on thursday.']\n",
      "content score: -0.070748299\n",
      "summary: nan\n",
      "summary score: 0.0\n",
      "manual_label: -1\n",
      "prediction: -1.0\n",
      "\n",
      "\n",
      "retail\n",
      "[\"so it may come as a relief to many that fitting rooms are getting a different kind of makeover, one involving technology.retailers are starting to pack them with gadgets, an attempt to capitalize on one of the few advantages physical stores still have over the online marketplace.at macy's, they're testing rooms with smartphones and tablets to select try-on items.but technology isn't necessarily the solution, she says.laney has worked with companies across the retail spectrum, including nike, hm , and calvinklein .she's seen inexplicable screw-ups that affect how shoppers feel in the fitting room: big-and-tall stores with rooms that can't fit big-and-tall customers.what's the ideal fitting room look like?expectations differ depending on the type of retailer.when buying clothes at discount stores like wal-mart or target, shoppers expect dingy and scuffed-up -- they don't really care since they don't plan to linger.\"]\n",
      "content score: 0.235714286\n",
      "summary: virtual reality and ipads won't change what's in the mirror, but better lighting and more staff may help sales.\n",
      "summary score: 0.5\n",
      "manual_label: 1\n",
      "prediction: 1.0\n",
      "\n",
      "\n",
      "models\n",
      "[' \" california bill to fight models\\' eating disorders advances \" (reuters) \"a california bill aimed at reducing eating disorders among models cleared its first legislative hurdle on wednesday, following efforts in several countries to fight extreme thinness in an industry that pressures models to lose weight.\"\"', 'model in gucci ad is deemed \\'unhealthily thin\\' by british regulator \" (the new york times) \"on wednesday, the advertising standards authority of britain ruled that the ad was \\'irresponsible\\' and that the model looked \\'unhealthily thin,\\' fanning a perennial debate in the fashion industry over when thin is too thin.\"']\n",
      "content score: -0.133863636\n",
      "summary: social goods is a weekly roundup of the most important news at the intersection of fashion and ethics, sustainability and corporate social responsibility.\n",
      "summary score: 0.193333333\n",
      "manual_label: 1\n",
      "prediction: -1.0\n",
      "\n",
      "\n",
      "london\n",
      "[' london, united kingdom -- bof compiles the most important professional moves of the week.christophe lemaire joins uniqlo uniqlo has appointed christophe lemaire artistic director of a new uniqlo paris r&d centre.']\n",
      "content score: 0.293939394\n",
      "summary:  bof compiles the most important professional moves of the week. \n",
      "summary score: 0.333333333\n",
      "manual_label: 1\n",
      "prediction: 1.0\n",
      "\n",
      "\n",
      "dkny\n",
      "[\" new york, united states -- dkny has confirmed the departure of its chief executive caroline brown , and of its creative directors maxwell osborne and dao-yi chow, who will leave the company before the end of year.the company announced the three departures at the closing of its sale to american manufacturing and licensing company g-iii apparel group on december 1. in july, lvmh agreed to sell donnakaran international to g-iii apparel group for an enterprise value of $650 million, an unexpected move by the french luxury conglomerate, which rarely sells its brands.since donnakaran's departure from her namesake label in june 2015, brown has overseen the transition of the brand and brought in the creative talents of chow and osborne, who have won accolades for their own label, public school.dkny was developed in 1989 as a bridge line to donnakaran's now-discontinued mainline.analysts previously estimated that donnakaran international generated around $450 - $500 million a year in revenue.\", '\"caroline\\'s leadership was instrumental in repositioning the brand for the future.she streamlined the breadth of activities, refocusing the organisation on quality and on the core values of the dkny brand,\" lvmh group managing director antoni belloni wrote in a letter addressed to dkny employees.', '\"as of today, donnakaran international is under the ownership of g-iii.', '\"given the company sale and subsequent change in strategies, we have decided to step down and focus on our own business, public school,\" said the pair in a statement.', '\"it\\'s been an unbelievable experience to work side by side with the wonderful people at dkny, especially our amazing design team and atelier.we wish the company success in the future.', '\"g-iii did not say whether it would hire a new creative director to oversee donnakaran brands, however it seems unlikely within the company\\'s existing business structure which encompasses the manufacturing and distribution of apparel and accessories for a variety of brands.however, the company\\'s ambitions for dkny are high.in a separate statement, morris goldfarb, chairman and chief executive officer of g-iii, said he believed that dkny had the potential to generate $1 billion in annual sales.', '\"working closely with our partners and through our strong licensing network, we are confident we can quickly bring to market a comprehensive and compelling lifestyle offering that will restore the donnakaran international brands to prominence and excite consumers.\"']\n",
      "content score: 0.18432858\n",
      "summary: dkny chief executive caroline brown and creative directors maxwell osborne and dao-yi chow will leave the company before the end of year.\n",
      "summary score: 0.5\n",
      "manual_label: -1\n",
      "prediction: 1.0\n",
      "\n",
      "\n",
      "valentino\n",
      "['in 2015, sales revenue was eur973.6 million (over $1.1 billion), up 38 percent year over year.valentino has also driven impressive growth with ready-to-wear.', '\"[saintlaurent and valentino] are two good examples of brands that have hit the sweet spot,\" solca says.', '\"they have been able to capture the spirit of the time -- and, as a result, media and consumer attention -- with their creativity.', '\"valentino, which delivered about $1 billion in revenue in 2015 -- up 48 percent from 2014 -- is on track to ipo in 2017. unlike most of its direct competitors, ready-to-wear makes up a third of the house\\'s sales.what\\'s more, the house does not have a classic \"it\" bag.instead, creative directors maria grazia chiuri and pierpaolo piccioli , who originally led valentino\\'s accessories department before their promotion in 2008, had a hit with their \"rockstud\" shoes, as well as formal gowns and novelty items including sneakers and souvenir jackets.both saintlaurent and valentino were apparel-first brands, however, unlike labels such as louisvuitton or loewe , which have a heritage in leather goods.at valentino, ready-to-wear once made up 80 percent of the company\\'s business, according to ortelli, who adds: \"the bigger valentino becomes, the more weight shoes and leather goods will have to carry.', '\"at some brands, raising prices has also contributed to the rise of clothing as a revenue driver.']\n",
      "content score: 0.370833333\n",
      "summary: as the market for handbags becomes more crowded and competitive, some luxury brands are taking a more balanced, diversified approach to product categories.\n",
      "summary score: 0.5\n",
      "manual_label: 1\n",
      "prediction: 1.0\n",
      "\n",
      "\n",
      "inspecs\n",
      "['worldwide futures orders for the nike brand, a closely watched measure of demand in coming months, grew 13 percent to $8.9 billion at the end of the quarter.', '\"founder with an eye for design (ft) \"one of mr totterman\\'s ideas at the start of the business, was to ask jean paul gaultier , the french fashion designer, if inspecs could distribute gaultier-branded spectacles in the uk.', \"'at the time we had no design function - we were reliant on other people's products and we felt we needed a big name if we were to get anywhere.\"]\n",
      "content score: -0.041666667\n",
      "summary: none\n",
      "summary score: 0.0\n",
      "manual_label: -1\n",
      "prediction: 1.0\n",
      "\n",
      "\n",
      "stockholm\n",
      "[\" stockholm, sweden -- hennes & mauritz ab provided some much-needed good news for europe's struggling clothing retail market, reporting profit that topped estimates and setting a new annual growth target.after missing estimates for five of the previous six quarters, hm said fourth-quarter pretax earnings rose to 7.41 billion kronor ($839 million), exceeding the 7.04 billion-kronor average estimate.the results provide a lift for europe's apparel retailers after a year when unseasonable weather patterns, changing consumer priorities and the strength of the dollar all provided challenges.hm shares rose as much as 6.2 percent in early stockholm trading, almost erasing their decline this year.rival inditex sa and uk clothing retailers next plc and marks & spencer group plc also gained.\"]\n",
      "content score: 0.181969697\n",
      "summary: hennes & mauritz ab provided some much-needed good news for europe's struggling clothing retail market.\n",
      "summary score: 0.7\n",
      "manual_label: 1\n",
      "prediction: 1.0\n",
      "\n",
      "\n",
      "italy\n",
      "[\" milan, italy -- men are in danger of falling off the catwalk in europe.menswear shows, traditionally held months before the women hit the runways later in the year, are being slowly airbrushed from the fashion industry's calendar and folded into the women's events, almost as an accessory.\"]\n",
      "content score: -0.1\n",
      "summary: menswear shows, traditionally held months before the women hit the runways later in the year, are being slowly airbrushed from the fashion industry's calendar and folded into the women's events.\n",
      "summary score: -0.1\n",
      "manual_label: -1\n",
      "prediction: -1.0\n",
      "\n",
      "\n",
      "coach\n",
      "[\" new york, united states -- michaelkors holdings ltd., katespade & co. and coach inc. all topped analysts' earnings estimates for the past quarter after the handbag retailers cut costs and reduced discounts to cope with sluggish sales.growth of the once-hot segment in north america has slowed to low single digits, kors chief executive officer john idol said wednesday on an earnings conference call.\", '\"there\\'s been this myth that no one is buying handbags anymore, but really it\\'s a change in trend away from the big totes everyone was buying a few years ago to smaller bags that don\\'t cost as much,\" said dorothy lakner, a new york-based analyst at topeka capital markets.going small traffic and sales at north american department stores are sluggish, leading to higher levels of leftover katespade, coach and michaelkors products that will need to be discounted to make way for newer goods.and while international expansion has boosted sales, a strong u.s. dollar has hurt tourism sales domestically and taken a bite out of profits earned abroad.still, the london-based company forecast third-quarter revenue of $1.33 billion to $1.35 billion, falling short of the $1.4 billion analysts projected.results were similar at coach, which said last week that profit excluding some items last quarter was 41 cents a share, exceeding analysts\\' estimates by a penny.the new york-based retailer posted sales of $1.03 billion, missing analysts\\' projections of $1.04 billion.', '\"michaelkors is really pulling back on inventory in the department store channel.similarly, coach is reducing the number of discount events.', '\"watches, eyewear while all three companies say they\\'re pulling back on discounts, they\\'re also looking to other categories to drive growth.coach agreed to buy designer shoe brand stuartweitzman in january for $574 million to diversify its selection.it also hosted its first women\\'s runway fashion show this fall.']\n",
      "content score: 0.032538295\n",
      "summary: michaelkors holdings ltd., katespade & co. and coach inc. all topped analysts' earnings estimates for the past quarter after the retailers cut costs and reduced discounts.\n",
      "summary score: -0.25\n",
      "manual_label: 1\n",
      "prediction: -1.0\n",
      "\n",
      "\n",
      "france\n",
      "[\" paris, france -- hermes international sca said it's talking to jane birkin to allay her concerns about crocodile slaughter practices after the actress demanded the leather-goods maker stop using her name on its bestselling bag.like birkin, the french company was also shocked by an animal-rights group's publication of a video showing reptiles still moving after being shot by a bolt gun at a farm in texas, hermes chief executive officer axel dumas said friday.\"]\n",
      "content score: -0.233333333\n",
      "summary: hermes said it's talking to jane birkin to allay her concerns about crocodile slaughter practices after the actress demanded the leather-goods maker stop using her name on its bestselling bag.\n",
      "summary score: 0.0\n",
      "manual_label: 1\n",
      "prediction: -1.0\n",
      "\n",
      "\n",
      "germany\n",
      "[' herzogenaurach, germany -- adidas ag chief executive officer herbert hainer, who in may praised the \"strong reception\" the company\\'s new golf drivers were getting from pros and duffers alike, did an about-face thursday.the $425 r15 and $300 aeroburner drivers are, in fact, losing the battle to the competition, hainer said, in announcing that adidas will seek buyers for some or all of the company\\'s taylormade business.']\n",
      "content score: 0.284848485\n",
      "summary: adidas will seek buyers for some or all of the company's taylormade business. but it must determine what the money-losing asset is worth and who'd want it at a time when golf's popularity has ebbed.\n",
      "summary score: 0.3\n",
      "manual_label: -1\n",
      "prediction: -1.0\n",
      "\n",
      "\n",
      "rolex\n",
      "[' rolex appeal fades as recession blues hit singapore (reuters) as singapore enters a recession, the demand for luxury watches such as rolex is declining.accessories transform consumer fashion sense into billion dollar surge (marketwatch) in a tough market, some accessories categories are experiencing \"bullish\" growth.\"']\n",
      "content score: -0.194444444\n",
      "summary: none\n",
      "summary score: 0.0\n",
      "manual_label: -1\n",
      "prediction: 1.0\n",
      "\n",
      "\n",
      "italy\n",
      "[' rome, italy -- a boxy monument to italy\\'s fascist era is filling with workers for the first time in its 70-year history as fashion brand fendi opens its new headquarters at the restored \"square colosseum\".the travertine structure, formally known as the \"great house of italian civilisation\" or the \"great house of the civilisation of work\", was built by dictator benito mussolini for a planned world\\'s fair in 1942 that was canceled due to the outbreak of world war two.']\n",
      "content score: 0.365909091\n",
      "summary: a boxy monument to italy's fascist era is filling with workers for the first time in its 70-year history, as fendi opens its new headquarters at the restored \"square colosseum\".\n",
      "summary score: 0.193181818\n",
      "manual_label: 0\n",
      "prediction: 1.0\n",
      "\n",
      "\n",
      "maje\n",
      "[\"the french company behind fashion brands sandro, maje and claudiepierlot, which is controlled by china's shandong ruyi, is expected to list its shares this autumn.two different sources said bnp paribas was also picked to be among the syndicate.jp morgan and bnp paribas declined to comment.sandro, maje and claudiepierlot sell dresses priced at around eur200 (ps182) in france and operate in what is classified as the accessible luxury market.buoyant demand among the fast-growing middle classes, particularly in countries such as china, has boosted this segment.\"]\n",
      "content score: 0.005208333\n",
      "summary: the french company behind fashion brands sandro, maje and claudiepierlot, which is controlled by china's shandong ruyi, is expected to list in paris this autumn.\n",
      "summary score: -0.166666667\n",
      "manual_label: 1\n",
      "prediction: 1.0\n",
      "\n",
      "\n",
      "warsaw\n",
      "[' warsaw, poland -- having been pulverised like a staggering 80 percent of this city during world war ii, three crosses square was nothing but a pile of bricks when jan kulczyk was born, a few years after the nazis surrendered.in the headquarters the communists erected overlooking that famous square, the same officials who had confiscated his father\\'s companies in the wake of the soviet invasion were installed to rule the destitute country with an iron fist.it made poles indistinguishable from the youth of other european nations,\" says filip niedenthal, executive fashion editor of harper\\'s bazaar polska which bowed here last year through a partnership between hearst and marquard media polska.', '\"today, zara, hm and cos are making a killing in poland and warsaw\\'s many shopping malls -- like galeria mokotow, zlote tarasy, arkadia and klif -- always seem to be packed,\" he adds.and by most accounts, it\\'s a similar story around the rest of the country from the stary browar mall in poznan and manufaktura in lodz to the galeria baltycka in gdansk and the silesia city center in katowice.it\\'s a misconception to believe that, just because we\\'re neighbours, there are significant similarities.actually, poland is much more comparable with the czech republic or germany [than to eastern europe],\" says arkadiusz likus, a pioneering polish retailer who brought brands like maison martin margiela and ann demeulemeester to local shoppers ten years ago through the likus concept store he founded, which has outposts in three of the country\\'s most style-conscious cities: warsaw, krakow and wroclaw.but two years ago, after nurturing an eager client base for his multibrand space, the young chief executive decided that poland\\'s capital city was now finally ready for a much grander designer emporium and a more varied assortment.likus duly opened warsaw\\'s first luxury department store, vitkac, a stone\\'s throw from the independent fashion boutique thoroughfares of mokotowska and koszykowa streets, right around the corner from three crosses square.with that, the second wave of international brands began to arrive.no polish designer has that range; that access,\" he says.glamour \\'s jurgas agrees, citing others like risk, made in warsaw, nenukko and she/s a riot.', '\"they\\'re offering a mix of street, sport and elegance at a good price, good quality and as an attractive alternative to mass market brands,\" she says.']\n",
      "content score: 0.192346939\n",
      "summary: now a prosperous nation with an eye for quality and dressing bang on trend, poles are craving more individuality and opulence in their wardrobes.\n",
      "summary score: 0.5\n",
      "manual_label: 1\n",
      "prediction: 1.0\n",
      "\n",
      "\n",
      "ivankatrump\n",
      "[' jiangxi, china -- two chinese labour activists were reported missing, with a third detained by police, while they were investigating labour violations at a factory that manufactured ivankatrump shoes, according to a workers advocacy group.', 'hua haifeng, li zhao and su heng, working undercover under the direction of new york-based china labor watch at a factory operated by shoe manufacturer huajian group in the southeast province of jiangxi, have been unreachable by phone over the weekend, said li qiang, the founder of the advocacy group.', \"hua's wife was contacted by local police by phone tuesday afternoon and told that he's been detained for illegal eavesdropping, said the wife, deng guimian.\", \"huajian's facility is one of 15 factories that make products for the brand founded by the daughter of us president donald trump that china labor watch said it has been investigating in the past year.\", \"in a letter sent to ivankatrump in april, the group alleged a number of labour violations at two unnamed factories that supply the ivankatrump brand, including that employees were forced to work at least 12 1/2 hours a day for wages below china's legal minimum -- a monthly salary equivalent to about a dollar an hour.\", 'huajian representatives could not be immediately reached for comment at its factories in ganzhou and dongguan.', \"it's the first time in 17 years that activists working for the non-profit workers advocacy group have been detained by the chinese police, li said.\", 'hua was supposed to deliver evidence of violations including images and videos to li in hong kong last week but was barred from leaving the country without being given a reason, li said.', '\"i\\'ve been with my husband for 10 years and he has always been in this line.', 'there\\'s never been any problems before,\" hua\\'s wife deng, said by phone wednesday.', '\"he was working for justice and helping ordinary workers.', 'i felt that what he did was not harming anyone, he was helping people.\"', 'an ivankatrump representative declined to comment.', \"a white house spokesman didn't immediately respond to a request for comment.\", 'calls to the ganzhou public security bureau went unanswered on wednesday.', \"the factory also makes products for other brands including, coach and marc fisher footwear co., according to the chinese manufacturer's website.\", 'a marc fisher spokesman said the company is \"unaware of the allegations and will look into them immediately.\"', 'coach inc. officials could not be reached for comment after local business hours.', 'by stephanie wong, with assistance from rachel chang daniela wei keith zhai and lindsey rupp; editors: k. oanh ha, ken wills.']\n",
      "content score: -0.069938017\n",
      "summary: two chinese labour activists were reported missing, with a third detained by police, while they were investigating labour violations at a factory that manufactured ivankatrump shoes.\n",
      "summary score: -0.066666667\n",
      "manual_label: -1\n",
      "prediction: -1.0\n",
      "\n",
      "\n",
      "primark\n",
      "['\"what hurts hm is an assumption that they must be exploiting their workers because they produce cheap clothes,\" said joachim schoepfer, head of corporate reputation for the serviceplan agency, which conducts an annual survey on companies\\' image in germany.low-cost production in places like bangladesh and china has helped hm build a global empire with more than 3,000 stores in 53 countries, and it faces growing competition from even cheaper rivals such as britain\\'s primark and u.s. chain forever 21.', '\"there is a misconception that lower prices in the stores mean bad working conditions or less pay,\" said helmersson, a 40-year-old swede who has worked at hm for 17 years.']\n",
      "content score: -0.034895833\n",
      "summary: nan\n",
      "summary score: 0.0\n",
      "manual_label: 1\n",
      "prediction: -1.0\n",
      "\n",
      "\n",
      "mulberry\n",
      "[' london, united kingdom -- mulberry group plc, a british luxury-handbag maker, said full-year sales and profit will miss estimates because of weak business in the last 10 weeks.', 'pretax profit for the year ending march 31 will be about 26 million pounds ($39.5 million), the company said today in a statement.', 'that compares with the 30.7 million-pound average estimate of three analysts compiled by bloomberg.', 'revenue will be about 165 million pounds, mulberry said, compared with the 176 million-pound average estimate.', '\"trading across the retail portfolio during the last 10 weeks has been disappointing, including a reduction in tourist spending in the london stores,\" mulberry said.']\n",
      "content score: -0.182142857\n",
      "summary: nan\n",
      "summary score: 0.0\n",
      "manual_label: -1\n",
      "prediction: -1.0\n",
      "\n",
      "\n",
      "france\n",
      "[\" paris, france -- lvmh moet hennessy louisvuitton se rose in paris trading after the world's largest luxury-goods maker reported its strongest earnings increase in three years.first-half profit from recurring operations rose 15 percent to 2.96 billion euros ($3.3 billion) as sales of fashion and leather goods accelerated and the drinks unit returned to growth, the paris-based company said late tuesday.\"]\n",
      "content score: 0.3\n",
      "summary: lvmh moet hennessy louisvuitton se rose in paris trading after the world's largest luxury-goods maker reported its strongest earnings increase in three years.\n",
      "summary score: 0.6\n",
      "manual_label: 1\n",
      "prediction: 1.0\n",
      "\n",
      "\n",
      "hermes\n",
      "[' le plan tres secret de lvmh pour entrer chez hermes (le monde) \"we did not expect to become hermes shareholders.we made a financial investment which turned out in a way we did not expect,\" announced bernard arnault , chairman and ceo of lvmh, before the group\\'s board on april 18th.but according to a piece published yesterday in the french daily le monde , the reality may have been quite different.for nearly ten years, the world\\'s leading luxury group patiently and secretly pursued a plan to control hermes, according to a 115-page report compiled by the amf, a french market authority, says le monde journalist nicole vulser, who obtained a copy of the report.according to the document, which \"can sometimes read like a thriller,\" the plan began in 2001 and involved scenario planning for an \"hermes takeover\" conducted under the codename \"mercure.', '\"lvmh, in a statement, \"vigorously contests the findings of the report\" and are preparing to fight the allegations.']\n",
      "content score: -0.114285714\n",
      "summary: bof distills recent fashion stories from the french media.\n",
      "summary score: 0.0\n",
      "manual_label: 1\n",
      "prediction: 1.0\n",
      "\n",
      "\n",
      "christopherkane\n",
      "[\"chief administrative officer jill bright, who led talent recruiting from 1996 to 2010 before being promoted to the c-suite, is also departing after 23 years.christopherkane names ceo nikolas talonpoika has been appointed chief executive officer of christopherkane, effective october 12. talonpoika, who was previously strategic marketing and media director of kering , succeeds sarah crook.at christopherkane, talonpoika will report directly to jean-jean-francois palus, kering's group managing director.david lauren promoted at ralphlauren david lauren, the son of ralphlauren, has been promoted to chief innovation officer and vice chairman of the company founded by his father.\"]\n",
      "content score: 0.386666667\n",
      "summary: this week, peter dundas left his role as creative director of roberto cavalli, and conde nast has hired jim norton as chief business officer and president of revenue.\n",
      "summary score: 0.25\n",
      "manual_label: 0\n",
      "prediction: 1.0\n",
      "\n",
      "\n",
      "vetements\n",
      "['whereas, just two years ago, only the rare black model was spotted in a runway lineup, today, multiple models of colour are casted at most shows and are the subject of high profile editorials and campaigns.one defiant voice amidst the \\'multi-culti\\' progress is the influential paris-based designer demna gvasalia and his design collective at vetements and balenciaga, which both showed their recent autumn/winter collections on white models only.how does one of fashion\\'s brightest stars helming two closely tracked brands feel comfortable casting only white models in this racially charged age?for someone whose excellent design work has been dubbed \"revolutionary\" in fashion circles, the all-white casting gvasalia champions is, unfortunately, out of touch with today\\'s global reality.vetements\\' americana-themed collection of reworked street wear, leather city coats and knee high boots worn exclusively by wan, eastern-bloc looking models does not reflect the racial diversity seen on new york city streets, or even in middle america or on the west coast where plenty of clued in hipsters of colour already wear or want to buy from the brand, as they do from london to lagos, to los feliz.on this topic, vetements and balenciaga need to be called out and corrected.we can\\'t excuse gvasalia and his cronies for their early years spent in unified stalinist and leninist georgia.gvasalia and race is an uncomfortable subject in so many ways.it\\'s uncomfortable that vetements and balenciaga\\'s stylist-du-jour and casting director lotta volkova does not feature people of colour on her popular instagram page.it\\'s uncomfortable that kanye west is a key champion of gvasalia, though west is a vocal voice on racial inequality.']\n",
      "content score: 0.034702194\n",
      "summary: for someone whose design work has been dubbed 'revolutionary' in fashion circles, demna gvasalia's all-white casting is shockingly out of touch with today's global reality, argues jason campbell.\n",
      "summary score: -0.5\n",
      "manual_label: -1\n",
      "prediction: 1.0\n",
      "\n",
      "\n",
      "rugby\n",
      "[\"will fashion's biggest names kiss the runway goodbye?\", '(time) \"on dec. 11, rugby, ralphlauren \\'s collegiate brand, will show its holiday collection in an online fashion show... instead of the company\\'s spending $1.5 million on an audience of approximately 700 members of the fashion press and department-store buyers, the virtual show will cost less than $50,000 to produce and is expected to attract more than 40 million page views.', '\"inditex\\'s push into asia offsets domestic slump (ft) \"inditex, the spanish clothes retailer, yesterday unveiled a slight drop in profits for the nine months to the end of october, as aggressive expansion into asia helped offset weakness in the domestic market.\"']\n",
      "content score: -0.041666667\n",
      "summary: none\n",
      "summary score: 0.0\n",
      "manual_label: 1\n",
      "prediction: 1.0\n",
      "\n",
      "\n",
      "germany\n",
      "[\" metzingen, germany -- german clothier hugoboss ag reassured investors by announcing growth in fourth-quarter sales and profit, sending the shares higher.revenue rose 10 percent and operating profit 2 percent, the metzingen-based company said friday in a statement, easing concern over the impact on business of november's paris terror attacks and unseasonably mild weather.\"]\n",
      "content score: 0.311111111\n",
      "summary: hugoboss ag reassured investors by announcing growth in fourth-quarter sales and profit, sending the shares higher.\n",
      "summary score: 0.25\n",
      "manual_label: 1\n",
      "prediction: 1.0\n",
      "\n",
      "\n",
      "adidas\n",
      "[' berlin, germay -- the long-serving chief executive of adidas has no intention of stepping down despite criticism as the german sportswear company loses ground to u.s. rival nike, he told a german newspaper.', '\"if i no longer had the ambition and the energy, and the firm belief that i can bring the company further forward, then i would stop immediately,\" herbert hainer was quoted as saying by the sueddeutsche zeitung daily.hainer said the world\\'s second-biggest sportswear group was fighting back, launching the biggest marketing campaign in the company\\'s history in february with a particular focus on the key u.s. market, even if \"there are no overnight solutions there\".adidas last week reported a better-than-expected rise in 2014 sales as it announced the sale of its rockport shoe brand.helped by the 2014 soccer world cup and the victory of the german team adidas sponsors, hainer said soccer sales had reached a record 2.1 billion euros ($2.4 billion), ahead of his 2 billion target.by: emma thomasson; editor: david clarke.']\n",
      "content score: -0.044444444\n",
      "summary: the long-serving chief executive of adidas has no intention of stepping down despite criticism as the german sportswear company loses ground to u.s. rival nike, he told a german newspaper.\n",
      "summary score: -0.113888889\n",
      "manual_label: -1\n",
      "prediction: -1.0\n",
      "\n",
      "\n",
      "germany\n",
      "[\" herzogenaurach, germany -- puma se, europe's second-largest sporting-goods maker, reported a decline in first-quarter profit, underscoring the scale of the challenge facing chief executive officer bjoern gulden to achieve a turnaround.earnings before interest and tax fell to 59 million euros ($80.9 million), herzogenaurach, germany-based puma said today in a statement.analysts predicted 58.8 million euros, according to the average of eight estimates compiled by bloomberg.\"]\n",
      "content score: -0.15\n",
      "summary: nan\n",
      "summary score: 0.0\n",
      "manual_label: -1\n",
      "prediction: -1.0\n",
      "\n",
      "\n",
      "jacquemus\n",
      "[\"the finalists are: arthur arbesser, coperni, craig green , faustine steinmetz, jacquemus, marques' almeida, off-white c/o virgil abloh and vetements.the selection was made by a panel of forty-five international fashion experts, including renowned fashion critic cathy horyn , vogue china editor angelica cheung and linda fargo , senior vice president of bergdorf goodman , who met the 26 shortlisted designers in paris earlier this month.of the eight finalists, two are menswear brands: craig green and virgil abloh.meanwhile, french label jacquemus, designed by simon porte jacquemus , is back for a second time, having been selected as a finalist in 2014. three of the designers are based in paris.craig green, faustine steinmetz; and marques' almeida are based in london.\"]\n",
      "content score: -0.075\n",
      "summary: see the final eight designers shortlisted for the second annual lvmh prize, the winner of which will receive eur300,000 and a year-long mentorship.\n",
      "summary score: 0.0\n",
      "manual_label: 1\n",
      "prediction: 1.0\n",
      "\n",
      "\n",
      "careers\n",
      "[\"today's mantra comes from designer christopherkane (read the full interview here ): making mistakes is the best way to learn.this week, we are pleased to introduce three new partners to bof careers: founded in france in 1963 by francois pinault, kering has grown into one of the world's leading luxury goods holding companies, with a powerful ensemble of 21 luxury and sport & lifestyle brands, distributed in over 120 countries.its impressive portfolio includes the iconic fashion houses balenciaga, gucci and saintlaurent paris, as well as global sportswear giant puma.\"]\n",
      "content score: 0.420707071\n",
      "summary:  check out this week's new partners and openings on bof careers, the global marketplace for fashion talent. \n",
      "summary score: 0.068181818\n",
      "manual_label: 1\n",
      "prediction: 1.0\n",
      "\n",
      "\n",
      "katespade\n",
      "[\" new york, united states -- michaelkors holdings ltd., katespade & co. and coach inc. all topped analysts' earnings estimates for the past quarter after the handbag retailers cut costs and reduced discounts to cope with sluggish sales.growth of the once-hot segment in north america has slowed to low single digits, kors chief executive officer john idol said wednesday on an earnings conference call.\", '\"there\\'s been this myth that no one is buying handbags anymore, but really it\\'s a change in trend away from the big totes everyone was buying a few years ago to smaller bags that don\\'t cost as much,\" said dorothy lakner, a new york-based analyst at topeka capital markets.going small traffic and sales at north american department stores are sluggish, leading to higher levels of leftover katespade, coach and michaelkors products that will need to be discounted to make way for newer goods.and while international expansion has boosted sales, a strong u.s. dollar has hurt tourism sales domestically and taken a bite out of profits earned abroad.even after a restructuring, katespade\\'s handbag sales still make up about 70 percent of its revenue, according to data compiled by bloomberg.since 2013, the new york-based company has sold the lucky and juicy couture brands and streamlined its corporate operations.the move to streamline expenses may be paying off.while katespade\\'s $275 million in net sales in the third quarter fell short of the $281.2 million analysts expected, the company recorded profit excluding some items of 6 cents a share, topping the 4 cents analysts forecast.', \"'more scarce' michaelkors posted profit in the second quarter through sept. 26 of $1.01 a share.it also hosted its first women's runway fashion show this fall.katespade introduced a home goods line last month, while michaelkors is expanding its licensing agreements into watches, accessories and eyewear.the handbag makers may look to a fellow retailer for how restructuring and cost-cutting can boost performance.\"]\n",
      "content score: 0.065551116\n",
      "summary: michaelkors holdings ltd., katespade & co. and coach inc. all topped analysts' earnings estimates for the past quarter after the retailers cut costs and reduced discounts.\n",
      "summary score: -0.25\n",
      "manual_label: -1\n",
      "prediction: 1.0\n",
      "\n",
      "\n",
      "intel\n",
      "[' \" intel and the luxottica group\\'s new partnership: hope for the wearables market, or more empty promises?', '\"(pando daily) \"can anyone make wearable devices that don\\'t look like cheap props from a sci-fi film?intel hopes to find out through a new partnership with the luxottica group, an eyewear company responsible for several famous brands like ray-ban and armani.\"\"', 'cyber monday online sales rose 17% to $2 billion, comscore says \" (bloomberg) \"holiday shopping on the web rose 17 percent to a record $2.04 billion on cyber monday, researcher comscore inc. said, as consumers took advantage of online deals.\"']\n",
      "content score: 0.270247934\n",
      "summary: bits & bytes is a weekly roundup of the most important news in the fast evolving fashion-tech space.\n",
      "summary score: 0.366666667\n",
      "manual_label: 1\n",
      "prediction: 1.0\n",
      "\n",
      "\n",
      "zalando\n",
      "[\" berlin, germany -- europe's biggest online fashion retailer, zalando , facing a growing threat from rival amazon moving into its territory, is teaming up with adidas to offer same-day, free deliveries from one of its sports stores.berlin-based zalando, which sells 1,500 fashion brands from warehouse stock, says the project will improve the speed of delivery and product availability and hopefully boost profits, just as amazon is investing in its clothing labels and ever more convenient delivery options.\", '\"generation y wants to have it on demand.they are investing a lot... we can wait and see or we can act on it.', '\"zalando\\'s pilot scheme with adidas in berlin will make it the first major dedicated online retailer to tap into the inventory held in brands\\' own shops.supermarkets have found it difficult to turn a profit by filling online orders from store shelves without charging extra for that convenience, although delivering food is far more costly than clothes, especially if chilled or frozen.zalando says the new service will initially be free.it didn\\'t disclose the cost of the pilot but has said it plans to invest eur200 million ($228 million) this year on technology and logistics.', '\"the bigger the network gets, the more interesting it gets from an economic point of view.', '\"british start-up farfetch is delivering high-end fashion from luxury brands and independent stores globally, but zalando\\'s same-day free delivery is going a step further.zalando said, for example, soccer fans ordering a jersey before 3pm, for germany\\'s european championship match against poland next thursday, could have it delivered from the adidas store in time for kick-off at 9pm.bigger network, better economics?zalando hopes to extend the trial to other stores in future.', '\"benefits are better inventory, visibility and management across channel, which should in theory lower working capital needs for the whole system and increase full price selling,\" said bernstein analyst jamie merriman.zalando says it is not unduly worried about amazon as it has more expertise in fashion, but has nevertheless been investing in its technology, which has dented its profits and shares.germany is amazon\\'s second-biggest market outside the united states.the benefits for adidas of the partnership with zalando, ohlmeyer said, are that it will be able to deal better with peaks in demand.he said some of the firm\\'s own sites are currently overloaded, with popular items out of stock.', '\"sharing or digitising the inventory would make us all more efficient and able to read real consumer demand better, and buy better in future, and have less clearance.', '\"a major challenge for zalando is that many brands lack real-time data about stock available in their stores and warehouses, one of the reasons it is partnering with adidas, which says it has 97-98 percent inventory accuracy in its stores in europe.zalando last month announced the acquisition of tradebyte software gmbh to help it digitalise stock in brands\\' warehouses.by emma thomasson; editor: elaine hardcastle.']\n",
      "content score: 0.224368687\n",
      "summary: europe's biggest online fashion retailer, zalando, facing a growing threat from rival amazon moving into its territory, is teaming up with adidas to offer same-day, free deliveries from one of its sports stores.\n",
      "summary score: 0.4\n",
      "manual_label: 1\n",
      "prediction: 1.0\n",
      "\n",
      "\n",
      "retail\n",
      "['nike has 26,000 employees in the united states and more than 1 million workers in 700 contract factories worldwide that manufacture its shoes.its top-end soccer and baseball shoes retail for more than $300.', '\"we believe agreements that encourage free and fair trade allow nike to do what we do best: innovate, expand our businesses and drive economic growth,\" said nike chief executive officer mark parker in a media release distributed by the white house.']\n",
      "content score: 0.471428571\n",
      "summary: nike inc put its weight behind president barack obama's push for a trade deal with asian countries on friday with a promise to create up to 10,000 us-based manufacturing jobs if the pact is approved.\n",
      "summary score: -0.2\n",
      "manual_label: 1\n",
      "prediction: 1.0\n",
      "\n",
      "\n",
      "berlin\n",
      "[\" berlin, germany -- adidas ag appointed henkel ag & co.'s kasper rorsted as chief executive officer to succeed herbert hainer.rorsted, 53, will become an ordinary member of adidas's board on aug. 1 and take over as ceo two months later, the herzogenaurach, germany-based company said in a statement monday.\"]\n",
      "content score: -0.125\n",
      "summary: adidas ag appointed henkel ag & co.'s kasper rorsted as chief executive officer to succeed herbert hainer.\n",
      "summary score: 0.0\n",
      "manual_label: -1\n",
      "prediction: 1.0\n",
      "\n",
      "\n",
      "france\n",
      "[\" paris, france -- there will probably always be those who attribute cynicism to demna gvasalia 's appropriations, but what was consolidated in this collection was a persuasive passion for what he does.watch tim blanks speak with demna about his latest collection for balenciaga.\"]\n",
      "content score: 0.5\n",
      "summary: watch tim blanks speak with demna gvasalia about his autumn/winter 2017 collection for balenciaga. \n",
      "summary score: 0.0\n",
      "manual_label: 0\n",
      "prediction: 1.0\n",
      "\n",
      "\n",
      "calvinklein\n",
      "['new year, bad news ( just style ) the \"disastrous holiday sales will spark a domino effect of store closures and bankruptcy filings over the next couple of months.', '\"calvinklein, michaelkors confirmed for new york fashion week ( wsj ) not everyone is bowing out of fashion week as img confirms the shows of calvinklein and donnakaran .iconix\\'s new latin america joint venture ( wsj ) iconix, which owns candies and badgley mischka, will distribute its brands to latin america in a joint effort with new brands americas llc.']\n",
      "content score: -0.056818182\n",
      "summary: none\n",
      "summary score: 0.0\n",
      "manual_label: 1\n",
      "prediction: 1.0\n",
      "\n",
      "\n",
      "benetton\n",
      "['horror was widespread after the watershed of rana plaza, as consumers grasped the grim realities behind the \"made in bangladesh\" labels on their clothes.retailers who have admitted to using the rana plaza factory included benetton, bon marche, mango , matalan, primark and walmart, but hundreds more companies use low-cost bangladeshi factories, including upscale brands like armani, ralphlauren , michaelkors and hugoboss .sick of their warnings going unheeded, uni global union (which is comprised of 20 million members of 900 unions across 150 countries) and industriall (50 million members in 140 countries) capitalised on the outpouring of anger by serving retailers with an ultimatum.']\n",
      "content score: -0.32\n",
      "summary: in the wake of rana plaza, it's clear that voluntary self-inspection of garment factories by brands and retailers is not enough to avoid terrible human tragedy. workplace health and safety standards must be set and enforced by the workers themselves, argues tansy e hoskins.\n",
      "summary score: -0.225\n",
      "manual_label: -1\n",
      "prediction: -1.0\n",
      "\n",
      "\n",
      "cavalli\n",
      "[\"ittierre to sue cavalli ( wwd ) ittierre spa is suing roberto cavalli for his comments regarding their ability to turn the company's bankruptcy around.\", '( subscription required) chanel closing two japan stores (wwd) as the japanese economy sinks further into recession, chanel has announced it will be closing two of its stores there.']\n",
      "content score: -0.033333333\n",
      "summary: none\n",
      "summary score: 0.0\n",
      "manual_label: -1\n",
      "prediction: -1.0\n",
      "\n",
      "\n",
      "hugoboss\n",
      "[' metzingen, germany -- hugoboss said the head of its ailing us business will be replaced at the end of the month after less than two years in the job.gerrit ruetzel will leave to \"seek new opportunities,\" the metzingen, germany-based clothier said in a statement wednesday.he will be succeeded by anthony lucia, who rejoins the company he worked at for a decade until 2008. the departure of ruetzel after 15 years at the company comes as hugoboss struggles to turn around its us business.sales there fell 21 percent in the second quarter, marred by discounting.', '\"ruetzel is paying for the difficult situation of the brand in the us,\" said cedric rossi, an analyst at bryan garnier & co. depressed apparel sales in america are an industry-wide problem, he said.hugoboss shares were little changed at eur54.19 at 11:06 a.m. in frankfurt.they have declined 46 percent in the past year.']\n",
      "content score: -0.161300505\n",
      "summary: hugoboss said the head of its ailing us business, gerrit ruetzel, will be replaced at the end of the month after less than two years in the job.\n",
      "summary score: -0.166666667\n",
      "manual_label: -1\n",
      "prediction: -1.0\n",
      "\n",
      "\n",
      "madrid\n",
      "[' madrid, spain -- inditex sa, the owner of the zara and massimodutti chains, reported nine-month profit in line with analyst estimates as the retailer expanded online.net income rose 1 percent to 1.67 billion euros ($2.3 billion) in the nine months through october, the arteixo, spain- based company said in a statement today.']\n",
      "content score: 0.6\n",
      "summary: nan\n",
      "summary score: 0.0\n",
      "manual_label: 1\n",
      "prediction: 1.0\n",
      "\n",
      "\n",
      "hm\n",
      "['the company will open 350 new stores, higher than a previous forecast of 325, and will enter australia next year, he said.hm , the purveyor of 10-euro ($13) studded t-shirts, is trying to expand its customer base by adding shop formats after falling behind spanish competitor inditex sa.hm is introducing the more upscale \"& other stories\" brand to 10 european markets.inditex said march 13 profit increased at the slowest pace in five quarters, missing analysts\\' estimates as a weak spanish economy damped consumption in its home market.first-quarter sales rose 2 percent to 28.39 billion kronor, excluding value-added tax, hm said march 15. revenue at stores open at least a year declined 3 percent during the period.editors: celeste perri, marthe fourcade']\n",
      "content score: -0.051782531\n",
      "summary: nan\n",
      "summary score: 0.0\n",
      "manual_label: 1\n",
      "prediction: 1.0\n",
      "\n",
      "\n",
      "watches\n",
      "[\"overall this year swiss watch exports, which are seen as a proxy for sales, have fallen by 9.5 percent.particularly badly hit have been china and hong kong, two of the world's largest markets for luxury watches which are made by companies like swatch, richemont and lvmh moet hennessy louisvuitton .europe has also been struggling, with reduced tourism numbers in the wake of islamist attacks last year reducing the number of visitors to important luxury shopping destinations like paris.exports to france fell 18.4 percent in may, according to figures from the federation of the swiss watch industry.in response, watchmakers have been cutting costs and production as the industry faces its biggest slowdown since 2009 when the global financial crisis reduced demand for luxury watches.last month, geneva-based richemont said it expected business to remain tough in the months ahead, as it reported a 1 percent fall in its constant sales for the 12 months ended march 31. the owner of cartier and iwc brands said april had been particularly difficult with sales down 15 percent in the month when currency swings were removed.difficulties in richemont's watches business were exacerbated by inventories at retailers, which forced the company to buy back unsold watches.no further job cuts were planned on top of the 500 cut last year, but more stores could close in china, richemont said last month.\"]\n",
      "content score: -0.070760234\n",
      "summary: switzerland's watch industry exports fell nearly 10 percent in may as watchmakers continued to struggle with the aftermath of last year's extremist attacks in europe and a prolonged slowdown in asia.\n",
      "summary score: 0.05\n",
      "manual_label: -1\n",
      "prediction: -1.0\n",
      "\n",
      "\n",
      "adidas\n",
      "[' berlin, germany -- europe\\'s biggest online fashion retailer, zalando , facing a growing threat from rival amazon moving into its territory, is teaming up with adidas to offer same-day, free deliveries from one of its sports stores.berlin-based zalando, which sells 1,500 fashion brands from warehouse stock, says the project will improve the speed of delivery and product availability and hopefully boost profits, just as amazon is investing in its clothing labels and ever more convenient delivery options.they don\\'t want to wait.they don\\'t want to go to the store,\" harm ohlmeyer, head of digital commerce at adidas, told reuters in an interview.', '\"we shouldn\\'t forget about amazon.they are investing a lot... we can wait and see or we can act on it.', '\"zalando\\'s pilot scheme with adidas in berlin will make it the first major dedicated online retailer to tap into the inventory held in brands\\' own shops.supermarkets have found it difficult to turn a profit by filling online orders from store shelves without charging extra for that convenience, although delivering food is far more costly than clothes, especially if chilled or frozen.british start-up farfetch is delivering high-end fashion from luxury brands and independent stores globally, but zalando\\'s same-day free delivery is going a step further.zalando said, for example, soccer fans ordering a jersey before 3pm, for germany\\'s european championship match against poland next thursday, could have it delivered from the adidas store in time for kick-off at 9pm.bigger network, better economics?germany is amazon\\'s second-biggest market outside the united states.the benefits for adidas of the partnership with zalando, ohlmeyer said, are that it will be able to deal better with peaks in demand.he said some of the firm\\'s own sites are currently overloaded, with popular items out of stock.', '\"sharing or digitising the inventory would make us all more efficient and able to read real consumer demand better, and buy better in future, and have less clearance.', '\"a major challenge for zalando is that many brands lack real-time data about stock available in their stores and warehouses, one of the reasons it is partnering with adidas, which says it has 97-98 percent inventory accuracy in its stores in europe.zalando last month announced the acquisition of tradebyte software gmbh to help it digitalise stock in brands\\' warehouses.']\n",
      "content score: 0.223095238\n",
      "summary: europe's biggest online fashion retailer, zalando, facing a growing threat from rival amazon moving into its territory, is teaming up with adidas to offer same-day, free deliveries from one of its sports stores.\n",
      "summary score: 0.4\n",
      "manual_label: 1\n",
      "prediction: 1.0\n",
      "\n",
      "\n",
      "lvmh\n",
      "[' \" animal rights activist peta buys stake in louisvuitton \" (bbc) \"animal rights pressure group peta has bought shares in louisvuitton moet hennessey (lvmh) in order to pressure it to stop selling bags and other products made from exotic animal skins.\"\"', 'patagonia\\'s circular economy strategy \" ( the business of fashion ) \"patagonia ceo rose marcario explains the company\\'s environmentally-responsible business model as it wins an award at the world economic forum in davos.\"']\n",
      "content score: 0.295\n",
      "summary: this week, peta bought shares in lvmh so it could pressure the luxury conglomerate not to use exotic animal skins, and patagonia received an award in davos for its circular economy strategy.\n",
      "summary score: 0.5\n",
      "manual_label: 1\n",
      "prediction: 1.0\n",
      "\n",
      "\n",
      "london\n",
      "[\" london, united kingdom -- fashion has hit refresh and cast a number of new faces in many of its most impactful advertising campaigns for autumn/winter 2015. this time last year, edie campbell appeared in three of bof's top five campaigns.this season, it was a proliferation of under-the-radar models that fronted some of best campaigns.\"]\n",
      "content score: 0.439393939\n",
      "summary:  the top campaigns of the autumn/winter 2015 season featured under-the-radar models, rather than high-wattage celebrities and supermodels. \n",
      "summary score: 0.5\n",
      "manual_label: 1\n",
      "prediction: 1.0\n",
      "\n",
      "\n",
      "erdem\n",
      "['so, what lessons can be learned from designers who have successfully launched their own labels?christopherkane , phillip lim , alexander wang , erdem moralioglu, nicholaskirkwood , peter pilotto and thakoon panichgul share their top piece of advice to a designer starting his or her own business.christopherkane | source: courtesy be true to yourself -- christopherkane \"don\\'t be something that you\\'re not.you figure out the journey, but you have to know what you want.', '\"erdem moralioglu | source: courtesy be patient -- erdem moralioglu \"i think an important lesson is patience and understanding that growing at a slower pace is good -- not to get too big too quickly.i think patience is important because you can control things.']\n",
      "content score: 0.43\n",
      "summary: young designers, from alexander wang to christopherkane, share the most important lesson that they learned from launching a fashion business.\n",
      "summary score: 0.333333333\n",
      "manual_label: 1\n",
      "prediction: 1.0\n",
      "\n",
      "\n",
      "michaelkors\n",
      "['having clamped down on discounting and reduced its exposure to department stores, coach benefited from a 22 percent jump in quarterly profits.not so for estee lauder and michaelkors who both reported a decline in sales through this channel; in the case of kors deliberately cutting back on sales to department stores in order to protect its brand equity.ecommerce has taken a stronghold in the us, with internet sales growing by double digits over the black friday/thanksgiving/cyber monday weekend vs the same period in 2015. estee lauder continued its acquisition spree, signing the biggest deal in its 70-year history with the $1.5 billion purchase of millennial favourite too faced cosmetics.']\n",
      "content score: -0.153703704\n",
      "summary: the sli continued its ascent this month on the back of some good corporate results and a rebound in china.\n",
      "summary score: 0.233333333\n",
      "manual_label: -1\n",
      "prediction: -1.0\n",
      "\n",
      "\n",
      "sweden\n",
      "[\" stockholm, sweden -- hennes & mauritz ab shares fell after the clothing retailer said sales in april were hurt by unseasonably cool weather in many parts of europe.the stock dropped 1.9 percent to 260 kroner at 9:03 a.m. in stockholm, extending this year's decline to 14 percent.\"]\n",
      "content score: 0.425\n",
      "summary: hennes & mauritz ab shares fell after the clothing retailer said sales in april were hurt by unseasonably cool weather in many parts of europe.\n",
      "summary score: 0.425\n",
      "manual_label: -1\n",
      "prediction: -1.0\n",
      "\n",
      "\n",
      "italy\n",
      "[' milan, italy -- prada spa said it signed a licensing deal for coty inc. to create and distribute perfumes under the miumiu brand, expanding its second-largest unit in the $60 billion luxury beauty industry.the miumiu fragrance line is expected to be introduced in 2015, the milan-based company said today in a statement.']\n",
      "content score: -0.1\n",
      "summary: nan\n",
      "summary score: 0.0\n",
      "manual_label: -1\n",
      "prediction: 1.0\n",
      "\n",
      "\n",
      "london\n",
      "[\" london, united kingdom -- belting a song into a microphone; taking a mug shot after a bank robbery; flying high over the city like a superhero, cape billowing in the wind.these are just some of the things a bull terrier named jimmychoo gets up to in the course of a typical day, as rendered by the dog's owner, brazilian artist rafael mantesso, who made his beloved pup the subject of his work following a divorce that left him with an empty, furniture-less house -- and jimmychoo.\"]\n",
      "content score: 0.060952381\n",
      "summary: in a fashion industry that can be 'oh so serious,' a crop of brands, from jimmychoo to anya hindmarch, have taken another approach, integrating play, humour and wit into their products.\n",
      "summary score: -0.333333333\n",
      "manual_label: 1\n",
      "prediction: 1.0\n",
      "\n",
      "\n",
      "tommyhilfiger\n",
      "['the average estimate of nine analysts surveyed by zacks investment research was for earnings of $1.21 per share.the owner of the calvinklein and tommyhilfiger brands posted revenue of $2.11 billion in the period, also exceeding street forecasts.four analysts surveyed by zacks expected $2.09 billion.']\n",
      "content score: -0.125\n",
      "summary: the owner of the calvinklein and tommyhilfiger brands posted revenue of $2.11 billion in the period, exceeding wall street forecasts.\n",
      "summary score: 0.0\n",
      "manual_label: 1\n",
      "prediction: -1.0\n",
      "\n",
      "\n",
      "herzogenaurach\n",
      "[' herzogenaurach, germany -- adidas ag forecast record soccer sales this year as business is boosted by the monthlong european championship being played in france.the sportswear maker predicts it will sell eur2.5 billion ($2.8 billion) of soccer shoes, shirts, balls and other equipment, it said wednesday.']\n",
      "content score: -0.0625\n",
      "summary: adidas ag forecast record soccer sales this year as business is boosted by the monthlong european championship being played in france.\n",
      "summary score: 0.0\n",
      "manual_label: 1\n",
      "prediction: 1.0\n",
      "\n",
      "\n",
      "spain\n",
      "[\" madrid, spain -- inditex sa, the world's largest clothing retailer, reported a 20 percent gain in nine-month profit boost as spanish consumption recovered after years of austerity.net income rose to 2.02 billion euros ($2.2 billion) in the period through october, arteixo, spain-based owner of the zara and stradivarius brands said thursday in a regulatory filing.that matched the average of estimates compiled by bloomberg.revenue gained 15 percent in the start of this quarter, excluding currency shifts.the company is benefiting from growing demand in spain, where the country's october clothing retail sales were the strongest in at least six years, according to barclays plc.inditex has opened about 400 stores on average over the past 5 years spread out among eight brands, and it has also been increasingly relying on e-commerce for growth, opening zara.com in hong kong, macau and taiwan.\"]\n",
      "content score: -0.041666667\n",
      "summary: inditex sa, the world's largest clothing retailer, reported a 20 percent gain in nine-month profit boost as spanish consumption recovered after years of austerity.\n",
      "summary score: 0.0\n",
      "manual_label: 1\n",
      "prediction: 1.0\n",
      "\n",
      "\n",
      "asos\n",
      "[\" stockholm, sweden -- cold weather in recession-weary europe left spring collections on the racks of the world's biggest clothing retailers, inditex and hm , while small british rival asos beat the seasons with soaring demand for its cost-conscious online offering.spain's inditex, which owns the zara chain, posted its weakest quarterly growth in net profit in four years, and an unusually cold spring and early summer did little for sales of sleeveless minidresses and denim skater skirts going into the second quarter.shares in hm were down 0.5 percent.asos stock, however, leapt 3.5 percent after it posted a 45 percent rise in its third-quarter sales, with robust growth in britain, tapping into demand from value-seeking 20-somethings for both branded and own-label products.the online retailer is expanding into russia and china and recently signed a deal with budget fashion chain primark to sell its cheap womenswear on its website.\", '\"its partnership with primark comes as a testament to asos\\'s unfailing ability to surprise and also reflects its considered response to the prevailingly budget-driven nature of consumer culture in britain,\" said anusha couttigane, analyst at retail consultant conlumino.according to starmine data, inditex shares trade at a multiple of just over 22 times forward price to earnings, compared with about 20 for hm and 14.6 for u.s. rival gap .a hefty multiple of 67 for asos suggests there is plenty more growth to come.additional reporting by neil maidment in london and tomas cobos in madrid; writing by sonya dowsett; editing by will waterman; copyright (2013) thomson reuters.']\n",
      "content score: -0.05287037\n",
      "summary: nan\n",
      "summary score: 0.0\n",
      "manual_label: 1\n",
      "prediction: 1.0\n",
      "\n",
      "\n",
      "balmain\n",
      "[\"simultaneously, however, it reminds us of the long-standing dialogue between fashion and the continent, which goes back as far as saintlaurent's animal prints in the 1960s, iman 's arrival on the catwalk in the 1980s and demi moore standing next to a giraffe on the cover of the april 2010 issue of us harper's bazaar.3.\", \"balmain -- starrin g claudia schiffer, cindy crawford and naomi campbell by steven klein balmain spring/summer 2016 campaign | source: courtesy creative director olivier rousteing has bolstered the ranks of his balmain army, recruiting three original supers who don't need a surname .dismissing the kardashian clan but none of the trademark gloss, claudia, cindy and naomi are captured in monochrome by steven klein with creative direction from pascal dangin .\"]\n",
      "content score: 0.245833333\n",
      "summary: this season, a cgi gaming goddess takes on the three original supers and the east african savanna vies with the berlin skyline for best backdrop. bof brings you the top 10 campaigns of the season.\n",
      "summary score: 0.46875\n",
      "manual_label: 1\n",
      "prediction: 1.0\n",
      "\n",
      "\n",
      "guess\n",
      "[' gucci accuses guess of massive design \\'knock off\\' scheme (bloomberg) \" gucci , a unit of paris-based, sued in 2009 claiming that los angeles-based guess was selling items in stores and online with logos that are \\'studied imitations of the gucci trademarks.', '\\'the trademarks include a green and red stripe design, a square g, the designer\\'s name in flowing script and a diamond pattern with repeating interlocking g\\'s, according to gucci\\'s court filings.\"']\n",
      "content score: -0.066666667\n",
      "summary: none\n",
      "summary score: 0.0\n",
      "manual_label: -1\n",
      "prediction: 1.0\n",
      "\n",
      "\n",
      "nicholaskirkwood\n",
      "[\"gianvito rossi flagship stores are dotted around the world in hong kong, milan, and paris, and he has also launched a collection of calf leather and canvas sneakers for men.nicholaskirkwood , london, uk photo: courtesy nicholaskirkwood british shoe designer nicholaskirkwood is arguably high fashion's darling of the moment, having won the bfc/vogue fashion fund award of ps200,000 in january, which swiftly prompted rumours of an impending lvmh acquisition, as reported by vogue and wwd.but before he started designing his sculptural shoes, all angular platforms, mixed textures and fantastical heels, kirkwood already had friends in the fashion world, having worked with milliner phillip treacy and lived briefly with the late editor isabella blow.the american market is an important one for the kirkwood brand.\", '\"our customers love [kirkwood\\'s] quirky detailing - it really sets him apart,\" said holli rogers, fashion director of net-a-porter, who notes that nicholaskirkwood is one of the online retailer\\'s best-selling footwear labels in the us.charlotte olympia, london, uk photo: jason jean the eldest of four children born to property tycoon guy dellal and brazilian model andrea, charlotte olympia dellal discovered her passion for shoes while attending the london college of fashion .']\n",
      "content score: 0.096\n",
      "summary: at the forefront of luxury footwear, six designers making beautiful, covetable shoes have gained traction with consumers, established accounts with fashion-forward stockists, and racked up a handful of industry awards.\n",
      "summary score: 0.85\n",
      "manual_label: 1\n",
      "prediction: 1.0\n",
      "\n",
      "\n",
      "adidas\n",
      "['cath kidston, which sells products from homeware to floral handbags, opened 33 stores over the year, increasing its total estate to 118.\"\"', 'adidas gains on nike in china by balancing performance with fashion \" (ad age) \"the company is gaining on nike\\'s top spot, reporting 6% revenue growth in greater china in the first quarter of 2013, following 15% growth there in 2012. analysts credit adidas fashion apparel like high-heeled sneakers coming from sub-brands such as originals, neo and y-3.a key part of its strategy is targeting women, an influential group that has been largely ignored by sports brands.there\\'s great potential in grabbing the \\'unoccupied mind space,\\' jens meyer, vp-marketing, sport performance for adidas china, said.', \"'there's no lululemon in china.'\"]\n",
      "content score: 0.226428571\n",
      "summary: the china edit is a weekly curation of the most important fashion business news and analysis from and about the world's largest luxury market.\n",
      "summary score: 0.45\n",
      "manual_label: 1\n",
      "prediction: 1.0\n",
      "\n",
      "\n",
      "france\n",
      "[' paris, france -- hermes international sca said profitability likely narrowed in 2014 amid currency fluctuations and that revenue growth may slow in the year ahead.the current operating margin was probably about 31 percent compared to the record 32.4 percent achieved in 2013, paris- based hermes said today in a statement.']\n",
      "content score: -0.075\n",
      "summary: hermes international sca said profitability likely narrowed in 2014 amid currency fluctuations and that revenue growth may slow in the year ahead.\n",
      "summary score: -0.1\n",
      "manual_label: -1\n",
      "prediction: -1.0\n",
      "\n",
      "\n",
      "michaelkors\n",
      "[\" new york, united states - michaelkors , whose namesake fashion house is best known for its urban-inspired women's clothing and accessories, has taken a more laid-back approach to its fall-winter collection with muted colors drawn from northern california's craggy coastline.the line shown last week at new york's fashion week featured voluminous textured jackets and skirts with accents of fur and embroidered details, flowing printed dresses with cinched waists and chunky knits along with tailored coats and baggy trousers.kors, 54, who serves as chief creative officer of michaelkors holdings ltd, spoke with reuters ahead of the show about why he doesn't think it's fair to pick a favorite design, spotting his designs on the street and why he likes to unwind in california.q: what do you not mind talking about before a fashion show?\"]\n",
      "content score: 0.434090909\n",
      "summary: nan\n",
      "summary score: 0.0\n",
      "manual_label: 0\n",
      "prediction: 1.0\n",
      "\n",
      "\n",
      "debenhams\n",
      "[\" london, united kingdom -- debenhams, britain's no.2 department store group, posted slower sales growth for its latest trading period as unhelpful weather and a tough consumer environment took their toll.analysts' consensus is a pretax profit of around 153 million pounds ($235 million).debenhams said sales at stores open over a year were flat in the 16 weeks to june 22 - a period which includes its fiscal third quarter.that outcome compares with a first half like-for-like sales rise of 3.1 percent and was below analyst forecasts of growth of about 2 percent.it highlighted market share gains in clothing, beauty and home and a 40 percent rise in online sales.in line with previous guidance debenhams said gross margin was expected to be flat for the full 2013-14 year.european fashion retailers have suffered so far this year as a squeeze on disposable incomes has been exacerbated by an unusually cold spring and early summer.john lewis's total sales were up 7.9 percent in the 20 weeks to june 15, while online fashion retailer asos recently reported a 45 percent jump in third quarter sales.debenhams had issued a profit warning in march, blaming snow in january for a drop in sales that it failed to recover fully in february despite additional promotions and discounts.shares in the firm closed wednesday at 88.5 pence, valuing the business at 1.1 billion pounds.\"]\n",
      "content score: -0.046296296\n",
      "summary: nan\n",
      "summary score: 0.0\n",
      "manual_label: 0\n",
      "prediction: -1.0\n",
      "\n",
      "\n",
      "snapette\n",
      "['combining sports, music and fashion raises buzz for sneaker companies (forbes) \"buzz scores--which measure recent consumer perception--have been rising among 18-49 year-olds since early august for sneaker giants adidas and nike, corresponding to the companies\\' recent advertising endeavors that combine together sports, music and fashion.', '\"snapette aims at women shoppers (all things digital) \" the majority of e-commerce sites share a single thing in common: they were built by dudes.that hasn\\'t escaped the founders of snapette, a social photo-sharing app built by women, explicitly for women... the app, which launched in apple\\'s app store a few weeks back, focuses on the experience of shopping and leaves out buying altogether -- for now.', '\"lulu kennedy: fashion\\'s fairy godmother (telegraph) \"kennedy is a fashion talent-spotter, founder of the venture fashion east, which plucks emerging designers out of obscurity and gives them the chance to showcase collections to the style cognoscenti during london fashion week... since 2000, star designers including ilincic, saunders, richard nicoll, henry holland of house of holland and the pringle designer alistair carr have all had their careers kick-started after being singled out by kennedy\\'s gimlet eye.\"']\n",
      "content score: -0.048677249\n",
      "summary: none\n",
      "summary score: 0.0\n",
      "manual_label: 1\n",
      "prediction: 1.0\n",
      "\n",
      "\n",
      "dsquared\n",
      "[' in italy, a british outpost (ny times) \"in other words, burberry, dsquared, cavalli and gucci are not names you will often read in the same sentence.yet a pronounced englishness ran through the collections from each of those houses, making milan feel temporarily like an extension of the tuscan region called chiantishire.\"']\n",
      "content score: -0.041666667\n",
      "summary: none\n",
      "summary score: 0.0\n",
      "manual_label: 0\n",
      "prediction: 0.0\n",
      "\n",
      "\n",
      "calvinklein\n",
      "['in new york, raf simons \\' calvinklein was the second most buzzed about show, followed by ralphlauren , michaelkors and marcjacobs .while absent from the new york \"buzz\" rankings, victoria beckham boasted the most engagement on instagram, with the most-liked photo posted by a designer and most-liked video posted by a designer over the entirety of fashion month (interestingly, both posts featured husband david beckham ).on the model front, 16-year-old kaia gerber -- daughter of supermodel cindy crawford -- was the most buzzed about over fashion month.she walked in 21 shows this season, including many of the aforementioned \"buzzy\" brands, including tom ford, calvinklein and chanel.the hadid sisters followed, with gigi also taking home the most-liked photo posted by a model over fashion month -- with images of her closing the bottegaveneta show -- and bella scoring the most-liked video posted by a model.']\n",
      "content score: 0.308080808\n"
     ]
    },
    {
     "name": "stdout",
     "output_type": "stream",
     "text": [
      "summary: new data from the video and photo sharing app unveils the most buzzed about brands and models over the autumn/winter 2018 season.\n",
      "summary score: 0.318181818\n",
      "manual_label: 1\n",
      "prediction: 1.0\n",
      "\n",
      "\n",
      "france\n",
      "[\" paris, france -- hennes & mauritz ab, europe's second-largest clothing retailer, is teaming up with parisian fashion label balmain in its latest designer collaboration, offering high fashion at cut-rate prices.a collection of apparel and accessories featuring items for men and women will go on sale in about 250 stores and online nov. 5, stockholm-based hm said in a statement monday.\"]\n",
      "content score: 0.33\n",
      "summary: hm, europe's second-largest clothing retailer, is teaming up with french fashion label balmain in its latest designer collaboration.\n",
      "summary score: 0.25\n",
      "manual_label: 1\n",
      "prediction: 1.0\n",
      "\n",
      "\n",
      "paris\n",
      "[\" paris, france -- kering sa said gucci chief executive officer patrizio di marco and creative director frida giannini plan to leave the fashion maker's biggest luxury brand.marco bizzarri , head of the parent company's luxury-couture and leather goods division, will take over running gucci on jan. 1, kering said today in a statement.giannini had led gucci's creative team since 2006. kering has been overhauling management of its luxury brands.in october, the paris-based company named new ceos at bottegaveneta, brioni and christopherkane .by andrew roberts.\"]\n",
      "content score: 0.378787879\n",
      "summary: kering sa said gucci chief executive officer patrizio di marco and creative director frida giannini plan to leave the fashion maker's biggest luxury brand.\n",
      "summary score: 0.5\n",
      "manual_label: -1\n",
      "prediction: 1.0\n",
      "\n",
      "\n",
      "swatch\n",
      "[\"in contrast, the listing of chinese jeweller chow tai fook in hong kong on 9 th december was received with lukewarm interest, which may be attributable to high valuation expectations.a swiss court ruled that swatch group can cut down deliveries of watch parts to third parties from next year.this will create supply issues for a number of watch brands and has already prompted luxury groups such as ppr and lvmh to snap up small watch component manufacturers.lvmh announced it had increased its stake in hermes from 21.4 percent to 22.3 percent, flying in the face of its shored-up defences.this caused the besieged group's share price, having temporarily eased, to resume its upward course, gaining nearly 15 percent in the three weeks since its recent low going up both hermes and swatch share prices gaining around 3 percent over the last four weeks as a result of the events mentioned above.going down ferragamo continues its downward slide, losing another 12 percent, and now a tad under the sector average, in contrast with its lofty ipo valuation.\"]\n",
      "content score: -0.034700855\n",
      "summary: none\n",
      "summary score: 0.0\n",
      "manual_label: -1\n",
      "prediction: -1.0\n",
      "\n",
      "\n",
      "gucci\n",
      "[\"and can sales of ready-to-wear really drive a business?at gucci , where creative director alessandro michele has brought a new bohemian sensibility to the company's once-blingy image, ready-to-wear is growing more rapidly than handbags.in part, this is due to the fact that a large percentage of the company's handbags offering has yet to reflect the aesthetic shift brought about by michele.\", '\"ready-to-wear is growing much faster than bags, because the vibe is different,\" ortelli says.indeed, in december 2015, gucci chief executive marco bizzarri told bof that, in the early part of 2016, only 50 to 60 percent of leather goods on the shop floor would reflect the brand\\'s new sensibility.', \"(the rest are holdovers from former creative director frida giannini 's tenure.)\"]\n",
      "content score: 0.181693307\n",
      "summary: as the market for handbags becomes more crowded and competitive, some luxury brands are taking a more balanced, diversified approach to product categories.\n",
      "summary score: 0.5\n",
      "manual_label: 1\n",
      "prediction: 1.0\n",
      "\n",
      "\n",
      "germany\n",
      "[' herzogenaurach, germany -- a group of investors are planning to bid about 1.7 billion euros ($2.2 billion) for adidas ag\\'s reebok unit, the wall street journal said, citing people familiar with the matter.jynwel capital, a hong kong-based private-equity investor, and funds affiliated with the government of abu dhabi plan to make an offer to adidas\\'s directors \"imminently,\" the report said.the depreciation of the ruble has also weighed on earnings, as russia and neighboring countries make up more than 13 percent of the company\\'s sales.the herzogenaurach, germany-based company bought reebok for $3.8 billion in 2006 to compete against nike in the u.s., which accounts for almost a quarter of its revenue.nike replaced reebok as the u.s. national football league\\'s apparel supplier in 2012, leading to a cut in its sales forecast.adidas has declined 41 percent in german trading this year amid falling north american revenue, making it the worst- performing stock in germany\\'s benchmark 30-stock dax index, which is down 7.4 percent.it\\'s unclear which abu dhabi fund would join jynwel in its reebok bid, the journal said.']\n",
      "content score: -0.046759259\n",
      "summary: a group of investors are planning to bid about 1.7 billion euros ($2.2 billion) for adidas ag's reebok unit.\n",
      "summary score: 0.0\n",
      "manual_label: 0\n",
      "prediction: -1.0\n",
      "\n",
      "\n",
      "germany\n",
      "[' metzingen, germany -- german clothier hugoboss ag\\'s shares plunged after saying its profit will decline by at least 10 percent this year due to weaker-than-expected sales in the u.s. and china.earnings before interest, taxes, depreciation and amortization and excluding special items will decline by a \"low double-digit\" percentage this year, the metzingen, germany-based company said in a statement.the company also won\\'t reach its goal of an adjusted operating margin of 25 percent.']\n",
      "content score: -0.013571429\n",
      "summary: hugoboss ag's shares plunged after saying its profit will decline by at least 10 percent this year due to weaker-than-expected sales in the us and china.\n",
      "summary score: -0.2125\n",
      "manual_label: -1\n",
      "prediction: -1.0\n",
      "\n",
      "\n",
      "herzogenaurach\n",
      "[\" herzogenaurach, germany -- puma se, europe's second-largest sporting-goods maker, reported a decline in first-quarter profit, underscoring the scale of the challenge facing chief executive officer bjoern gulden to achieve a turnaround.earnings before interest and tax fell to 59 million euros ($80.9 million), herzogenaurach, germany-based puma said today in a statement.analysts predicted 58.8 million euros, according to the average of eight estimates compiled by bloomberg.\"]\n",
      "content score: -0.15\n",
      "summary: nan\n",
      "summary score: 0.0\n",
      "manual_label: 1\n",
      "prediction: -1.0\n",
      "\n",
      "\n",
      "saintlaurent\n",
      "['\"but as fashion designers introduced the style in luxurious materials, they attracted a new customer.', '\"gucci , saintlaurent and christopherkane have all launched their own fashionable backpacks, rendered in calf hair or leather, and retailing for north of $2,000.this fall, raf simons debuted his fourth backpack collaboration with eastpak (more reasonably priced at around $300 apiece).']\n",
      "content score: 0.287272727\n",
      "summary: more than just the trendy bag of the moment, fashion backpacks are becoming a true wardrobe staple. bof reports.\n",
      "summary score: 0.475\n",
      "manual_label: 1\n",
      "prediction: 1.0\n",
      "\n",
      "\n",
      "paris\n",
      "[\" paris, france -- hennes & mauritz ab, europe's second-largest clothing retailer, is teaming up with parisian fashion label balmain in its latest designer collaboration, offering high fashion at cut-rate prices.a collection of apparel and accessories featuring items for men and women will go on sale in about 250 stores and online nov. 5, stockholm-based hm said in a statement monday.\"]\n",
      "content score: 0.33\n",
      "summary: hm, europe's second-largest clothing retailer, is teaming up with french fashion label balmain in its latest designer collaboration.\n",
      "summary score: 0.25\n",
      "manual_label: 1\n",
      "prediction: 1.0\n",
      "\n",
      "\n",
      "lvmh\n",
      "[' europe\\'s luxury rally founders as china, greece hurt lvmh (bloomberg) \"the biggest rally in three years for luxury-goods makers in europe is fizzling on concern slower economic growth in china and renewed euro-area political turmoil after greece\\'s inconclusive election will choke off demand.', '\"china\\'s ygm takes aquascutum off the shelf (reuters) \"ygm trading ltd has agreed to buy aquascutum, the failed luxury clothes maker that has dressed royalty and politicians, for 15 million pounds ($24 million) in the second chinese acquisition of a venerable british brand this month.\"']\n",
      "content score: -0.05\n",
      "summary: none\n",
      "summary score: 0.0\n",
      "manual_label: -1\n",
      "prediction: -1.0\n",
      "\n",
      "\n",
      "beyonce\n",
      "['peter dundas tells bof about his decision to launch a label, and how he came to announce the news by dressing a pregnant beyonce at the grammy awards on sunday night.', '\"when you\\'re working with an expectant mother, you need to have an open mind about what\\'s going to work, what\\'s going to look great,\" dundas said of the unique creative scope that came with designing beyonce\\'s grammys looks about a month ago.', '\"even in the last two weeks, she\\'s continued evolving.', '\"the opportunity to work with beyonce was a \"happy coincidence\" that came about after dundas ran into the singer\\'s stylist, marni senofonte, at voices in december.given that he would be working under his own name, there was \"a great opportunity to communicate that we\\'re launching the brand as well.', '\"i like the idea of being able to have that freedom,\" dundas says.dundas ultimately created four looks for beyonce, and it is likely that the kind of red carpet eveningwear worn by the singer will be a part of his brand identity.', '\"i\\'ve always had so much fun with it... it\\'s just natural to include that,\" he said.']\n",
      "content score: 0.356770833\n",
      "summary: in today's news bites, how peter dundas pulled off a coup launching his own brand with beyonce at the grammys, while diane von furstenberg hires a l'oreal veteran as her new co-chairman.\n",
      "summary score: 0.245454545\n",
      "manual_label: 1\n",
      "prediction: 1.0\n",
      "\n",
      "\n",
      "lvmh\n",
      "[\"very little positive newsflow came from the sector.in fact bain forecast 2015 to be the worst year for the luxury industry since 2008; swiss watch exports continued their downward trend in september (-7.9 percent); and burberry, boss and lvmh all said that the china slowdown had impacted their sales.nevertheless, lvmh's third quarter results were saved by strong performance from its cognac & spirits business, whilst richemont, on the other hand, benefitted from a one-off accounting gain of up to eur670 million from the yoox/net-a-porter merger.the only genuinely positive news came from kering , whose third quarter results hinted at a recovery for gucci .\", \"* richemont's share price benefitted from a one-off accounting gain from the yoox/net-a-porter merger, rising 12 percent on the month, despite pressure from yet another month of declining swiss watch exports.\", '* lvmh announced a strong performance in its cognac and spirits division in the third quarter, offsetting a poorer performance in fashion and leather goods.the stock gained more than 11 percent.']\n",
      "content score: 0.037705177\n",
      "summary: the savigny luxury index (\"sli\") recorded its best monthly performance this year, climbing almost 7 percent; close but not quite matching an impressive 8.6 percent rise in the msci world index (\"msci\").\n",
      "summary score: 1.0\n",
      "manual_label: 1\n",
      "prediction: -1.0\n",
      "\n",
      "\n",
      "italy\n",
      "[\"interestingly, milan delivered significantly more visual stimulation this time around.having suffered consistent criticism for the scarcity of new talent and creative innovation on its runways, italy's fashion capital put on its strongest fashion week in years, thanks, in no small part, to the winds of change at gucci ; strong collections from fendi, prada and tods; and a growing number of initiatives created to nurture the next generation of designers.while milan's pool of young fashion talent may not be as deep as london's or new york's, change is clearly afoot.\"]\n",
      "content score: 0.2129329\n",
      "summary: bof brings you our top 10 shows of the season.\n",
      "summary score: 0.5\n",
      "manual_label: 1\n",
      "prediction: 1.0\n",
      "\n",
      "\n",
      "kering\n",
      "[\" paris, france -- kering sa said gucci chief executive officer patrizio di marco and creative director frida giannini plan to leave the fashion maker's biggest luxury brand.marco bizzarri , head of the parent company's luxury-couture and leather goods division, will take over running gucci on jan. 1, kering said today in a statement.giannini will depart at the end of february after showing her fall-winter collection, and a successor will be named later.comparable revenue fell 1.9 percent in the third quarter, though the company has said it's confident of returning to positive trends in the near future.\", '\"i truly enjoyed working with patrizio,\" kering ceo francois-henri pinault said in the statement.di marco joined gucci in 2009 from sister brand bottegaveneta.he sought to move gucci up-market by reducing the use of the label\\'s famous double g logo, narrowing the product range and re-introducing classic styles in luxurious materials.giannini had led gucci\\'s creative team since 2006. kering has been overhauling management of its luxury brands.in october, the paris-based company named new ceos at bottegaveneta, brioni and christopherkane .']\n",
      "content score: 0.260858586\n",
      "summary: kering sa said gucci chief executive officer patrizio di marco and creative director frida giannini plan to leave the fashion maker's biggest luxury brand.\n",
      "summary score: 0.5\n",
      "manual_label: 1\n",
      "prediction: 1.0\n",
      "\n",
      "\n",
      "kering\n",
      "[\"gucci-owner kering sa's chief executive officer francois- henri pinault will need to give final approval for the appointment, said the people, who declined to be identified discussing company affairs.if michele gets the job, pinault would be entrusting a little-known designer with one of the biggest and most challenging jobs in fashion after gucci posted almost no growth for more than a year.giannini headed leather goods and women's ready-to-wear at gucci before taking the creative director role.kering promoted sarah burton to lead its alexandermcqueen label after mcqueen's death.kering announced the end to giannini's nine-year stint as creative director in december and hastened her planned departure after marco bizzarri became ceo this month.by andrew roberts.\"]\n",
      "content score: 0.416666667\n",
      "summary: gucci plans to name a new creative director as early as this week, with accessories designer alessandro michele leading a list of candidates for the job.\n",
      "summary score: 0.245454545\n",
      "manual_label: 1\n",
      "prediction: 1.0\n",
      "\n",
      "\n",
      "luxury\n",
      "[' hangzhou, china -- a group of luxury goods makers sued alibaba group holding ltd on friday, contending the chinese online shopping giant had knowingly made it possible for counterfeiters to sell their products throughout the world.the lawsuit was filed in manhattan federal court by gucci , yves saintlaurent and other brands owned by paris-based kering sa seeking damages and an injunction for alleged violations of trademark and racketeering laws.']\n",
      "content score: -0.045\n",
      "summary: a group of luxury goods makers sued alibaba group holding ltd, contending the chinese online shopping giant had knowingly made it possible for counterfeiters to sell their products throughout the world.\n",
      "summary score: 0.0\n",
      "manual_label: -1\n",
      "prediction: -1.0\n",
      "\n",
      "\n",
      "beaverton\n",
      "[\" beaverton, united states -- nike inc. awarded chief executive officer mark parker $47.6 million in compensation for fiscal 2016, almost triple the level of the previous year, after stock grants buoyed his pay.parker's salary remained $1.55 million in the period, which ended may 31, the beaverton, oregon-based company said in a regulatory filing.but his stock grants, which had been valued at $3.5 million, zoomed to $33.5 million -- lifted by awards meant to keep the executive at the company until 2020. the soaring compensation underscores the board's desire to keep the 60-year-old executive at the helm of the world's biggest sporting-goods maker.\"]\n",
      "content score: -0.166666667\n",
      "summary: nike awarded chief executive officer mark parker $47.6 million in compensation for fiscal 2016, almost triple the level of the previous year, after stock grants buoyed his pay.\n",
      "summary score: -0.166666667\n",
      "manual_label: 1\n",
      "prediction: -1.0\n",
      "\n",
      "\n",
      "fashion\n",
      "[' madrid, spain -- fast fashion is getting tougher.zara owner inditex sa said on wednesday that profitability shrank to an eight-year low.shares of both retailers sank.the reports illustrate the difficulties facing the fashion industry as consumers divert spending to leisure activities and buy more of their apparel from a rising number of online suppliers.the increased competition is putting pressure on prices, while higher production costs are also squeezing profitability.']\n",
      "content score: 0.316666667\n",
      "summary: retailers' recent results illustrate the difficulties facing the fashion industry as consumers divert spending to leisure activities and buy more of their apparel from a rising number of online suppliers.\n",
      "summary score: 0.25\n",
      "manual_label: -1\n",
      "prediction: -1.0\n",
      "\n",
      "\n",
      "sweden\n",
      "[\" stockholm, sweden -- hennes & mauritz ab's websites are experiencing disruption amid high demand from shoppers for its latest guest collection by designer alexander wang .\", '\"we have a lot of visitors on the site right now,\" stockholm-based hm said on its u.s. website.']\n",
      "content score: 0.315238095\n",
      "summary: hennes & mauritz ab's websites are experiencing disruption amid high demand from shoppers for its latest guest collection by designer alexander wang.\n",
      "summary score: 0.33\n",
      "manual_label: 1\n",
      "prediction: 1.0\n",
      "\n",
      "\n",
      "vetements\n",
      "[\"the finalists are: arthur arbesser, coperni, craig green , faustine steinmetz, jacquemus, marques' almeida, off-white c/o virgil abloh and vetements.the selection was made by a panel of forty-five international fashion experts, including renowned fashion critic cathy horyn , vogue china editor angelica cheung and linda fargo , senior vice president of bergdorf goodman , who met the 26 shortlisted designers in paris earlier this month.\"]\n",
      "content score: -0.066666667\n",
      "summary: see the final eight designers shortlisted for the second annual lvmh prize, the winner of which will receive eur300,000 and a year-long mentorship.\n",
      "summary score: 0.0\n",
      "manual_label: 1\n",
      "prediction: 1.0\n",
      "\n",
      "\n",
      "balmain\n",
      "['the latest issue of vogue india will be on sale from may 4.-- limei hoang balmain and l\\'oreal paris have joined forces on a collection of lipsticks.the limited edition lip colour collection, designed by balmain\\'s creative director olivier rousteing , will come in 12 shades and is set to debut in september.the collection will also feature three lipstick \"jewels\" in which the product will be encased in a wearable accessory.balmain creative director olivier rousteing developing lipsticks at l\\'oreal | source: courtesy for rousteing, the partnership was an opportunity to make balmain accessible to a wider audience.', '\"i\\'m really close to luxury but at the same time i\\'m also close to pop culture and i think a lot of people who may love the balmain universe can\\'t afford the clothes,\" he told bof.', '\"the collaboration with l\\'oreal paris opens up luxury in a different way.for [consumers] to get a piece of balmain [makeup] is a way for them to get into the balmain universe.makeup has always been part of my aesthetic and my silhouette.', '\"we\\'ve contributed our makeup expertise to an accessible luxury collection intended to drive anticipation among \\'seen-it-all-before\\' millennials,\" said pierre-emmanuel angeloglou, global brand president of l\\'oreal paris, who saw synergies between the two brands.', '\"like l\\'oreal paris, balmain is digitally-driven, speaking to new audiences through its designer\\'s instagram.this collaboration builds on that digital reach for both.', '\"the range will celebrate diversity and is inspired by balmain\\'s runway themes.', '\"i want to speak to different girls,\" said rousteing.some [shades] are really good on white skin, some are really good on asian skin, some of them on black skin.each group [of balmain women] is really powerful but in different ways.this balmain army will become the l\\'oreal paris army as well.\"', \"-- christopher morency for new york's multi-cultural shoppers, lvmh helps train immigrant sales force for luxury goods conglomerate lvmh, ensuring that its store employees are able to fully communicate with chinese tourists is of utmost importance.\"]\n",
      "content score: 0.216026335\n",
      "summary: in today's news bites, mario testino guest-edits the may issue of vogue india, which stars kendall jenner on the cover, while balmain creative director olivier rousteing tells bof about his foray into lipstick.\n",
      "summary score: 0.5\n",
      "manual_label: 1\n",
      "prediction: 1.0\n",
      "\n",
      "\n",
      "coach\n",
      "[' new york, united states -- coach inc., the largest u.s. luxury handbag maker, said fiscal first-quarter profit fell 1.6 percent as stiffer competition curtailed handbag sales in north america.', 'net income in the three months ended sept. 28 dropped to $217.9 million, or 77 cents a share, from $221.4 million, or 77 cents, a year earlier, new york-based coach said today in a statement.', \"the average of 30 analysts' estimates compiled by bloomberg was 76 cents.\", \"coach's sales at stores open at least a year in north america sank 6.8 percent in the quarter as michaelkors holdings ltd., fifth & pacific cos.' katespade and tory burch llc increased distribution of their own handbag styles.\", 'the accessories makers have been competing for market share as american consumers slow spending.', 'coach fell 4 percent to $52.02 at 7:15 a.m. in new york.', \"the shares slid 2.4 percent this year through yesterday, compared with a 22 percent gain in the standard & poor's 500 index.\", \"the north american same-store sales decline was worse than the analysts' average estimate for a 2.9 percent drop.\", \"revenue fell 0.9 percent to $1.15 billion, trailing analysts' $1.19 billion average estimate.\", 'by cotten timberlake; editors: robin ajello, kevin orland, tom lavell']\n",
      "content score: -0.049465241\n",
      "summary: nan\n",
      "summary score: 0.0\n",
      "manual_label: -1\n",
      "prediction: 1.0\n",
      "\n",
      "\n",
      "lvmh\n",
      "['imagine the power of conde nast\\'s formidable brands multiplied by the savvy to generate all that digital attention.the news in brief business and the economy lvmh raises concern over global economy .bernard arnault, the chairman and chief executive of the french luxury group, said low and negative interest rates were creating a \"very strange period\" for business and that he was worried about the global economy .estee lauder launched the line over a year ago to help sephora connect with millennial consumers, but said it decided a separate brand in north america was no longer necessary.peopl e marine serre | source: lvmh marine serre awarded lvmh prize .the belgian-french designer was named the winner of this year\\'s lvmh prize.based in paris, serre is known for her islamic motif-infused sportswear, which she told bof was an answer to last year\\'s terror attacks in paris and brussels.']\n",
      "content score: -0.040555556\n",
      "summary: with the demise of style.com, the media giant has proven unable to tap the 'tipping point' in e-commerce. now the same digital tsunami is coming for its core.\n",
      "summary score: -0.125\n",
      "manual_label: 1\n",
      "prediction: 1.0\n",
      "\n",
      "\n",
      "sportswear\n",
      "[' beaverton, united states -- \"the nike product has become synonymous with slave wages, forced overtime and arbitrary abuse,\" phil knight, then chairman and chief executive officer of nike, told journalists at the national press club in washington dc in 1998. the sportswear giant was sinking under a rising tide of scandals, fuelled by a new type of activism targeting consumer-facing brands as a way of curbing environmental and labour abuse further down the supply chain.in 1996, life magazine had published pictures of a 12-year-old boy in pakistan stitching \\'swoosh\\'-emblazoned soccer balls.']\n",
      "content score: -0.06986532\n",
      "summary: chief sustainability officer hannah jones talks to bof about nike's journey from sweatshop scandals to embracing sustainability as a tool for business innovation.\n",
      "summary score: 0.0\n",
      "manual_label: -1\n",
      "prediction: -1.0\n",
      "\n",
      "\n",
      "luxury\n",
      "[\" london, united kingdom -- there is no doubt that hermes sells exquisitely made products, but so do many other luxury brands.what is most unique about hermes is the company's decision to frustrate consumer demand, making it difficult for people to buy its most coveted products, namely its birkin and kelly handbags.but, even so, they are hermes handbags just the same.demand frustration and category segregation were the two traits that set hermes apart from its luxury megabrand peers.without these elements, the genetic difference between hermes and, say, louisvuitton is more difficult to discern.but as the company's business model becomes less special, should its multiple not reflect this?luca solca is the head of luxury goods at bnp exane paribas.related articles: the secret to hermes' success hermes bets on ready-to-wear where will hermes find growth in a slowing luxury market?\"]\n",
      "content score: 0.167176871\n",
      "summary: hermes appears to be moving away from the core strategy that made it special -- and wildly successful.\n",
      "summary score: 0.553571429\n",
      "manual_label: 1\n",
      "prediction: 1.0\n",
      "\n",
      "\n",
      "stuartweitzman\n",
      "[\"* estee lauder's share price leapt more than 17 percent as it reported a better-than-expected rise in revenue in its second quarter, helped by higher demand for its skin care and makeup products during the holiday season.\", \"* coach 's share price has benefitted from its acquisition of us footwear brand stuartweitzman , which is seen as a good fit for the group.the stock was up more than 17 percent.\"]\n",
      "content score: 0.391666667\n",
      "summary: the savigny luxury index (\"sli\") continued to rise and gained almost seven percent over the month.\n",
      "summary score: 0.0\n",
      "manual_label: -1\n",
      "prediction: 1.0\n",
      "\n",
      "\n",
      "kenzo\n",
      "['\"life is colour, i see everything in colour, so 40 years ago i decided to only photograph in colour,\" says feurer.iman for kenzo, 1983 | photo: hans feurer his aesthetic is epitomised by the images of a very young iman he shot for the fashion designer kenzo takada in the early 1980s on lanzarote, a spanish island off the coast of west africa.', '\"i wanted to go to a volcanic island with iman, because it\\'s the beginning of all life on earth.that is still my central preoccupation as a fashion photographer.sayoko for kenzo, styled by francoise havan | photo: hans feurer how does feurer go about making dreams come true?', '\"sensuality has always been one of my things.', '\"i love light and shadow and always observe very carefully what happens with light.', '\"feurer\\'s best-known images were created in collaboration with the japanese designer kenzo takada, founder of the kenzo brand.the photographer recalls how takada gave feurer carte blanche: \"when he called me to work on his campaign, i asked him, \\'and what if i just want to do a close-up of a beautiful woman\\'s eye?', \"'you can do whatever you want.\", '\\'\"among the results of their work was the seminal kenzo campaign featuring iman.feurer credits part of the campaign\\'s lasting impact to francoise havan, the stylist he worked with on the project.']\n",
      "content score: 0.2\n",
      "summary: bof speaks to swiss fashion photographer hans feurer, professed nietzsche devotee, born adventurer and legendary master of light.\n",
      "summary score: 0.7\n",
      "manual_label: 0\n",
      "prediction: 1.0\n",
      "\n",
      "\n",
      "lvmh\n",
      "[\"today however, the city is also a home for big business, with the luxury industry's most successful and profitable conglomerates based in paris, both of which look likely to continue growing according to luca solca, head of luxury at bnp paribas.lvmh, the largest conglomerate, led by one of europe's richest men bernard arnault , is in pole position and could extend its lead by driving consolidation in the luxury industry through m&a.the group includes cash-cow louisvuitton, which analysts estimate generates almost $12 billion in revenue and $5 billion in operating profit , as well as christian dior, which generates over $2 billion in revenues, fendi, givenchy, celine, loewe , kenzo and marcjacobs .however despite lying in second place in terms of size and profitability, lvmh's great rival kering , lead by francois henri pinault , is no slouch.\", '\"kering is the natural challenger.']\n",
      "content score: 0.26875\n",
      "summary: the undisputed capital of fashion for more than three centuries, fashion jobs in the city of lights represent the very pinnacle of career opportunities in luxury.\n",
      "summary score: 0.35\n",
      "manual_label: 1\n",
      "prediction: 1.0\n",
      "\n",
      "\n"
     ]
    }
   ],
   "source": [
    "#read dataset\n",
    "\n",
    "for row_num in range(len(output)):\n",
    "     \n",
    "    temp_cont = nltk.sent_tokenize(output.loc[row_num,'sub_content'])\n",
    "    print(output.loc[row_num,'tags'])\n",
    "    print(temp_cont)\n",
    "    print('content score:', output.loc[row_num,'content_score'])\n",
    "    print('summary:', output.loc[row_num,'summary'])\n",
    "    print('summary score:', output.loc[row_num,'summary_score'])\n",
    "    print('manual_label:', output.loc[row_num,'manual_label'])\n",
    "    print('prediction:', output.loc[row_num,'prediction'])\n",
    "    print('\\n')"
   ]
  },
  {
   "cell_type": "markdown",
   "metadata": {},
   "source": [
    "# Performance of pseudo-labelling depedendance on sampling rate"
   ]
  },
  {
   "cell_type": "code",
   "execution_count": 232,
   "metadata": {},
   "outputs": [
    {
     "name": "stdout",
     "output_type": "stream",
     "text": [
      "RandomForestClassifier\n",
      "XGBClassifier\n",
      "SVC\n"
     ]
    }
   ],
   "source": [
    "sample_rates = np.linspace(0.1, 1, 5)\n",
    "\n",
    "def pseudo_label_wrapper(model):\n",
    "    return PseudoLabeler(model, testdb, sample_rate = 0.1)\n",
    "\n",
    "# List of all models to test\n",
    "model_factory = [\n",
    "    RandomForestClassifier( n_estimators = 100 ),\n",
    "    XGBClassifier(),\n",
    "    SVC()\n",
    "]\n",
    "\n",
    "# Apply the PseudoLabeler class to each model\n",
    "model_factory = map(pseudo_label_wrapper, model_factory)\n",
    "\n",
    "# Train each model with different sample rates\n",
    "results_train = {}\n",
    "results_test = {}\n",
    "num_folds = 5\n",
    "\n",
    "for model in model_factory:\n",
    "    model_name = model.get_model_name()\n",
    "    print('%s' % model_name)\n",
    "\n",
    "    results_train[model_name] = list()\n",
    "    results_test[model_name] = list()\n",
    "    for sample_rate in sample_rates:\n",
    "        model.sample_rate = sample_rate\n",
    "        \n",
    "        # Calculate the CV-3 R2 score and store it\n",
    "        scores_train = cross_val_score(model, scaletrainVecs,y_train_ndarray,  cv=num_folds, scoring='accuracy', n_jobs=8)\n",
    "        results_train[model_name].append(scores_train.mean())\n",
    "        \n",
    "    \n",
    "        model_temp = model.fit(scaletrainVecs,y_train_ndarray)\n",
    "        pred = model_temp.predict(scaletestVecs)\n",
    "        scores_test = accuracy_score(y_validation, pred)\n",
    "        results_test[model_name].append(scores_test)"
   ]
  },
  {
   "cell_type": "code",
   "execution_count": 233,
   "metadata": {},
   "outputs": [
    {
     "data": {
      "image/png": "[encoded data removed]",
      "text/plain": [
       "<matplotlib.figure.Figure at 0x1b18a61dd8>"
      ]
     },
     "metadata": {},
     "output_type": "display_data"
    }
   ],
   "source": [
    "plt.figure(figsize=(16, 18))\n",
    "\n",
    "i = 1\n",
    "for model_name, performance in results_train.items():    \n",
    "    plt.subplot(3, 3, i)\n",
    "    i += 1\n",
    "    \n",
    "    \n",
    "    plt.plot(sample_rates, performance, label = 'train')\n",
    "    plt.title(model_name)\n",
    "    plt.xlabel('sample_rate')\n",
    "    plt.ylabel('accuracy')\n",
    "    \n",
    "    test_performance = results_test[model_name]\n",
    "    plt.plot(sample_rates, test_performance, label = 'test')\n",
    "\n",
    "    plt.legend(bbox_to_anchor=(1.05, 1), loc=3, borderaxespad=0.)\n",
    "plt.show()"
   ]
  },
  {
   "cell_type": "code",
   "execution_count": 234,
   "metadata": {
    "collapsed": true
   },
   "outputs": [],
   "source": [
    "results_train_allsp = results_train\n",
    "results_test_allsp = results_test"
   ]
  },
  {
   "cell_type": "code",
   "execution_count": null,
   "metadata": {
    "collapsed": true
   },
   "outputs": [],
   "source": [
    "#accumulate trainning results"
   ]
  },
  {
   "cell_type": "code",
   "execution_count": 134,
   "metadata": {
    "collapsed": true
   },
   "outputs": [],
   "source": [
    "from sklearn.utils import shuffle\n",
    "from sklearn.base import BaseEstimator, RegressorMixin\n",
    "\n",
    "class PseudoLabeler_1(BaseEstimator, RegressorMixin):\n",
    "    '''\n",
    "    Sci-kit learn wrapper for creating pseudo-lebeled estimators.\n",
    "    '''\n",
    "    \n",
    "    def __init__(self, model, unlabled_data, sample_rate, seed=42):\n",
    "        '''\n",
    "        @sample_rate - percent of samples used as pseudo-labelled data\n",
    "                       from the unlabled dataset\n",
    "        '''\n",
    "        #assert sample_rate <= 1.0, 'Sample_rate should be between 0.0 and 1.0.'\n",
    "        self.sample_rate = sample_rate\n",
    "        self.seed = seed\n",
    "        self.model = model\n",
    "        self.model.seed = seed\n",
    "        \n",
    "        self.unlabled_data = unlabled_data\n",
    "        #self.features = features\n",
    "        #self.target = target\n",
    "        \n",
    "    def get_params(self, deep=True):\n",
    "        return {\n",
    "            \"sample_rate\": self.sample_rate,\n",
    "            \"seed\": self.seed,\n",
    "            \"model\": self.model,\n",
    "            \"unlabled_data\": self.unlabled_data,\n",
    "            #\"features\": self.features,\n",
    "            #\"\"target\": self.target\n",
    "        }\n",
    "\n",
    "    def set_params(self, **parameters):\n",
    "        \n",
    "        for parameter, value in parameters.items():\n",
    "            setattr(self, parameter, value)\n",
    "        return self\n",
    "\n",
    "        \n",
    "    def fit(self, X, y, i):\n",
    "        '''\n",
    "        Fit the data using pseudo labeling.\n",
    "        '''\n",
    "        augemented_train = self.__create_augmented_train(X, y, i)\n",
    "        \n",
    "        \n",
    "        self.model.fit(\n",
    "            augemented_train[0],\n",
    "            augemented_train[1]\n",
    "        )\n",
    "        \n",
    "        return self\n",
    "\n",
    "\n",
    "    def __create_augmented_train(self, X, y, i):\n",
    "        '''\n",
    "        Create and return the augmented_train set that consists\n",
    "        of pseudo-labeled and labeled data.\n",
    "        '''        \n",
    "        \n",
    "        num_of_samples = int(len(self.unlabled_data) * self.sample_rate)\n",
    "        \n",
    "        # Train the model and creat the pseudo-labels\n",
    "        self.model.fit(X, y)\n",
    "        pseudo_labels = self.model.predict(self.unlabled_data)\n",
    "        \n",
    "        # Add the pseudo-labels to the test set\n",
    "        #pseudo_data = self.unlabled_data.copy()\n",
    "        #pseudo_data[self.target] = pseudo_labels\n",
    "        a = pseudo_labels.copy()\n",
    "        b = self.unlabled_data.copy()\n",
    "        #concat a & b\n",
    "        c = np.c_[a.reshape(len(a), -1), b.reshape(len(b), -1)]\n",
    "        \n",
    "        #np.random.shuffle(c)\n",
    "        #original form of features and labels\n",
    "        a2 = c[:, :a.size//len(a)].reshape(a.shape)\n",
    "        b2 = c[:, a.size//len(a):].reshape(b.shape)\n",
    "        \n",
    "        #pseudo_data = c.copy()\n",
    "        # Take a subset of the test set with pseudo-labels and append in onto\n",
    "        # the training set\n",
    "        count = (1 // self.sample_rate)\n",
    "        if i < count:\n",
    "            sampled_pseudo_data = b2[(i*num_of_samples): ((i+1)*num_of_samples)]\n",
    "            sampled_pseudo_label = a2[(i*num_of_samples): ((i+1)*num_of_samples)]\n",
    "        else:\n",
    "            sampled_pseudo_data = b2[(i*num_of_samples):]\n",
    "            sampled_pseudo_label = a2[(i*num_of_samples):]\n",
    "        \n",
    "        #temp_train = pd.concat([X, y], axis=1)\n",
    "        #augemented_train = pd.concat([sampled_pseudo_data, temp_train])\n",
    "        \n",
    "        return (sampled_pseudo_data,sampled_pseudo_label)\n",
    "        \n",
    "    def predict(self, X):\n",
    "        '''\n",
    "        Returns the predicted values.\n",
    "        '''\n",
    "        return self.model.predict(X)\n",
    "    \n",
    "    def get_model_name(self):\n",
    "        return self.model.__class__.__name__\n",
    "    \n",
    "    "
   ]
  },
  {
   "cell_type": "markdown",
   "metadata": {},
   "source": [
    "# tuning parameters"
   ]
  },
  {
   "cell_type": "code",
   "execution_count": null,
   "metadata": {
    "collapsed": true
   },
   "outputs": [],
   "source": [
    "#xgboost "
   ]
  },
  {
   "cell_type": "code",
   "execution_count": 164,
   "metadata": {
    "collapsed": true
   },
   "outputs": [],
   "source": [
    "\n",
    "#set initial parameters for modelling\n",
    "y_train_ndarray= y_train['manual_label'].as_matrix()\n",
    "type(y_train_ndarray)\n",
    "#test = unlabeledData\n",
    "testdb = scaleunlabeledVecs\n",
    "#features = 'vectors'\n",
    "#target = y_train_ndarray\n",
    "sample_rate = 0.3"
   ]
  },
  {
   "cell_type": "code",
   "execution_count": 565,
   "metadata": {
    "collapsed": true
   },
   "outputs": [],
   "source": [
    "sample_rate=0.8"
   ]
  },
  {
   "cell_type": "code",
   "execution_count": 602,
   "metadata": {},
   "outputs": [
    {
     "name": "stdout",
     "output_type": "stream",
     "text": [
      "initialise dataset function\n"
     ]
    }
   ],
   "source": [
    "model_xgb = PseudoLabeler_1(\n",
    "    XGBClassifier(learning_rate =0.12,\n",
    " n_estimators=180,\n",
    " max_depth=5,\n",
    " min_child_weight=1,\n",
    " gamma=0,\n",
    " subsample=0.8,\n",
    " colsample_bytree=0.8,\n",
    " objective= 'binary:logistic',\n",
    " nthread=4,\n",
    " scale_pos_weight=1,\n",
    " seed=27,\n",
    " slient=True),\n",
    "    testdb,\n",
    "    #features,\n",
    "    #target,\n",
    "    sample_rate\n",
    ")\n",
    "#tuning skills link\n",
    "#https://www.analyticsvidhya.com/blog/2016/03/complete-guide-parameter-tuning-xgboost-with-codes-python/"
   ]
  },
  {
   "cell_type": "code",
   "execution_count": 603,
   "metadata": {},
   "outputs": [
    {
     "name": "stdout",
     "output_type": "stream",
     "text": [
      "fit function\n",
      "create dataset function\n",
      "fit function\n",
      "create dataset function\n"
     ]
    }
   ],
   "source": [
    "\n",
    "j = (1/sample_rate)+1\n",
    "\n",
    "#results_train = {}\n",
    "#results_test = {}\n",
    "results_train = []\n",
    "results_test = []\n",
    "for i in range(int(j)):\n",
    "    model_xgboost = model_xgb.fit(scaletrainVecs,y_train_ndarray, i)\n",
    "    pred_train = model_xgboost.predict(scaletrainVecs)\n",
    "    pred_test = model_xgboost.predict(scaletestVecs)\n",
    "    \n",
    "    scores_train = accuracy_score(y_train_ndarray, pred_train)\n",
    "    results_train.append(scores_train)\n",
    "    scores_test = accuracy_score(y_validation, pred_test)\n",
    "    results_test.append(scores_test)"
   ]
  },
  {
   "cell_type": "code",
   "execution_count": 604,
   "metadata": {
    "scrolled": true
   },
   "outputs": [
    {
     "data": {
      "image/png": "[encoded data removed]",
      "text/plain": [
       "<matplotlib.figure.Figure at 0x1c5f7bcda0>"
      ]
     },
     "metadata": {},
     "output_type": "display_data"
    }
   ],
   "source": [
    "#plot\n",
    "iteration = [1,2]\n",
    "plt.figure(figsize=(6, 5))\n",
    "plt.plot(iteration, results_train, label = 'train')\n",
    "plt.plot(iteration, results_test, label = 'test')\n",
    "plt.title('xgboost')\n",
    "plt.xlabel('iteration')\n",
    "plt.ylabel('accuracy')\n",
    "    \n",
    "    \n",
    "        \n",
    "\n",
    "plt.legend(bbox_to_anchor=(1.05, 1), loc=3, borderaxespad=0.)\n",
    "plt.show()\n"
   ]
  },
  {
   "cell_type": "code",
   "execution_count": 607,
   "metadata": {},
   "outputs": [
    {
     "data": {
      "text/plain": [
       "[0.90765492102065615, 0.9404617253948967]"
      ]
     },
     "execution_count": 607,
     "metadata": {},
     "output_type": "execute_result"
    }
   ],
   "source": [
    "results_train"
   ]
  },
  {
   "cell_type": "code",
   "execution_count": 605,
   "metadata": {},
   "outputs": [
    {
     "data": {
      "text/plain": [
       "[0.75739644970414199, 0.75147928994082835]"
      ]
     },
     "execution_count": 605,
     "metadata": {},
     "output_type": "execute_result"
    }
   ],
   "source": [
    "results_test\n",
    "#xgboost best result"
   ]
  },
  {
   "cell_type": "code",
   "execution_count": null,
   "metadata": {
    "collapsed": true
   },
   "outputs": [],
   "source": [
    "#SVM\n",
    "#tuning skills links: https://blog.csdn.net/u014484783/article/details/78220646"
   ]
  },
  {
   "cell_type": "code",
   "execution_count": 665,
   "metadata": {},
   "outputs": [
    {
     "name": "stdout",
     "output_type": "stream",
     "text": [
      "The best parameters are {'C': 10, 'gamma': 0.001} with a score of 0.96\n"
     ]
    }
   ],
   "source": [
    "from sklearn.model_selection import GridSearchCV\n",
    "grid = GridSearchCV(SVC(), param_grid={\"C\":[0.1,1,2,2.5,3,4,5,10], \"gamma\": [0.001,0.005,0.05,0.1,0.15]}, cv=3)\n",
    "grid.fit(testdb, test_p)\n",
    "print(\"The best parameters are %s with a score of %0.2f\"\n",
    "      % (grid.best_params_, grid.best_score_))"
   ]
  },
  {
   "cell_type": "code",
   "execution_count": 650,
   "metadata": {},
   "outputs": [
    {
     "data": {
      "text/plain": [
       "0.76923076923076927"
      ]
     },
     "execution_count": 650,
     "metadata": {},
     "output_type": "execute_result"
    }
   ],
   "source": [
    "clf = SVC(C = C, gamma = gamma )\n",
    "clf.fit(scaletrainVecs, y_train_ndarray)\n",
    "z = clf.predict(scaletestVecs)\n",
    "y = accuracy_score(y_validation, z)\n",
    "y\n",
    "# c = 3 gamma = 0.001 original train set"
   ]
  },
  {
   "cell_type": "code",
   "execution_count": 697,
   "metadata": {},
   "outputs": [
    {
     "data": {
      "text/plain": [
       "0.001"
      ]
     },
     "execution_count": 697,
     "metadata": {},
     "output_type": "execute_result"
    }
   ],
   "source": [
    "C = grid.best_params_['C']\n",
    "gamma = grid.best_params_['gamma']\n",
    "# c = 10 gamma = 0.001 whole unlabeled set"
   ]
  },
  {
   "cell_type": "code",
   "execution_count": 774,
   "metadata": {},
   "outputs": [
    {
     "name": "stdout",
     "output_type": "stream",
     "text": [
      "initialise dataset function\n"
     ]
    }
   ],
   "source": [
    "sample_rate = 0.35\n",
    "model_svc = PseudoLabeler_1(\n",
    "    SVC(C = 6.8, gamma = 0.001 ),\n",
    "    testdb,\n",
    "    #features,\n",
    "    #target,\n",
    "    sample_rate\n",
    ")\n"
   ]
  },
  {
   "cell_type": "code",
   "execution_count": 771,
   "metadata": {},
   "outputs": [
    {
     "name": "stdout",
     "output_type": "stream",
     "text": [
      "fit function\n",
      "create dataset function\n",
      "fit function\n",
      "create dataset function\n"
     ]
    }
   ],
   "source": [
    "j = (1/sample_rate)+1\n",
    "\n",
    "#results_train = {}\n",
    "#results_test = {}\n",
    "results_train = []\n",
    "results_test = []\n",
    "for i in range(int(j)):\n",
    "    model_svc = model_svc.fit(scaletrainVecs,y_train_ndarray, i)\n",
    "    pred_train = model_svc.predict(scaletrainVecs)\n",
    "    pred_test = model_svc.predict(scaletestVecs)\n",
    "    \n",
    "    scores_train = accuracy_score(y_train_ndarray, pred_train)\n",
    "    results_train.append(scores_train)\n",
    "    scores_test = accuracy_score(y_validation, pred_test)\n",
    "    results_test.append(scores_test)"
   ]
  },
  {
   "cell_type": "code",
   "execution_count": 763,
   "metadata": {},
   "outputs": [
    {
     "name": "stdout",
     "output_type": "stream",
     "text": [
      "results_test: [0.76331360946745563, 0.74556213017751483]\n"
     ]
    }
   ],
   "source": [
    "print('results_test:', results_test) #c=2 gamma=0.001 smaple_rate = 0.8"
   ]
  },
  {
   "cell_type": "code",
   "execution_count": 745,
   "metadata": {},
   "outputs": [
    {
     "name": "stdout",
     "output_type": "stream",
     "text": [
      "results_test: [0.7751479289940828, 0.75739644970414199, 0.72189349112426038]\n"
     ]
    }
   ],
   "source": [
    "#\n",
    "print('results_test:', results_test) #c=6.8 gamma=0.001 smaple_rate = 0.35"
   ]
  },
  {
   "cell_type": "code",
   "execution_count": 727,
   "metadata": {},
   "outputs": [
    {
     "name": "stdout",
     "output_type": "stream",
     "text": [
      "results_test: [0.75739644970414199, 0.7751479289940828, 0.74556213017751483, 0.7100591715976331]\n"
     ]
    }
   ],
   "source": [
    "#####The best accuracy results!\n",
    "#print('results_train:', results_train) c=6.8 gamma=0.001 smaple_rate = 0.3\n",
    "print('results_test:', results_test)"
   ]
  },
  {
   "cell_type": "code",
   "execution_count": 730,
   "metadata": {},
   "outputs": [
    {
     "name": "stdout",
     "output_type": "stream",
     "text": [
      "results_test: [0.76331360946745563, 0.76923076923076927, 0.73964497041420119, 0.7100591715976331]\n"
     ]
    }
   ],
   "source": [
    "print('results_test:', results_test) #c=7 gamma=0.001 smaple_rate = 0.3"
   ]
  },
  {
   "cell_type": "code",
   "execution_count": 772,
   "metadata": {},
   "outputs": [
    {
     "name": "stdout",
     "output_type": "stream",
     "text": [
      "results_test: [0.74556213017751483, 0.72189349112426038]\n"
     ]
    }
   ],
   "source": [
    "print('results_test:', results_test) #c=8 gamma=0.001 smaple_rate = 0.8"
   ]
  },
  {
   "cell_type": "code",
   "execution_count": 751,
   "metadata": {},
   "outputs": [
    {
     "name": "stdout",
     "output_type": "stream",
     "text": [
      "results_test: [0.76331360946745563, 0.73372781065088755]\n"
     ]
    }
   ],
   "source": [
    "print('results_test:', results_test) #c=5 gamma=0.001 smaple_rate = 0.8"
   ]
  },
  {
   "cell_type": "code",
   "execution_count": null,
   "metadata": {
    "collapsed": true
   },
   "outputs": [],
   "source": []
  },
  {
   "cell_type": "code",
   "execution_count": null,
   "metadata": {
    "collapsed": true
   },
   "outputs": [],
   "source": [
    "#lstm_full_unlabeled data"
   ]
  },
  {
   "cell_type": "code",
   "execution_count": 442,
   "metadata": {
    "collapsed": true
   },
   "outputs": [],
   "source": [
    "unlabelvecs_lstm = testdb.copy()\n",
    "scaleunlabelVecs_lstm = np.reshape(unlabelvecs_lstm, (unlabelvecs_lstm.shape[0], 1, unlabelvecs_lstm.shape[1]))"
   ]
  },
  {
   "cell_type": "code",
   "execution_count": 521,
   "metadata": {
    "collapsed": true
   },
   "outputs": [],
   "source": [
    "classes = model.predict(scaleunlabelVecs_lstm)\n",
    "\n",
    "#acc = np_utils.accuracy(classes, yt)\n",
    "#print('Test accuracy:', acc)"
   ]
  },
  {
   "cell_type": "code",
   "execution_count": 504,
   "metadata": {},
   "outputs": [
    {
     "data": {
      "text/plain": [
       "array([-0.72902286], dtype=float32)"
      ]
     },
     "execution_count": 504,
     "metadata": {},
     "output_type": "execute_result"
    }
   ],
   "source": [
    "classes[0]"
   ]
  },
  {
   "cell_type": "code",
   "execution_count": 522,
   "metadata": {
    "collapsed": true
   },
   "outputs": [],
   "source": [
    "for i in range(len(classes)):\n",
    "    if classes[i] < 0:\n",
    "        classes[i] = -1\n",
    "    else:\n",
    "        classes[i] = 1\n",
    "        "
   ]
  },
  {
   "cell_type": "code",
   "execution_count": 612,
   "metadata": {},
   "outputs": [
    {
     "name": "stdout",
     "output_type": "stream",
     "text": [
      "Train on 7253 samples, validate on 169 samples\n",
      "Epoch 1/5\n",
      "7253/7253 [==============================] - 8s 1ms/step - loss: -6.7994 - acc: 0.9029 - val_loss: 0.3061 - val_acc: 0.6036\n",
      "Epoch 2/5\n",
      "7253/7253 [==============================] - 8s 1ms/step - loss: -6.8495 - acc: 0.9054 - val_loss: -0.3129 - val_acc: 0.6509\n",
      "Epoch 3/5\n",
      "7253/7253 [==============================] - 8s 1ms/step - loss: -7.0188 - acc: 0.9159 - val_loss: 0.3317 - val_acc: 0.6272\n",
      "Epoch 4/5\n",
      "7253/7253 [==============================] - 8s 1ms/step - loss: -6.8447 - acc: 0.9158 - val_loss: -0.0174 - val_acc: 0.6568\n",
      "Epoch 5/5\n",
      "7253/7253 [==============================] - 8s 1ms/step - loss: -6.9618 - acc: 0.9209 - val_loss: -0.0049 - val_acc: 0.6509\n",
      "169/169 [==============================] - 0s 670us/step\n",
      "Accuracy: 65.09%\n"
     ]
    }
   ],
   "source": [
    "model.fit(scaleunlabelVecs_lstm, classes, epochs=5, batch_size=150\n",
    "          ,validation_data=(scaletestVecs_lstm,y_validation.values),verbose=1)\n",
    "scores = model.evaluate(scaletestVecs_lstm, y_validation.values, verbose=1)\n",
    "print(\"Accuracy: %.2f%%\" % (scores[1]*100))"
   ]
  },
  {
   "cell_type": "code",
   "execution_count": null,
   "metadata": {
    "collapsed": true
   },
   "outputs": [],
   "source": [
    "#overfitting??????"
   ]
  },
  {
   "cell_type": "code",
   "execution_count": null,
   "metadata": {
    "collapsed": true
   },
   "outputs": [],
   "source": []
  },
  {
   "cell_type": "markdown",
   "metadata": {},
   "source": [
    "# sample_rate = 0.3"
   ]
  },
  {
   "cell_type": "code",
   "execution_count": 237,
   "metadata": {
    "collapsed": true
   },
   "outputs": [
    {
     "name": "stdout",
     "output_type": "stream",
     "text": [
      "initialise dataset function\n",
      "RandomForestClassifier\n",
      "fit function\n",
      "create dataset function\n",
      "fit function\n",
      "create dataset function\n",
      "fit function\n",
      "create dataset function\n",
      "fit function\n",
      "create dataset function\n",
      "initialise dataset function\n",
      "XGBClassifier\n",
      "fit function\n",
      "create dataset function\n",
      "fit function\n",
      "create dataset function\n",
      "fit function\n",
      "create dataset function\n",
      "fit function\n",
      "create dataset function\n",
      "initialise dataset function\n",
      "SVC\n",
      "fit function\n",
      "create dataset function\n",
      "fit function\n",
      "create dataset function\n",
      "fit function\n",
      "create dataset function\n",
      "fit function\n",
      "create dataset function\n"
     ]
    }
   ],
   "source": [
    "sample_rate =0.3\n",
    "def pseudo_label_wrapper_1(model):\n",
    "    return PseudoLabeler_1(model, testdb, sample_rate =0.3)\n",
    "\n",
    "# List of all models to test\n",
    "model_factory = [\n",
    "    RandomForestClassifier( n_estimators = 100 ),\n",
    "    XGBClassifier(),\n",
    "    SVC()\n",
    "    \n",
    "]\n",
    "\n",
    "# Apply the PseudoLabeler class to each model\n",
    "model_factory = map(pseudo_label_wrapper_1, model_factory)\n",
    "\n",
    "# Train each model with different sample rates\n",
    "results_train = {}\n",
    "results_test = {}\n",
    "\n",
    "for model in model_factory:\n",
    "    model_name = model.get_model_name()\n",
    "    print('%s' % model_name)\n",
    "\n",
    "    results_train[model_name] = list()\n",
    "    results_test[model_name] = list()\n",
    "    # Calculate the CV-3 R2 score and store it\n",
    "    j = (1/sample_rate)+1\n",
    "    #j = 4\n",
    "    for i in range(int(j)):\n",
    "        model = model.fit(scaletrainVecs,y_train_ndarray, i)\n",
    "        pred_train = model.predict(scaletrainVecs)\n",
    "        pred_test = model.predict(scaletestVecs)\n",
    "        scores_train = accuracy_score(y_train_ndarray, pred_train)\n",
    "        results_train[model_name].append(scores_train)\n",
    "        \n",
    "        scores_test = accuracy_score(y_validation, pred_test)\n",
    "        results_test[model_name].append(scores_test)"
   ]
  },
  {
   "cell_type": "code",
   "execution_count": 238,
   "metadata": {
    "collapsed": true
   },
   "outputs": [],
   "source": [
    "results_train_sp3 = results_train\n",
    "results_test_sp3 = results_test "
   ]
  },
  {
   "cell_type": "code",
   "execution_count": 239,
   "metadata": {},
   "outputs": [
    {
     "data": {
      "image/png": "[encoded data removed]",
      "text/plain": [
       "<matplotlib.figure.Figure at 0x1b18a1fac8>"
      ]
     },
     "metadata": {},
     "output_type": "display_data"
    }
   ],
   "source": [
    "\n",
    "plt.figure(figsize=(16, 18))\n",
    "\n",
    "i = 1\n",
    "iteration = [1,2,3,4]\n",
    "for model_name, performance in results_train.items():    \n",
    "    plt.subplot(3, 3, i)\n",
    "    i += 1\n",
    "    \n",
    "    \n",
    "    plt.plot(iteration, performance, label = 'train')\n",
    "    plt.title(model_name)\n",
    "    plt.xlabel('iteration')\n",
    "    plt.ylabel('accuracy')\n",
    "    \n",
    "    test_performance = results_test[model_name]\n",
    "    plt.plot(iteration, test_performance, label = 'test')\n",
    "    \n",
    "\n",
    "    plt.legend(bbox_to_anchor=(1.05, 1), loc=3, borderaxespad=0.)\n",
    "plt.show()"
   ]
  },
  {
   "cell_type": "markdown",
   "metadata": {},
   "source": [
    "# sample_rate = 0.1"
   ]
  },
  {
   "cell_type": "code",
   "execution_count": 240,
   "metadata": {
    "collapsed": true
   },
   "outputs": [],
   "source": [
    "sample_rate =0.1"
   ]
  },
  {
   "cell_type": "code",
   "execution_count": 244,
   "metadata": {
    "collapsed": true
   },
   "outputs": [
    {
     "name": "stdout",
     "output_type": "stream",
     "text": [
      "initialise dataset function\n",
      "RandomForestClassifier\n",
      "fit function\n",
      "create dataset function\n",
      "fit function\n",
      "create dataset function\n",
      "fit function\n",
      "create dataset function\n",
      "fit function\n",
      "create dataset function\n",
      "fit function\n",
      "create dataset function\n",
      "fit function\n",
      "create dataset function\n",
      "fit function\n",
      "create dataset function\n",
      "fit function\n",
      "create dataset function\n",
      "fit function\n",
      "create dataset function\n",
      "fit function\n",
      "create dataset function\n",
      "initialise dataset function\n",
      "XGBClassifier\n",
      "fit function\n",
      "create dataset function\n",
      "fit function\n",
      "create dataset function\n",
      "fit function\n",
      "create dataset function\n",
      "fit function\n",
      "create dataset function\n",
      "fit function\n",
      "create dataset function\n",
      "fit function\n",
      "create dataset function\n",
      "fit function\n",
      "create dataset function\n",
      "fit function\n",
      "create dataset function\n",
      "fit function\n",
      "create dataset function\n",
      "fit function\n",
      "create dataset function\n",
      "initialise dataset function\n",
      "SVC\n",
      "fit function\n",
      "create dataset function\n",
      "fit function\n",
      "create dataset function\n",
      "fit function\n",
      "create dataset function\n",
      "fit function\n",
      "create dataset function\n",
      "fit function\n",
      "create dataset function\n",
      "fit function\n",
      "create dataset function\n",
      "fit function\n",
      "create dataset function\n",
      "fit function\n",
      "create dataset function\n",
      "fit function\n",
      "create dataset function\n",
      "fit function\n",
      "create dataset function\n"
     ]
    }
   ],
   "source": [
    "def pseudo_label_wrapper_1(model):\n",
    "    return PseudoLabeler_1(model, testdb, sample_rate =0.1)\n",
    "\n",
    "# List of all models to test\n",
    "model_factory = [\n",
    "    RandomForestClassifier( n_estimators = 100 ),\n",
    "    XGBClassifier(),\n",
    "    SVC()\n",
    "]\n",
    "\n",
    "# Apply the PseudoLabeler class to each model\n",
    "model_factory = map(pseudo_label_wrapper_1, model_factory)\n",
    "\n",
    "# Train each model with different sample rates\n",
    "results_train = {}\n",
    "results_test = {}\n",
    "\n",
    "for model in model_factory:\n",
    "    model_name = model.get_model_name()\n",
    "    print('%s' % model_name)\n",
    "\n",
    "    results_train[model_name] = list()\n",
    "    results_test[model_name] = list()\n",
    "    # Calculate the CV-3 R2 score and store it\n",
    "    j = (1/sample_rate)\n",
    "    #j = 4\n",
    "    for i in range(int(j)):\n",
    "        model = model.fit(scaletrainVecs,y_train_ndarray, i)\n",
    "        pred_train = model.predict(scaletrainVecs)\n",
    "        pred_test = model.predict(scaletestVecs)\n",
    "        scores_train = accuracy_score(y_train_ndarray, pred_train)\n",
    "        results_train[model_name].append(scores_train)\n",
    "        \n",
    "        scores_test = accuracy_score(y_validation, pred_test)\n",
    "        results_test[model_name].append(scores_test)"
   ]
  },
  {
   "cell_type": "code",
   "execution_count": 245,
   "metadata": {
    "collapsed": true
   },
   "outputs": [],
   "source": [
    "results_train_sp1 = results_train\n",
    "results_test_sp1 = results_test "
   ]
  },
  {
   "cell_type": "code",
   "execution_count": 247,
   "metadata": {},
   "outputs": [
    {
     "data": {
      "image/png": "[encoded data removed]",
      "text/plain": [
       "<matplotlib.figure.Figure at 0x1b1b596828>"
      ]
     },
     "metadata": {},
     "output_type": "display_data"
    }
   ],
   "source": [
    "plt.figure(figsize=(16, 18))\n",
    "\n",
    "i = 1\n",
    "iteration = [1,2,3,4,5,6,7,8,9,10]\n",
    "for model_name, performance in results_train.items():    \n",
    "    plt.subplot(3, 3, i)\n",
    "    i += 1\n",
    "    \n",
    "    \n",
    "    plt.plot(iteration, performance, label = 'train')\n",
    "    plt.title(model_name)\n",
    "    plt.xlabel('iteration')\n",
    "    plt.ylabel('accuracy')\n",
    "    \n",
    "    test_performance = results_test[model_name]\n",
    "    plt.plot(iteration, test_performance, label = 'test')\n",
    "\n",
    "    plt.legend(bbox_to_anchor=(1.05, 1), loc=3, borderaxespad=0.)\n",
    "plt.show()"
   ]
  },
  {
   "cell_type": "markdown",
   "metadata": {},
   "source": [
    "# sample_rate = 0.8"
   ]
  },
  {
   "cell_type": "code",
   "execution_count": 204,
   "metadata": {
    "collapsed": true
   },
   "outputs": [],
   "source": [
    "sample_rate =0.8"
   ]
  },
  {
   "cell_type": "code",
   "execution_count": 205,
   "metadata": {
    "collapsed": true
   },
   "outputs": [
    {
     "name": "stdout",
     "output_type": "stream",
     "text": [
      "initialise dataset function\n",
      "RandomForestClassifier\n",
      "fit function\n",
      "create dataset function\n",
      "fit function\n",
      "create dataset function\n",
      "initialise dataset function\n",
      "XGBClassifier\n",
      "fit function\n",
      "create dataset function\n",
      "fit function\n",
      "create dataset function\n",
      "initialise dataset function\n",
      "SVC\n",
      "fit function\n",
      "create dataset function\n",
      "fit function\n",
      "create dataset function\n"
     ]
    }
   ],
   "source": [
    "def pseudo_label_wrapper_1(model):\n",
    "    return PseudoLabeler_1(model, testdb, sample_rate =0.8)\n",
    "\n",
    "# List of all models to test\n",
    "model_factory = [\n",
    "    RandomForestClassifier( n_estimators = 100 ),\n",
    "    XGBClassifier(),\n",
    "    SVC()\n",
    "]\n",
    "\n",
    "# Apply the PseudoLabeler class to each model\n",
    "model_factory = map(pseudo_label_wrapper_1, model_factory)\n",
    "\n",
    "# Train each model with different sample rates\n",
    "results_train = {}\n",
    "results_test = {}\n",
    "\n",
    "for model in model_factory:\n",
    "    model_name = model.get_model_name()\n",
    "    print('%s' % model_name)\n",
    "\n",
    "    results_train[model_name] = list()\n",
    "    results_test[model_name] = list()\n",
    "    # Calculate the CV-3 R2 score and store it\n",
    "    j = (1/sample_rate)+1\n",
    "    #j = 4\n",
    "    for i in range(int(j)):\n",
    "        model = model.fit(scaletrainVecs,y_train_ndarray, i)\n",
    "        pred_train = model.predict(scaletrainVecs)\n",
    "        pred_test = model.predict(scaletestVecs)\n",
    "        scores_train = accuracy_score(y_train_ndarray, pred_train)\n",
    "        results_train[model_name].append(scores_train)\n",
    "        \n",
    "        scores_test = accuracy_score(y_validation, pred_test)\n",
    "        results_test[model_name].append(scores_test)"
   ]
  },
  {
   "cell_type": "code",
   "execution_count": 230,
   "metadata": {},
   "outputs": [
    {
     "data": {
      "image/png": "[encoded data removed]",
      "text/plain": [
       "<matplotlib.figure.Figure at 0x1a24685f98>"
      ]
     },
     "metadata": {},
     "output_type": "display_data"
    }
   ],
   "source": [
    "plt.figure(figsize=(16, 18))\n",
    "\n",
    "i = 1\n",
    "iteration = [1,2]\n",
    "for model_name, performance in results_train.items():    \n",
    "    plt.subplot(3, 3, i)\n",
    "    i += 1\n",
    "    \n",
    "    \n",
    "    plt.plot(iteration, performance, label = 'train')\n",
    "    plt.title(model_name)\n",
    "    plt.xlabel('iteration')\n",
    "    plt.ylabel('accuracy')\n",
    "    \n",
    "    test_performance = results_test[model_name]\n",
    "    \n",
    "    plt.plot(iteration, test_performance, label = 'test')\n",
    "    \n",
    "\n",
    "    plt.legend(bbox_to_anchor=(1.05, 1), loc=3, borderaxespad=0.)\n",
    "plt.show()"
   ]
  },
  {
   "cell_type": "code",
   "execution_count": null,
   "metadata": {
    "collapsed": true
   },
   "outputs": [],
   "source": []
  },
  {
   "cell_type": "markdown",
   "metadata": {},
   "source": [
    "# Final labelling model"
   ]
  },
  {
   "cell_type": "code",
   "execution_count": 777,
   "metadata": {},
   "outputs": [
    {
     "name": "stdout",
     "output_type": "stream",
     "text": [
      "initialise dataset function\n"
     ]
    }
   ],
   "source": [
    "#SVC\n",
    "sample_rate = 0.3\n",
    "model_svc = PseudoLabeler_1(\n",
    "    SVC(C = 6.8, gamma = 0.001 ),\n",
    "    testdb,\n",
    "    #features,\n",
    "    #target,\n",
    "    sample_rate\n",
    ")"
   ]
  },
  {
   "cell_type": "code",
   "execution_count": 778,
   "metadata": {},
   "outputs": [
    {
     "name": "stdout",
     "output_type": "stream",
     "text": [
      "fit function\n",
      "create dataset function\n",
      "fit function\n",
      "create dataset function\n",
      "fit function\n",
      "create dataset function\n",
      "fit function\n",
      "create dataset function\n"
     ]
    }
   ],
   "source": [
    "j = (1/sample_rate)+1\n",
    "\n",
    "#results_train = {}\n",
    "#results_test = {}\n",
    "results_train = []\n",
    "results_test = []\n",
    "for i in range(int(j)):\n",
    "    model_svc = model_svc.fit(scaletrainVecs,y_train_ndarray, i)\n",
    "    pred_train = model_svc.predict(scaletrainVecs)\n",
    "    pred_test = model_svc.predict(scaletestVecs)\n",
    "    \n",
    "    scores_train = accuracy_score(y_train_ndarray, pred_train)\n",
    "    results_train.append(scores_train)\n",
    "    scores_test = accuracy_score(y_validation, pred_test)\n",
    "    results_test.append(scores_test)"
   ]
  },
  {
   "cell_type": "code",
   "execution_count": 779,
   "metadata": {},
   "outputs": [
    {
     "name": "stdout",
     "output_type": "stream",
     "text": [
      "results_train: [0.85176184690157963, 0.8651275820170109, 0.86269744835965978, 0.89064398541919809]\n",
      "results_test: [0.75739644970414199, 0.7751479289940828, 0.74556213017751483, 0.7100591715976331]\n"
     ]
    }
   ],
   "source": [
    "# c=6.8 gamma=0.001 smaple_rate = 0.3\n",
    "print('results_train:', results_train)\n",
    "print('results_test:', results_test)"
   ]
  },
  {
   "cell_type": "code",
   "execution_count": null,
   "metadata": {
    "collapsed": true
   },
   "outputs": [],
   "source": [
    "j = 2\n",
    "for i in range(int(j)):\n",
    "    model_svc = model_svc.fit(scaletrainVecs,y_train_ndarray, i)\n",
    "    \n",
    "pred_all = model_svc.predict(scaletestVecs)"
   ]
  },
  {
   "cell_type": "code",
   "execution_count": null,
   "metadata": {
    "collapsed": true
   },
   "outputs": [],
   "source": []
  },
  {
   "cell_type": "code",
   "execution_count": 792,
   "metadata": {
    "collapsed": true
   },
   "outputs": [],
   "source": [
    "df_all = pd.read_csv(\"bof_db_17_8.csv\", sep=',')"
   ]
  },
  {
   "cell_type": "code",
   "execution_count": 793,
   "metadata": {},
   "outputs": [
    {
     "data": {
      "text/html": [
       "<div>\n",
       "<style>\n",
       "    .dataframe thead tr:only-child th {\n",
       "        text-align: right;\n",
       "    }\n",
       "\n",
       "    .dataframe thead th {\n",
       "        text-align: left;\n",
       "    }\n",
       "\n",
       "    .dataframe tbody tr th {\n",
       "        vertical-align: top;\n",
       "    }\n",
       "</style>\n",
       "<table border=\"1\" class=\"dataframe\">\n",
       "  <thead>\n",
       "    <tr style=\"text-align: right;\">\n",
       "      <th></th>\n",
       "      <th>Unnamed: 0</th>\n",
       "      <th>id</th>\n",
       "      <th>summary</th>\n",
       "      <th>title</th>\n",
       "      <th>article_date</th>\n",
       "      <th>is_exclusive</th>\n",
       "      <th>total_comments</th>\n",
       "      <th>pageviews</th>\n",
       "      <th>facebook_likes</th>\n",
       "      <th>linkedin_shares</th>\n",
       "      <th>tags</th>\n",
       "      <th>sub_content</th>\n",
       "      <th>content</th>\n",
       "      <th>content_score</th>\n",
       "      <th>summary_score</th>\n",
       "      <th>sum_score</th>\n",
       "      <th>label</th>\n",
       "    </tr>\n",
       "  </thead>\n",
       "  <tbody>\n",
       "    <tr>\n",
       "      <th>0</th>\n",
       "      <td>0</td>\n",
       "      <td>741663</td>\n",
       "      <td>the luxury group's controlling family sold sha...</td>\n",
       "      <td>Ferragamo Shares Tumble After Family Trims Stake</td>\n",
       "      <td>2018-06-20 10:03:44</td>\n",
       "      <td>False</td>\n",
       "      <td>0</td>\n",
       "      <td>985</td>\n",
       "      <td>35</td>\n",
       "      <td>0</td>\n",
       "      <td>salvatoreferragamo</td>\n",
       "      <td>florence, italy -- shares in salvatoreferraga...</td>\n",
       "      <td>florence, italy -- shares in salvatoreferraga...</td>\n",
       "      <td>-0.052900</td>\n",
       "      <td>0.000000</td>\n",
       "      <td>-0.037030</td>\n",
       "      <td>-1.0</td>\n",
       "    </tr>\n",
       "    <tr>\n",
       "      <th>1</th>\n",
       "      <td>1</td>\n",
       "      <td>740019</td>\n",
       "      <td>with its biggest ever french store, set to ope...</td>\n",
       "      <td>How H&amp;M Is Rethinking Its Flagships</td>\n",
       "      <td>2018-06-19 05:25:29</td>\n",
       "      <td>True</td>\n",
       "      <td>0</td>\n",
       "      <td>11153</td>\n",
       "      <td>112</td>\n",
       "      <td>0</td>\n",
       "      <td>hm</td>\n",
       "      <td>paris, france -- in the speedy world of fast ...</td>\n",
       "      <td>paris, france -- in the speedy world of fast ...</td>\n",
       "      <td>0.139067</td>\n",
       "      <td>0.084091</td>\n",
       "      <td>0.122574</td>\n",
       "      <td>1.0</td>\n",
       "    </tr>\n",
       "    <tr>\n",
       "      <th>2</th>\n",
       "      <td>2</td>\n",
       "      <td>736070</td>\n",
       "      <td>the spanish company is developing new technolo...</td>\n",
       "      <td>Zara Looks to Technology to Keep up With Faste...</td>\n",
       "      <td>2018-06-15 07:00:00</td>\n",
       "      <td>False</td>\n",
       "      <td>0</td>\n",
       "      <td>5217</td>\n",
       "      <td>307</td>\n",
       "      <td>0</td>\n",
       "      <td>zara</td>\n",
       "      <td>madrid, spain -- the pioneer of fast fashion ...</td>\n",
       "      <td>madrid, spain -- the pioneer of fast fashion ...</td>\n",
       "      <td>0.122035</td>\n",
       "      <td>0.045455</td>\n",
       "      <td>0.099061</td>\n",
       "      <td>1.0</td>\n",
       "    </tr>\n",
       "    <tr>\n",
       "      <th>3</th>\n",
       "      <td>3</td>\n",
       "      <td>735362</td>\n",
       "      <td>the conglomerate's e-commerce retailer 24sevre...</td>\n",
       "      <td>LVMH Targets Growing Jewellery Sales with Onli...</td>\n",
       "      <td>2018-06-14 12:58:43</td>\n",
       "      <td>False</td>\n",
       "      <td>0</td>\n",
       "      <td>1907</td>\n",
       "      <td>9</td>\n",
       "      <td>0</td>\n",
       "      <td>lvmh</td>\n",
       "      <td>paris, france -- lvmh, the french group behin...</td>\n",
       "      <td>paris, france -- lvmh, the french group behin...</td>\n",
       "      <td>0.071508</td>\n",
       "      <td>0.208333</td>\n",
       "      <td>0.112556</td>\n",
       "      <td>1.0</td>\n",
       "    </tr>\n",
       "    <tr>\n",
       "      <th>4</th>\n",
       "      <td>4</td>\n",
       "      <td>734604</td>\n",
       "      <td>maier transformed the 'stealth wealth' label ...</td>\n",
       "      <td>As Tomas Maier Departs, What's Next for Botteg...</td>\n",
       "      <td>2018-06-13 17:44:46</td>\n",
       "      <td>False</td>\n",
       "      <td>1</td>\n",
       "      <td>26809</td>\n",
       "      <td>1449</td>\n",
       "      <td>0</td>\n",
       "      <td>tomasmaier</td>\n",
       "      <td>milan, italy -- bottegaveneta creative direct...</td>\n",
       "      <td>milan, italy -- bottegaveneta creative direct...</td>\n",
       "      <td>0.091333</td>\n",
       "      <td>-0.054545</td>\n",
       "      <td>0.047569</td>\n",
       "      <td>1.0</td>\n",
       "    </tr>\n",
       "  </tbody>\n",
       "</table>\n",
       "</div>"
      ],
      "text/plain": [
       "   Unnamed: 0      id                                            summary  \\\n",
       "0           0  741663  the luxury group's controlling family sold sha...   \n",
       "1           1  740019  with its biggest ever french store, set to ope...   \n",
       "2           2  736070  the spanish company is developing new technolo...   \n",
       "3           3  735362  the conglomerate's e-commerce retailer 24sevre...   \n",
       "4           4  734604   maier transformed the 'stealth wealth' label ...   \n",
       "\n",
       "                                               title         article_date  \\\n",
       "0   Ferragamo Shares Tumble After Family Trims Stake  2018-06-20 10:03:44   \n",
       "1                How H&M Is Rethinking Its Flagships  2018-06-19 05:25:29   \n",
       "2  Zara Looks to Technology to Keep up With Faste...  2018-06-15 07:00:00   \n",
       "3  LVMH Targets Growing Jewellery Sales with Onli...  2018-06-14 12:58:43   \n",
       "4  As Tomas Maier Departs, What's Next for Botteg...  2018-06-13 17:44:46   \n",
       "\n",
       "   is_exclusive  total_comments  pageviews  facebook_likes  linkedin_shares  \\\n",
       "0         False               0        985              35                0   \n",
       "1          True               0      11153             112                0   \n",
       "2         False               0       5217             307                0   \n",
       "3         False               0       1907               9                0   \n",
       "4         False               1      26809            1449                0   \n",
       "\n",
       "                 tags                                        sub_content  \\\n",
       "0  salvatoreferragamo   florence, italy -- shares in salvatoreferraga...   \n",
       "1                  hm   paris, france -- in the speedy world of fast ...   \n",
       "2                zara   madrid, spain -- the pioneer of fast fashion ...   \n",
       "3                lvmh   paris, france -- lvmh, the french group behin...   \n",
       "4          tomasmaier   milan, italy -- bottegaveneta creative direct...   \n",
       "\n",
       "                                             content  content_score  \\\n",
       "0   florence, italy -- shares in salvatoreferraga...      -0.052900   \n",
       "1   paris, france -- in the speedy world of fast ...       0.139067   \n",
       "2   madrid, spain -- the pioneer of fast fashion ...       0.122035   \n",
       "3   paris, france -- lvmh, the french group behin...       0.071508   \n",
       "4   milan, italy -- bottegaveneta creative direct...       0.091333   \n",
       "\n",
       "   summary_score  sum_score  label  \n",
       "0       0.000000  -0.037030   -1.0  \n",
       "1       0.084091   0.122574    1.0  \n",
       "2       0.045455   0.099061    1.0  \n",
       "3       0.208333   0.112556    1.0  \n",
       "4      -0.054545   0.047569    1.0  "
      ]
     },
     "execution_count": 793,
     "metadata": {},
     "output_type": "execute_result"
    }
   ],
   "source": [
    "df_all.head()"
   ]
  },
  {
   "cell_type": "code",
   "execution_count": 794,
   "metadata": {
    "collapsed": true
   },
   "outputs": [],
   "source": [
    "df_all = df_all.drop(['Unnamed: 0'], axis=1)"
   ]
  },
  {
   "cell_type": "code",
   "execution_count": 795,
   "metadata": {},
   "outputs": [
    {
     "name": "stdout",
     "output_type": "stream",
     "text": [
      "content 0 of 6561\n",
      "content 1000 of 6561\n",
      "content 2000 of 6561\n",
      "content 3000 of 6561\n",
      "content 4000 of 6561\n",
      "content 5000 of 6561\n",
      "content 6000 of 6561\n"
     ]
    }
   ],
   "source": [
    "clean_alldb_contents = []\n",
    "for content in df_all[\"sub_content\"]:\n",
    "    clean_alldb_contents.append( content_to_wordlist( content, \n",
    "        remove_stopwords=True ))\n",
    "\n",
    "alldbDataVecs = getAvgFeatureVecs( clean_alldb_contents, model_1, 300)"
   ]
  },
  {
   "cell_type": "code",
   "execution_count": 796,
   "metadata": {},
   "outputs": [
    {
     "name": "stderr",
     "output_type": "stream",
     "text": [
      "/Users/bonnieliu/anaconda3/lib/python3.6/site-packages/sklearn/preprocessing/data.py:164: UserWarning: Numerical issues were encountered when centering the data and might not be solved. Dataset may contain too large values. You may need to prescale your features.\n",
      "  warnings.warn(\"Numerical issues were encountered \"\n",
      "/Users/bonnieliu/anaconda3/lib/python3.6/site-packages/sklearn/preprocessing/data.py:181: UserWarning: Numerical issues were encountered when scaling the data and might not be solved. The standard deviation of the data is probably very close to 0. \n",
      "  warnings.warn(\"Numerical issues were encountered \"\n"
     ]
    }
   ],
   "source": [
    "scalealldbVecs = scale(alldbDataVecs)"
   ]
  },
  {
   "cell_type": "code",
   "execution_count": 797,
   "metadata": {
    "collapsed": true
   },
   "outputs": [],
   "source": [
    "#save ndarray\n",
    "np.save(\"alldbDataVecs.npy\",alldbDataVecs)\n",
    "b00 = np.load(\"alldbDataVecs.npy\")\n",
    "np.save(\"scalealldbVecs.npy\",scalealldbVecs)\n",
    "b11 = np.load(\"scalealldbVecs.npy\")"
   ]
  },
  {
   "cell_type": "code",
   "execution_count": 799,
   "metadata": {
    "collapsed": true
   },
   "outputs": [],
   "source": [
    "pred_all = model_svc.predict(scalealldbVecs)"
   ]
  },
  {
   "cell_type": "code",
   "execution_count": 802,
   "metadata": {
    "collapsed": true
   },
   "outputs": [],
   "source": [
    "#save prediction with label\n",
    "output = df_all.copy()\n",
    "output['semi_label'] = pred_all\n",
    "output.to_csv( \"semi_svc78%_prediction.csv\", index=False )"
   ]
  },
  {
   "cell_type": "code",
   "execution_count": 807,
   "metadata": {},
   "outputs": [
    {
     "data": {
      "text/plain": [
       " 1.0    4235\n",
       "-1.0    2326\n",
       "Name: semi_label, dtype: int64"
      ]
     },
     "execution_count": 807,
     "metadata": {},
     "output_type": "execute_result"
    }
   ],
   "source": [
    "output['semi_label'].value_counts()"
   ]
  },
  {
   "cell_type": "code",
   "execution_count": null,
   "metadata": {
    "collapsed": true
   },
   "outputs": [],
   "source": []
  }
 ],
 "metadata": {
  "kernelspec": {
   "display_name": "Python 3",
   "language": "python",
   "name": "python3"
  },
  "language_info": {
   "codemirror_mode": {
    "name": "ipython",
    "version": 3
   },
   "file_extension": ".py",
   "mimetype": "text/x-python",
   "name": "python",
   "nbconvert_exporter": "python",
   "pygments_lexer": "ipython3",
   "version": "3.6.3"
  }
 },
 "nbformat": 4,
 "nbformat_minor": 2
}
